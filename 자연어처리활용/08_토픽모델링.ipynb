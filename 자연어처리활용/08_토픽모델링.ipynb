{
 "cells": [
  {
   "cell_type": "markdown",
   "metadata": {},
   "source": [
    "# 토픽 모델링(Topic Modeling)\n",
    "#### 토픽(Topic)은 한국어로는 주제라고 한다. \n",
    "#### 토픽 모델링(Topic Modeling)이란 기계 학습 및 자연어 처리 분야에서 토픽이라는 문서 집합의 추상적인 주제를 발견하기 위한 통계적 모델 중 하나로, \n",
    "\n",
    "#### 텍스트 본문의 숨겨진 의미 구조를 발견하기 위해 사용되는 텍스트 마이닝 기법이다."
   ]
  },
  {
   "cell_type": "markdown",
   "metadata": {},
   "source": [
    "## [1] TF-IDF(Term Frequency-Inverse Document Frequency) : 단어 빈도-역 문서 빈도\n",
    "TF-IDF(Term Frequency - Inverse Document Frequency)는 정보 검색과 텍스트 마이닝에서 이용하는 가중치로, 여러 문서로 이루어진 문서군이 있을 때 어떤 단어가 특정 문서 내에서 얼마나 중요한 것인지를 나타내는 통계적 수치이다. 문서의 핵심어를 추출하거나, 검색 엔진에서 검색 결과의 순위를 결정하거나, 문서들 사이의 비슷한 정도를 구하는 등의 용도로 사용할 수 있다."
   ]
  },
  {
   "cell_type": "code",
   "execution_count": 1,
   "metadata": {},
   "outputs": [],
   "source": [
    "import pandas as pd # 데이터프레임 사용을 위해\n",
    "import numpy as np\n",
    "from math import log # IDF 계산을 위해"
   ]
  },
  {
   "cell_type": "code",
   "execution_count": 2,
   "metadata": {},
   "outputs": [],
   "source": [
    "docs = [\n",
    "  '먹고 싶은 사과',\n",
    "  '먹고 싶은 바나나',\n",
    "  '길고 노란 바나나 바나나',\n",
    "  '저는 과일이 좋아요'\n",
    "] \n",
    "vocab = list(set(w for doc in docs for w in doc.split()))\n",
    "vocab.sort()"
   ]
  },
  {
   "cell_type": "code",
   "execution_count": 3,
   "metadata": {},
   "outputs": [],
   "source": [
    "N = len(docs) # 총 문서의 수\n",
    "\n",
    "def tf(t, d):  # 특정 문서 d에서의 특정 단어 t의 등장 횟수\n",
    "    return d.count(t)\n",
    "\n",
    "def idf(t):  # df(t):특정 단어 t가 등장한 문서의 수,idf(t):df(t)의 역수, log는 N이 커지면 값이 기하급수로 늘어나는걸 방지,분모 1은 df가 0일 경우 대비\n",
    "    df = 0\n",
    "    for doc in docs:\n",
    "        df += t in doc\n",
    "    return log(N/(df + 1))\n",
    "\n",
    "def tfidf(t, d): # tf(t,d)와 idf(t)를 곱한 값\n",
    "    return tf(t,d)* idf(t)"
   ]
  },
  {
   "cell_type": "code",
   "execution_count": 4,
   "metadata": {},
   "outputs": [
    {
     "data": {
      "text/html": [
       "<div>\n",
       "<style scoped>\n",
       "    .dataframe tbody tr th:only-of-type {\n",
       "        vertical-align: middle;\n",
       "    }\n",
       "\n",
       "    .dataframe tbody tr th {\n",
       "        vertical-align: top;\n",
       "    }\n",
       "\n",
       "    .dataframe thead th {\n",
       "        text-align: right;\n",
       "    }\n",
       "</style>\n",
       "<table border=\"1\" class=\"dataframe\">\n",
       "  <thead>\n",
       "    <tr style=\"text-align: right;\">\n",
       "      <th></th>\n",
       "      <th>과일이</th>\n",
       "      <th>길고</th>\n",
       "      <th>노란</th>\n",
       "      <th>먹고</th>\n",
       "      <th>바나나</th>\n",
       "      <th>사과</th>\n",
       "      <th>싶은</th>\n",
       "      <th>저는</th>\n",
       "      <th>좋아요</th>\n",
       "    </tr>\n",
       "  </thead>\n",
       "  <tbody>\n",
       "    <tr>\n",
       "      <th>0</th>\n",
       "      <td>0</td>\n",
       "      <td>0</td>\n",
       "      <td>0</td>\n",
       "      <td>1</td>\n",
       "      <td>0</td>\n",
       "      <td>1</td>\n",
       "      <td>1</td>\n",
       "      <td>0</td>\n",
       "      <td>0</td>\n",
       "    </tr>\n",
       "    <tr>\n",
       "      <th>1</th>\n",
       "      <td>0</td>\n",
       "      <td>0</td>\n",
       "      <td>0</td>\n",
       "      <td>1</td>\n",
       "      <td>1</td>\n",
       "      <td>0</td>\n",
       "      <td>1</td>\n",
       "      <td>0</td>\n",
       "      <td>0</td>\n",
       "    </tr>\n",
       "    <tr>\n",
       "      <th>2</th>\n",
       "      <td>0</td>\n",
       "      <td>1</td>\n",
       "      <td>1</td>\n",
       "      <td>0</td>\n",
       "      <td>2</td>\n",
       "      <td>0</td>\n",
       "      <td>0</td>\n",
       "      <td>0</td>\n",
       "      <td>0</td>\n",
       "    </tr>\n",
       "    <tr>\n",
       "      <th>3</th>\n",
       "      <td>1</td>\n",
       "      <td>0</td>\n",
       "      <td>0</td>\n",
       "      <td>0</td>\n",
       "      <td>0</td>\n",
       "      <td>0</td>\n",
       "      <td>0</td>\n",
       "      <td>1</td>\n",
       "      <td>1</td>\n",
       "    </tr>\n",
       "  </tbody>\n",
       "</table>\n",
       "</div>"
      ],
      "text/plain": [
       "   과일이  길고  노란  먹고  바나나  사과  싶은  저는  좋아요\n",
       "0    0   0   0   1    0   1   1   0    0\n",
       "1    0   0   0   1    1   0   1   0    0\n",
       "2    0   1   1   0    2   0   0   0    0\n",
       "3    1   0   0   0    0   0   0   1    1"
      ]
     },
     "execution_count": 4,
     "metadata": {},
     "output_type": "execute_result"
    }
   ],
   "source": [
    "# Document-Term Matrix(DTM) : 문서에서 등장하는 각 단어들의 빈도를 행렬로 표현\n",
    "result = []\n",
    "for i in range(N):\n",
    "    result.append([])\n",
    "    d = docs[i]\n",
    "    for j in range(len(vocab)):\n",
    "        t = vocab[j]        \n",
    "        result[-1].append(tf(t, d))\n",
    "\n",
    "tf_ = pd.DataFrame(result, columns = vocab)\n",
    "tf_"
   ]
  },
  {
   "cell_type": "code",
   "execution_count": 5,
   "metadata": {},
   "outputs": [
    {
     "data": {
      "text/html": [
       "<div>\n",
       "<style scoped>\n",
       "    .dataframe tbody tr th:only-of-type {\n",
       "        vertical-align: middle;\n",
       "    }\n",
       "\n",
       "    .dataframe tbody tr th {\n",
       "        vertical-align: top;\n",
       "    }\n",
       "\n",
       "    .dataframe thead th {\n",
       "        text-align: right;\n",
       "    }\n",
       "</style>\n",
       "<table border=\"1\" class=\"dataframe\">\n",
       "  <thead>\n",
       "    <tr style=\"text-align: right;\">\n",
       "      <th></th>\n",
       "      <th>IDF</th>\n",
       "    </tr>\n",
       "  </thead>\n",
       "  <tbody>\n",
       "    <tr>\n",
       "      <th>과일이</th>\n",
       "      <td>0.693147</td>\n",
       "    </tr>\n",
       "    <tr>\n",
       "      <th>길고</th>\n",
       "      <td>0.693147</td>\n",
       "    </tr>\n",
       "    <tr>\n",
       "      <th>노란</th>\n",
       "      <td>0.693147</td>\n",
       "    </tr>\n",
       "    <tr>\n",
       "      <th>먹고</th>\n",
       "      <td>0.287682</td>\n",
       "    </tr>\n",
       "    <tr>\n",
       "      <th>바나나</th>\n",
       "      <td>0.287682</td>\n",
       "    </tr>\n",
       "    <tr>\n",
       "      <th>사과</th>\n",
       "      <td>0.693147</td>\n",
       "    </tr>\n",
       "    <tr>\n",
       "      <th>싶은</th>\n",
       "      <td>0.287682</td>\n",
       "    </tr>\n",
       "    <tr>\n",
       "      <th>저는</th>\n",
       "      <td>0.693147</td>\n",
       "    </tr>\n",
       "    <tr>\n",
       "      <th>좋아요</th>\n",
       "      <td>0.693147</td>\n",
       "    </tr>\n",
       "  </tbody>\n",
       "</table>\n",
       "</div>"
      ],
      "text/plain": [
       "          IDF\n",
       "과일이  0.693147\n",
       "길고   0.693147\n",
       "노란   0.693147\n",
       "먹고   0.287682\n",
       "바나나  0.287682\n",
       "사과   0.693147\n",
       "싶은   0.287682\n",
       "저는   0.693147\n",
       "좋아요  0.693147"
      ]
     },
     "execution_count": 5,
     "metadata": {},
     "output_type": "execute_result"
    }
   ],
   "source": [
    "result = []\n",
    "for j in range(len(vocab)):\n",
    "    t = vocab[j]\n",
    "    result.append(idf(t))\n",
    "\n",
    "idf_ = pd.DataFrame(result, index = vocab, columns = [\"IDF\"])\n",
    "idf_"
   ]
  },
  {
   "cell_type": "code",
   "execution_count": 6,
   "metadata": {},
   "outputs": [
    {
     "data": {
      "text/html": [
       "<div>\n",
       "<style scoped>\n",
       "    .dataframe tbody tr th:only-of-type {\n",
       "        vertical-align: middle;\n",
       "    }\n",
       "\n",
       "    .dataframe tbody tr th {\n",
       "        vertical-align: top;\n",
       "    }\n",
       "\n",
       "    .dataframe thead th {\n",
       "        text-align: right;\n",
       "    }\n",
       "</style>\n",
       "<table border=\"1\" class=\"dataframe\">\n",
       "  <thead>\n",
       "    <tr style=\"text-align: right;\">\n",
       "      <th></th>\n",
       "      <th>과일이</th>\n",
       "      <th>길고</th>\n",
       "      <th>노란</th>\n",
       "      <th>먹고</th>\n",
       "      <th>바나나</th>\n",
       "      <th>사과</th>\n",
       "      <th>싶은</th>\n",
       "      <th>저는</th>\n",
       "      <th>좋아요</th>\n",
       "    </tr>\n",
       "  </thead>\n",
       "  <tbody>\n",
       "    <tr>\n",
       "      <th>0</th>\n",
       "      <td>0.000000</td>\n",
       "      <td>0.000000</td>\n",
       "      <td>0.000000</td>\n",
       "      <td>0.287682</td>\n",
       "      <td>0.000000</td>\n",
       "      <td>0.693147</td>\n",
       "      <td>0.287682</td>\n",
       "      <td>0.000000</td>\n",
       "      <td>0.000000</td>\n",
       "    </tr>\n",
       "    <tr>\n",
       "      <th>1</th>\n",
       "      <td>0.000000</td>\n",
       "      <td>0.000000</td>\n",
       "      <td>0.000000</td>\n",
       "      <td>0.287682</td>\n",
       "      <td>0.287682</td>\n",
       "      <td>0.000000</td>\n",
       "      <td>0.287682</td>\n",
       "      <td>0.000000</td>\n",
       "      <td>0.000000</td>\n",
       "    </tr>\n",
       "    <tr>\n",
       "      <th>2</th>\n",
       "      <td>0.000000</td>\n",
       "      <td>0.693147</td>\n",
       "      <td>0.693147</td>\n",
       "      <td>0.000000</td>\n",
       "      <td>0.575364</td>\n",
       "      <td>0.000000</td>\n",
       "      <td>0.000000</td>\n",
       "      <td>0.000000</td>\n",
       "      <td>0.000000</td>\n",
       "    </tr>\n",
       "    <tr>\n",
       "      <th>3</th>\n",
       "      <td>0.693147</td>\n",
       "      <td>0.000000</td>\n",
       "      <td>0.000000</td>\n",
       "      <td>0.000000</td>\n",
       "      <td>0.000000</td>\n",
       "      <td>0.000000</td>\n",
       "      <td>0.000000</td>\n",
       "      <td>0.693147</td>\n",
       "      <td>0.693147</td>\n",
       "    </tr>\n",
       "  </tbody>\n",
       "</table>\n",
       "</div>"
      ],
      "text/plain": [
       "        과일이        길고        노란        먹고       바나나        사과        싶은  \\\n",
       "0  0.000000  0.000000  0.000000  0.287682  0.000000  0.693147  0.287682   \n",
       "1  0.000000  0.000000  0.000000  0.287682  0.287682  0.000000  0.287682   \n",
       "2  0.000000  0.693147  0.693147  0.000000  0.575364  0.000000  0.000000   \n",
       "3  0.693147  0.000000  0.000000  0.000000  0.000000  0.000000  0.000000   \n",
       "\n",
       "         저는       좋아요  \n",
       "0  0.000000  0.000000  \n",
       "1  0.000000  0.000000  \n",
       "2  0.000000  0.000000  \n",
       "3  0.693147  0.693147  "
      ]
     },
     "execution_count": 6,
     "metadata": {},
     "output_type": "execute_result"
    }
   ],
   "source": [
    "result = []\n",
    "for i in range(N):\n",
    "    result.append([])\n",
    "    d = docs[i]\n",
    "    for j in range(len(vocab)):\n",
    "        t = vocab[j]\n",
    "\n",
    "        result[-1].append(tfidf(t,d))\n",
    "\n",
    "tfidf_ = pd.DataFrame(result, columns = vocab)\n",
    "tfidf_\n",
    "\n",
    "# TF-IDF는 모든 문서에서 자주 등장하는 단어는 중요도가 낮다고 판단하며, 특정 문서에서만 자주 등장하는 단어는 중요도가 높다고 판단한다 \n",
    "# TF-IDF 값이 낮으면 중요도가 낮은 것이며, TF-IDF 값이 크면 중요도가 큰 것. 즉, the나 a와 같이 불용어의 경우에는 모든 문서에 자주 \n",
    "# 등장하기 마련이기 때문에 자연스럽게 불용어의 TF-IDF의 값은 다른 단어의 TF-IDF에 비해서 낮아지게 된다"
   ]
  },
  {
   "cell_type": "markdown",
   "metadata": {},
   "source": [
    "### 사이킷런을 이용한 DTM과 TF-IDF"
   ]
  },
  {
   "cell_type": "code",
   "execution_count": 7,
   "metadata": {},
   "outputs": [
    {
     "name": "stdout",
     "output_type": "stream",
     "text": [
      "[[0 1 0 1 0 1 0 1 1]\n",
      " [0 0 1 0 0 0 0 1 0]\n",
      " [1 0 0 0 1 0 1 0 0]]\n",
      "{'you': 7, 'know': 1, 'want': 5, 'your': 8, 'love': 3, 'like': 2, 'what': 6, 'should': 4, 'do': 0}\n"
     ]
    }
   ],
   "source": [
    "from sklearn.feature_extraction.text import CountVectorizer\n",
    "corpus = [\n",
    "    'you know I want your love',\n",
    "    'I like you',\n",
    "    'what should I do ',    \n",
    "]\n",
    "vector = CountVectorizer()\n",
    "print(vector.fit_transform(corpus).toarray()) # 코퍼스로부터 각 단어의 빈도 수를 기록한다.\n",
    "print(vector.vocabulary_)                     # 각 단어의 인덱스가 어떻게 부여되었는지를 보여준다 , 한개의 문자는 인덱스를 만들지 않음"
   ]
  },
  {
   "cell_type": "code",
   "execution_count": 8,
   "metadata": {},
   "outputs": [
    {
     "name": "stdout",
     "output_type": "stream",
     "text": [
      "[[0.         0.46735098 0.         0.46735098 0.         0.46735098\n",
      "  0.         0.35543247 0.46735098]\n",
      " [0.         0.         0.79596054 0.         0.         0.\n",
      "  0.         0.60534851 0.        ]\n",
      " [0.57735027 0.         0.         0.         0.57735027 0.\n",
      "  0.57735027 0.         0.        ]]\n",
      "{'you': 7, 'know': 1, 'want': 5, 'your': 8, 'love': 3, 'like': 2, 'what': 6, 'should': 4, 'do': 0}\n"
     ]
    }
   ],
   "source": [
    "from sklearn.feature_extraction.text import TfidfVectorizer\n",
    "corpus = [\n",
    "    'you know I want your love',\n",
    "    'I like you',\n",
    "    'what should I do ',    \n",
    "]\n",
    "tfidfv = TfidfVectorizer().fit(corpus)\n",
    "print(tfidfv.transform(corpus).toarray())\n",
    "print(tfidfv.vocabulary_)"
   ]
  },
  {
   "cell_type": "markdown",
   "metadata": {},
   "source": [
    "## [2] 잠재 의미 분석(Latent Semantic Analysis, LSA)\n",
    "SA는 기본적으로 DTM이나 TF-IDF 행렬에 절단된 SVD(truncated SVD)를 사용하여 차원을 축소시키고, 단어들의 잠재적인 의미를 끌어낸다"
   ]
  },
  {
   "cell_type": "code",
   "execution_count": 9,
   "metadata": {},
   "outputs": [],
   "source": [
    "from sklearn.datasets import fetch_20newsgroups"
   ]
  },
  {
   "cell_type": "code",
   "execution_count": 10,
   "metadata": {},
   "outputs": [
    {
     "data": {
      "text/plain": [
       "11314"
      ]
     },
     "execution_count": 10,
     "metadata": {},
     "output_type": "execute_result"
    }
   ],
   "source": [
    "# wenty Newsgroups 뉴스 그룹 데이터 읽어오기 \n",
    "dataset = fetch_20newsgroups(shuffle=True, random_state=1, remove=('headers', 'footers', 'quotes'))\n",
    "documents = dataset.data   # list\n",
    "len(documents) "
   ]
  },
  {
   "cell_type": "code",
   "execution_count": 11,
   "metadata": {},
   "outputs": [
    {
     "data": {
      "text/plain": [
       "\"\\n\\n\\n\\n\\n\\n\\nYeah, do you expect people to read the FAQ, etc. and actually accept hard\\natheism?  No, you need a little leap of faith, Jimmy.  Your logic runs out\\nof steam!\\n\\n\\n\\n\\n\\n\\n\\nJim,\\n\\nSorry I can't pity you, Jim.  And I'm sorry that you have these feelings of\\ndenial about the faith you need to get by.  Oh well, just pretend that it will\\nall end happily ever after anyway.  Maybe if you start a new newsgroup,\\nalt.atheist.hard, you won't be bummin' so much?\\n\\n\\n\\n\\n\\n\\nBye-Bye, Big Jim.  Don't forget your Flintstone's Chewables!  :) \\n--\\nBake Timmons, III\""
      ]
     },
     "execution_count": 11,
     "metadata": {},
     "output_type": "execute_result"
    }
   ],
   "source": [
    "documents[1]"
   ]
  },
  {
   "cell_type": "code",
   "execution_count": 12,
   "metadata": {},
   "outputs": [
    {
     "name": "stdout",
     "output_type": "stream",
     "text": [
      "['alt.atheism', 'comp.graphics', 'comp.os.ms-windows.misc', 'comp.sys.ibm.pc.hardware', 'comp.sys.mac.hardware', 'comp.windows.x', 'misc.forsale', 'rec.autos', 'rec.motorcycles', 'rec.sport.baseball', 'rec.sport.hockey', 'sci.crypt', 'sci.electronics', 'sci.med', 'sci.space', 'soc.religion.christian', 'talk.politics.guns', 'talk.politics.mideast', 'talk.politics.misc', 'talk.religion.misc']\n"
     ]
    }
   ],
   "source": [
    "print(dataset.target_names) # 20개의 topic"
   ]
  },
  {
   "cell_type": "markdown",
   "metadata": {},
   "source": [
    "### 텍스트 전처리"
   ]
  },
  {
   "cell_type": "code",
   "execution_count": 13,
   "metadata": {},
   "outputs": [],
   "source": [
    "news_df = pd.DataFrame({'document':documents})\n",
    "# 특수 문자 제거\n",
    "news_df['clean_doc'] = news_df['document'].str.replace(\"[^a-zA-Z]\", \" \")\n",
    "# 길이가 3이하인 단어는 제거 (길이가 짧은 단어 제거)\n",
    "news_df['clean_doc'] = news_df['clean_doc'].apply(lambda x: ' '.join([w for w in x.split() if len(w)>3]))\n",
    "# 전체 단어에 대한 소문자 변환\n",
    "news_df['clean_doc'] = news_df['clean_doc'].apply(lambda x: x.lower())"
   ]
  },
  {
   "cell_type": "code",
   "execution_count": 14,
   "metadata": {},
   "outputs": [
    {
     "data": {
      "text/plain": [
       "'yeah expect people read actually accept hard atheism need little leap faith jimmy your logic runs steam sorry pity sorry that have these feelings denial about faith need well just pretend that will happily ever after anyway maybe start newsgroup atheist hard bummin much forget your flintstone chewables bake timmons'"
      ]
     },
     "execution_count": 14,
     "metadata": {},
     "output_type": "execute_result"
    }
   ],
   "source": [
    "news_df['clean_doc'][1]"
   ]
  },
  {
   "cell_type": "code",
   "execution_count": 15,
   "metadata": {},
   "outputs": [],
   "source": [
    "from nltk.corpus import stopwords\n",
    "stop_words = stopwords.words('english') # NLTK로부터 불용어를 받아옵니다.\n",
    "tokenized_doc = news_df['clean_doc'].apply(lambda x: x.split()) # 토큰화\n",
    "tokenized_doc = tokenized_doc.apply(lambda x: [item for item in x if item not in stop_words])\n",
    "# 불용어를 제거"
   ]
  },
  {
   "cell_type": "code",
   "execution_count": 16,
   "metadata": {},
   "outputs": [
    {
     "name": "stdout",
     "output_type": "stream",
     "text": [
      "['yeah', 'expect', 'people', 'read', 'actually', 'accept', 'hard', 'atheism', 'need', 'little', 'leap', 'faith', 'jimmy', 'logic', 'runs', 'steam', 'sorry', 'pity', 'sorry', 'feelings', 'denial', 'faith', 'need', 'well', 'pretend', 'happily', 'ever', 'anyway', 'maybe', 'start', 'newsgroup', 'atheist', 'hard', 'bummin', 'much', 'forget', 'flintstone', 'chewables', 'bake', 'timmons']\n"
     ]
    }
   ],
   "source": [
    "print(tokenized_doc[1])"
   ]
  },
  {
   "cell_type": "markdown",
   "metadata": {},
   "source": [
    "### TF-IDF 행렬 만들기"
   ]
  },
  {
   "cell_type": "code",
   "execution_count": 17,
   "metadata": {},
   "outputs": [],
   "source": [
    "# 역토큰화 (토큰화 작업을 역으로 되돌림)\n",
    "detokenized_doc = []\n",
    "for i in range(len(news_df)):\n",
    "    t = ' '.join(tokenized_doc[i])\n",
    "    detokenized_doc.append(t)\n",
    "\n",
    "news_df['clean_doc'] = detokenized_doc"
   ]
  },
  {
   "cell_type": "code",
   "execution_count": 18,
   "metadata": {},
   "outputs": [
    {
     "data": {
      "text/plain": [
       "'yeah expect people read actually accept hard atheism need little leap faith jimmy logic runs steam sorry pity sorry feelings denial faith need well pretend happily ever anyway maybe start newsgroup atheist hard bummin much forget flintstone chewables bake timmons'"
      ]
     },
     "execution_count": 18,
     "metadata": {},
     "output_type": "execute_result"
    }
   ],
   "source": [
    "news_df['clean_doc'][1]"
   ]
  },
  {
   "cell_type": "code",
   "execution_count": 19,
   "metadata": {},
   "outputs": [
    {
     "data": {
      "text/plain": [
       "(11314, 1000)"
      ]
     },
     "execution_count": 19,
     "metadata": {},
     "output_type": "execute_result"
    }
   ],
   "source": [
    "from sklearn.feature_extraction.text import TfidfVectorizer\n",
    "\n",
    "vectorizer = TfidfVectorizer(stop_words='english', \n",
    "max_features= 1000, # 상위 1,000개의 단어를 보존 \n",
    "max_df = 0.5, \n",
    "smooth_idf=True)\n",
    "\n",
    "X = vectorizer.fit_transform(news_df['clean_doc'])\n",
    "X.shape # TF-IDF 행렬의 크기 확인"
   ]
  },
  {
   "cell_type": "markdown",
   "metadata": {},
   "source": [
    "### 토픽 모델링(Topic Modeling)"
   ]
  },
  {
   "cell_type": "code",
   "execution_count": 20,
   "metadata": {},
   "outputs": [
    {
     "data": {
      "text/plain": [
       "20"
      ]
     },
     "execution_count": 20,
     "metadata": {},
     "output_type": "execute_result"
    }
   ],
   "source": [
    "from sklearn.decomposition import TruncatedSVD\n",
    "svd_model = TruncatedSVD(n_components=20, algorithm='randomized', n_iter=100, random_state=122)\n",
    "svd_model.fit(X)\n",
    "len(svd_model.components_)   # 뉴스그룹 데이터가 20개의 카테고리를 갖고있었기 때문에, 20개의 토픽을 가졌다고 가정하고 토픽 모델링"
   ]
  },
  {
   "cell_type": "code",
   "execution_count": 21,
   "metadata": {},
   "outputs": [
    {
     "data": {
      "text/plain": [
       "(20, 1000)"
      ]
     },
     "execution_count": 21,
     "metadata": {},
     "output_type": "execute_result"
    }
   ],
   "source": [
    "np.shape(svd_model.components_)  # LSA에서 V.T에 해당, 토픽의 수 t(20), 단어수(1000)"
   ]
  },
  {
   "cell_type": "code",
   "execution_count": 22,
   "metadata": {},
   "outputs": [
    {
     "name": "stdout",
     "output_type": "stream",
     "text": [
      "Topic 1: [('like', 0.21378), ('know', 0.20032), ('people', 0.19317), ('think', 0.17807), ('good', 0.15105)]\n",
      "Topic 2: [('thanks', 0.3292), ('windows', 0.29094), ('card', 0.18016), ('drive', 0.1739), ('mail', 0.15126)]\n",
      "Topic 3: [('game', 0.37161), ('team', 0.32553), ('year', 0.28204), ('games', 0.25416), ('season', 0.18464)]\n",
      "Topic 4: [('drive', 0.52804), ('scsi', 0.20035), ('disk', 0.15514), ('hard', 0.15506), ('card', 0.14041)]\n",
      "Topic 5: [('windows', 0.4052), ('file', 0.25609), ('window', 0.18057), ('files', 0.1619), ('program', 0.1401)]\n",
      "Topic 6: [('chip', 0.16138), ('government', 0.16026), ('mail', 0.15625), ('space', 0.1505), ('information', 0.13575)]\n",
      "Topic 7: [('like', 0.67109), ('bike', 0.14268), ('know', 0.11428), ('chip', 0.11058), ('sounds', 0.10398)]\n",
      "Topic 8: [('card', 0.45115), ('sale', 0.21607), ('video', 0.21391), ('monitor', 0.14913), ('offer', 0.14872)]\n",
      "Topic 9: [('know', 0.44979), ('card', 0.35491), ('chip', 0.17206), ('video', 0.15184), ('government', 0.15053)]\n",
      "Topic 10: [('good', 0.41591), ('know', 0.23083), ('time', 0.18988), ('bike', 0.11332), ('jesus', 0.09419)]\n",
      "Topic 11: [('think', 0.78338), ('chip', 0.10778), ('good', 0.10654), ('thanks', 0.08962), ('clipper', 0.07873)]\n",
      "Topic 12: [('thanks', 0.37328), ('problem', 0.21778), ('right', 0.21728), ('good', 0.21301), ('bike', 0.21102)]\n",
      "Topic 13: [('good', 0.3669), ('people', 0.33724), ('windows', 0.28297), ('know', 0.25208), ('file', 0.18138)]\n",
      "Topic 14: [('space', 0.39916), ('think', 0.23326), ('know', 0.17933), ('nasa', 0.15226), ('problem', 0.12932)]\n",
      "Topic 15: [('space', 0.30963), ('good', 0.30091), ('card', 0.2162), ('people', 0.20295), ('time', 0.15889)]\n",
      "Topic 16: [('people', 0.46931), ('problem', 0.20916), ('window', 0.16015), ('time', 0.13971), ('game', 0.13578)]\n",
      "Topic 17: [('time', 0.34532), ('bike', 0.26907), ('right', 0.26148), ('windows', 0.19697), ('file', 0.19177)]\n",
      "Topic 18: [('time', 0.60055), ('problem', 0.15235), ('file', 0.13682), ('think', 0.13024), ('israel', 0.1093)]\n",
      "Topic 19: [('file', 0.45058), ('need', 0.25892), ('card', 0.18726), ('files', 0.1769), ('problem', 0.15143)]\n",
      "Topic 20: [('problem', 0.32669), ('file', 0.2618), ('thanks', 0.23506), ('used', 0.19363), ('space', 0.13747)]\n"
     ]
    }
   ],
   "source": [
    "terms = vectorizer.get_feature_names() # 단어 집합. 1,000개의 단어가 저장됨.\n",
    "\n",
    "# 값이 큰 5개의 값을 찾아서 단어로 출력\n",
    "def get_topics(components, feature_names, n=5):\n",
    "    for idx, topic in enumerate(components):\n",
    "        print(\"Topic %d:\" % (idx+1), [(feature_names[i], topic[i].round(5)) for i in topic.argsort()[:-n - 1:-1]])\n",
    "\n",
    "get_topics(svd_model.components_,terms)\n",
    "\n",
    "# 각 20개의 행의 각 1,000개의 열 중 가장 값이 큰 5개의 값을 찾아서 단어로 출력"
   ]
  },
  {
   "cell_type": "code",
   "execution_count": 23,
   "metadata": {},
   "outputs": [
    {
     "data": {
      "text/plain": [
       "\"\\n\\n\\n\\n\\tI'd like to see this info as well.  As for wavelength, I think\\nyou're primarily going to find two - 880 nM +/- a bit, and/or 950 nM\\n+/- a bit.  Usually it is about 10 nM either way.  The two most common\\nI have seen were 880 and 950 but I have also heard of 890 and 940.\\nI'm not sure that the 10 nM one way or another will make a great deal of\\ndifference.\\n\\n\\tAnother suggestion - find a brand of TV that uses an IR remote,\\nand go look at the SAMS photofact for it.  You can often find some very\\ndetailed schematics and parts list for not only the receiver but the\\ntransmitter as well, including carrier freq. specs. and tone decoding\\nspecs. if the system uses that.\""
      ]
     },
     "execution_count": 23,
     "metadata": {},
     "output_type": "execute_result"
    }
   ],
   "source": [
    "documents[20]"
   ]
  },
  {
   "cell_type": "code",
   "execution_count": 24,
   "metadata": {},
   "outputs": [],
   "source": [
    "# LSA의 단점 : SVD의 특성상 이미 계산된 LSA에 새로운 데이터를 추가하여 계산하려고하면 보통 처음부터 다시 계산해야 한다. \n",
    "# 즉, 새로운 정보에 대해 업데이트가 어렵다. "
   ]
  },
  {
   "cell_type": "markdown",
   "metadata": {},
   "source": [
    "## [3] 잠재 디리클레 할당(Latent Dirichlet Allocation, LDA)]\n",
    "토픽 모델링의 대표적인 알고리즘, LDA는 문서들은 토픽들의 혼합으로 구성되어져 있으며, 토픽들은 확률 분포에 기반하여 단어들을 생성한다고 가정한다.<br>\n",
    "데이터가 주어지면, LDA는 문서가 생성되던 과정을 역추적 한다. <br>\n",
    "LSA : DTM을 차원 축소 하여 축소 차원에서 근접 단어들을 토픽으로 묶는다.  <br>\n",
    "LDA : 단어가 특정 토픽에 존재할 확률과 문서에 특정 토픽이 존재할 확률을 결합확률로 추정하여 토픽을 추출한다."
   ]
  },
  {
   "cell_type": "code",
   "execution_count": 25,
   "metadata": {},
   "outputs": [
    {
     "name": "stdout",
     "output_type": "stream",
     "text": [
      "(11314,)\n"
     ]
    },
    {
     "data": {
      "text/plain": [
       "0    [well, sure, story, seem, biased, disagree, st...\n",
       "1    [yeah, expect, people, read, actually, accept,...\n",
       "2    [although, realize, principle, strongest, poin...\n",
       "3    [notwithstanding, legitimate, fuss, proposal, ...\n",
       "4    [well, change, scoring, playoff, pool, unfortu...\n",
       "Name: clean_doc, dtype: object"
      ]
     },
     "execution_count": 25,
     "metadata": {},
     "output_type": "execute_result"
    }
   ],
   "source": [
    "print(tokenized_doc.shape)\n",
    "tokenized_doc[:5]"
   ]
  },
  {
   "cell_type": "code",
   "execution_count": 26,
   "metadata": {},
   "outputs": [
    {
     "name": "stdout",
     "output_type": "stream",
     "text": [
      "[(52, 1), (55, 1), (56, 1), (57, 1), (58, 1), (59, 1), (60, 1), (61, 1), (62, 1), (63, 1), (64, 1), (65, 1), (66, 2), (67, 1), (68, 1), (69, 1), (70, 1), (71, 2), (72, 1), (73, 1), (74, 1), (75, 1), (76, 1), (77, 1), (78, 2), (79, 1), (80, 1), (81, 1), (82, 1), (83, 1), (84, 1), (85, 2), (86, 1), (87, 1), (88, 1), (89, 1)]\n"
     ]
    }
   ],
   "source": [
    "# ! pip install gensim\n",
    "from gensim import corpora\n",
    "dictionary = corpora.Dictionary(tokenized_doc)\n",
    "corpus = [dictionary.doc2bow(text) for text in tokenized_doc] \n",
    "print(corpus[1]) # 두번째 뉴스 출력 ,  ( wordid, word_frequency)"
   ]
  },
  {
   "cell_type": "code",
   "execution_count": 27,
   "metadata": {},
   "outputs": [
    {
     "name": "stdout",
     "output_type": "stream",
     "text": [
      "faith\n"
     ]
    }
   ],
   "source": [
    "print(dictionary[66]) # faith는 2회 등장"
   ]
  },
  {
   "cell_type": "code",
   "execution_count": 28,
   "metadata": {},
   "outputs": [
    {
     "data": {
      "text/plain": [
       "64281"
      ]
     },
     "execution_count": 28,
     "metadata": {},
     "output_type": "execute_result"
    }
   ],
   "source": [
    "len(dictionary)"
   ]
  },
  {
   "cell_type": "markdown",
   "metadata": {},
   "source": [
    "#### LDA 모델 훈련시키기"
   ]
  },
  {
   "cell_type": "code",
   "execution_count": 29,
   "metadata": {},
   "outputs": [
    {
     "name": "stdout",
     "output_type": "stream",
     "text": [
      "(0, '0.009*\"price\" + 0.008*\"power\" + 0.008*\"used\" + 0.007*\"good\"')\n",
      "(1, '0.035*\"file\" + 0.025*\"output\" + 0.025*\"entry\" + 0.016*\"program\"')\n",
      "(2, '0.028*\"koresh\" + 0.015*\"batf\" + 0.015*\"compound\" + 0.008*\"cells\"')\n",
      "(3, '0.030*\"university\" + 0.027*\"health\" + 0.013*\"research\" + 0.012*\"water\"')\n",
      "(4, '0.017*\"jesus\" + 0.011*\"christian\" + 0.010*\"bible\" + 0.009*\"believe\"')\n",
      "(5, '0.026*\"pain\" + 0.021*\"disease\" + 0.020*\"medical\" + 0.020*\"patients\"')\n",
      "(6, '0.013*\"president\" + 0.011*\"armenian\" + 0.010*\"turkish\" + 0.008*\"armenians\"')\n",
      "(7, '0.019*\"game\" + 0.018*\"team\" + 0.013*\"year\" + 0.013*\"games\"')\n",
      "(8, '0.019*\"said\" + 0.012*\"went\" + 0.010*\"people\" + 0.009*\"came\"')\n",
      "(9, '0.018*\"space\" + 0.007*\"nasa\" + 0.005*\"national\" + 0.004*\"earth\"')\n",
      "(10, '0.025*\"printer\" + 0.019*\"myers\" + 0.016*\"print\" + 0.013*\"cover\"')\n",
      "(11, '0.066*\"drive\" + 0.043*\"disk\" + 0.042*\"scsi\" + 0.026*\"hard\"')\n",
      "(12, '0.014*\"encryption\" + 0.013*\"chip\" + 0.012*\"keys\" + 0.011*\"security\"')\n",
      "(13, '0.010*\"available\" + 0.008*\"file\" + 0.008*\"files\" + 0.008*\"software\"')\n",
      "(14, '0.011*\"cubs\" + 0.010*\"smokeless\" + 0.007*\"cellular\" + 0.007*\"cryptographic\"')\n",
      "(15, '0.011*\"judges\" + 0.010*\"exit\" + 0.009*\"prog\" + 0.009*\"hanging\"')\n",
      "(16, '0.020*\"would\" + 0.013*\"think\" + 0.013*\"like\" + 0.011*\"know\"')\n",
      "(17, '0.021*\"thanks\" + 0.018*\"please\" + 0.017*\"anyone\" + 0.015*\"know\"')\n",
      "(18, '0.021*\"israel\" + 0.016*\"jews\" + 0.013*\"israeli\" + 0.009*\"jewish\"')\n",
      "(19, '0.015*\"people\" + 0.007*\"would\" + 0.005*\"many\" + 0.005*\"government\"')\n"
     ]
    }
   ],
   "source": [
    "import gensim\n",
    "NUM_TOPICS = 20    #20개의 토픽, k=20\n",
    "ldamodel = gensim.models.ldamodel.LdaModel(corpus, num_topics = NUM_TOPICS, id2word=dictionary, passes=15) #  passes는 알고리즘의 동작 횟수\n",
    "topics = ldamodel.print_topics(num_words=4)   #  4개의 단어만 출력 \n",
    "for topic in topics:\n",
    "    print(topic)\n",
    "# 각 단어 앞에 붙은 수치는 단어의 해당 토픽에 대한 기여도    "
   ]
  },
  {
   "cell_type": "code",
   "execution_count": 30,
   "metadata": {},
   "outputs": [
    {
     "name": "stdout",
     "output_type": "stream",
     "text": [
      "[(0, '0.009*\"price\" + 0.008*\"power\" + 0.008*\"used\" + 0.007*\"good\" + 0.007*\"bike\" + 0.006*\"sale\" + 0.006*\"shipping\" + 0.005*\"ground\" + 0.005*\"engine\" + 0.005*\"cars\"'), (1, '0.035*\"file\" + 0.025*\"output\" + 0.025*\"entry\" + 0.016*\"program\" + 0.011*\"line\" + 0.011*\"rules\" + 0.011*\"build\" + 0.011*\"check\" + 0.010*\"section\" + 0.009*\"title\"'), (2, '0.028*\"koresh\" + 0.015*\"batf\" + 0.015*\"compound\" + 0.008*\"cells\" + 0.008*\"waco\" + 0.007*\"offense\" + 0.007*\"ticket\" + 0.006*\"reactions\" + 0.006*\"creed\" + 0.005*\"breaker\"'), (3, '0.030*\"university\" + 0.027*\"health\" + 0.013*\"research\" + 0.012*\"water\" + 0.011*\"april\" + 0.010*\"page\" + 0.009*\"cancer\" + 0.009*\"center\" + 0.009*\"medical\" + 0.009*\"conference\"'), (4, '0.017*\"jesus\" + 0.011*\"christian\" + 0.010*\"bible\" + 0.009*\"believe\" + 0.008*\"church\" + 0.008*\"christians\" + 0.007*\"faith\" + 0.007*\"christ\" + 0.007*\"religion\" + 0.006*\"true\"'), (5, '0.026*\"pain\" + 0.021*\"disease\" + 0.020*\"medical\" + 0.020*\"patients\" + 0.016*\"doctor\" + 0.015*\"gordon\" + 0.014*\"pitt\" + 0.013*\"banks\" + 0.013*\"surrender\" + 0.012*\"soon\"'), (6, '0.013*\"president\" + 0.011*\"armenian\" + 0.010*\"turkish\" + 0.008*\"armenians\" + 0.007*\"american\" + 0.007*\"government\" + 0.007*\"world\" + 0.006*\"turkey\" + 0.006*\"russian\" + 0.006*\"said\"'), (7, '0.019*\"game\" + 0.018*\"team\" + 0.013*\"year\" + 0.013*\"games\" + 0.012*\"play\" + 0.011*\"season\" + 0.009*\"players\" + 0.009*\"hockey\" + 0.008*\"league\" + 0.008*\"period\"'), (8, '0.019*\"said\" + 0.012*\"went\" + 0.010*\"people\" + 0.009*\"came\" + 0.008*\"know\" + 0.008*\"home\" + 0.008*\"told\" + 0.007*\"started\" + 0.007*\"took\" + 0.007*\"armenians\"'), (9, '0.018*\"space\" + 0.007*\"nasa\" + 0.005*\"national\" + 0.004*\"earth\" + 0.004*\"program\" + 0.004*\"launch\" + 0.004*\"research\" + 0.004*\"also\" + 0.004*\"data\" + 0.004*\"year\"'), (10, '0.025*\"printer\" + 0.019*\"myers\" + 0.016*\"print\" + 0.013*\"cover\" + 0.011*\"copies\" + 0.008*\"options\" + 0.008*\"green\" + 0.008*\"rider\" + 0.007*\"appears\" + 0.007*\"annual\"'), (11, '0.066*\"drive\" + 0.043*\"disk\" + 0.042*\"scsi\" + 0.026*\"hard\" + 0.022*\"drives\" + 0.020*\"controller\" + 0.017*\"floppy\" + 0.012*\"motherboard\" + 0.011*\"tape\" + 0.011*\"system\"'), (12, '0.014*\"encryption\" + 0.013*\"chip\" + 0.012*\"keys\" + 0.011*\"security\" + 0.011*\"clipper\" + 0.010*\"public\" + 0.009*\"privacy\" + 0.009*\"government\" + 0.009*\"system\" + 0.008*\"information\"'), (13, '0.010*\"available\" + 0.008*\"file\" + 0.008*\"files\" + 0.008*\"software\" + 0.007*\"window\" + 0.007*\"program\" + 0.007*\"version\" + 0.007*\"also\" + 0.007*\"windows\" + 0.007*\"data\"'), (14, '0.011*\"cubs\" + 0.010*\"smokeless\" + 0.007*\"cellular\" + 0.007*\"cryptographic\" + 0.007*\"hitter\" + 0.006*\"double\" + 0.006*\"fallacy\" + 0.006*\"pointer\" + 0.006*\"marc\" + 0.005*\"gear\"'), (15, '0.011*\"judges\" + 0.010*\"exit\" + 0.009*\"prog\" + 0.009*\"hanging\" + 0.007*\"tower\" + 0.006*\"lewis\" + 0.006*\"prison\" + 0.006*\"electric\" + 0.005*\"paradox\" + 0.005*\"vice\"'), (16, '0.020*\"would\" + 0.013*\"think\" + 0.013*\"like\" + 0.011*\"know\" + 0.009*\"time\" + 0.009*\"good\" + 0.008*\"well\" + 0.008*\"could\" + 0.008*\"much\" + 0.007*\"people\"'), (17, '0.021*\"thanks\" + 0.018*\"please\" + 0.017*\"anyone\" + 0.015*\"know\" + 0.015*\"would\" + 0.014*\"card\" + 0.011*\"mail\" + 0.011*\"windows\" + 0.011*\"problem\" + 0.010*\"like\"'), (18, '0.021*\"israel\" + 0.016*\"jews\" + 0.013*\"israeli\" + 0.009*\"jewish\" + 0.008*\"arab\" + 0.008*\"peace\" + 0.007*\"land\" + 0.004*\"palestinian\" + 0.004*\"arabs\" + 0.004*\"picture\"'), (19, '0.015*\"people\" + 0.007*\"would\" + 0.005*\"many\" + 0.005*\"government\" + 0.004*\"state\" + 0.004*\"right\" + 0.004*\"case\" + 0.004*\"even\" + 0.003*\"well\" + 0.003*\"rights\"')]\n"
     ]
    }
   ],
   "source": [
    "print(ldamodel.print_topics()) # 10개 단어를 출력"
   ]
  },
  {
   "cell_type": "markdown",
   "metadata": {},
   "source": [
    "#### 시각화"
   ]
  },
  {
   "cell_type": "code",
   "execution_count": 31,
   "metadata": {},
   "outputs": [],
   "source": [
    "# ! pip install pyLDAvis"
   ]
  },
  {
   "cell_type": "code",
   "execution_count": 32,
   "metadata": {},
   "outputs": [
    {
     "data": {
      "text/html": [
       "\n",
       "<link rel=\"stylesheet\" type=\"text/css\" href=\"https://cdn.rawgit.com/bmabey/pyLDAvis/files/ldavis.v1.0.0.css\">\n",
       "\n",
       "\n",
       "<div id=\"ldavis_el833214248115931607754309578\"></div>\n",
       "<script type=\"text/javascript\">\n",
       "\n",
       "var ldavis_el833214248115931607754309578_data = {\"mdsDat\": {\"x\": [-0.28113614326711583, -0.21552141390593013, -0.19254701771226343, -0.09255653961218765, -0.1515707119706882, -0.13409081495612493, -0.17046247402438341, -0.04119233681379357, 0.026898976024036878, -0.10542460060306859, -0.07857361739043897, -0.00865826304228166, -0.00193310560614586, 0.13815393017007688, 0.15726663524444473, 0.23466642428139983, 0.2326862373937823, 0.20114824224223288, 0.23797523140131183, 0.24487136214713687], \"y\": [0.04866147764627597, 0.10437519301936336, -0.1998740951454305, -0.03181080205835041, 0.10350294587977271, -0.11475246920306262, -0.15925149129795532, 0.17447663170647507, 0.0983170678619386, -0.11294214352428072, 0.1612872876969604, 0.19755900406787552, -0.0918355093556476, -0.13376651603040066, -0.038046259025086814, -0.007531497408256469, 0.006468500702274772, -0.015581514954828138, 0.004164195089835078, 0.006579994332528546], \"topics\": [1, 2, 3, 4, 5, 6, 7, 8, 9, 10, 11, 12, 13, 14, 15, 16, 17, 18, 19, 20], \"cluster\": [1, 1, 1, 1, 1, 1, 1, 1, 1, 1, 1, 1, 1, 1, 1, 1, 1, 1, 1, 1], \"Freq\": [23.33285903930664, 12.39017105102539, 11.649381637573242, 7.249053001403809, 5.743227005004883, 5.335368633270264, 5.248619079589844, 5.057027339935303, 4.556502342224121, 4.426878929138184, 3.3648934364318848, 2.9599459171295166, 2.7298190593719482, 1.4164830446243286, 1.1238129138946533, 0.8125948905944824, 0.7519563436508179, 0.7319537997245789, 0.6246020793914795, 0.494853675365448]}, \"tinfo\": {\"Term\": [\"file\", \"know\", \"drive\", \"would\", \"people\", \"said\", \"anyone\", \"thanks\", \"space\", \"hard\", \"program\", \"like\", \"think\", \"system\", \"disk\", \"jesus\", \"please\", \"game\", \"output\", \"windows\", \"year\", \"scsi\", \"data\", \"team\", \"entry\", \"university\", \"government\", \"believe\", \"good\", \"israel\", \"baseball\", \"ball\", \"braves\", \"bother\", \"hits\", \"homosexual\", \"pitcher\", \"hitting\", \"liar\", \"letting\", \"yankees\", \"ridiculous\", \"judging\", \"cares\", \"dodgers\", \"taste\", \"mormons\", \"heck\", \"orientation\", \"fool\", \"balls\", \"nasty\", \"yeah\", \"impressed\", \"screwed\", \"unto\", \"stimulus\", \"comfortable\", \"ingr\", \"jays\", \"hoping\", \"think\", \"stupid\", \"guess\", \"really\", \"thing\", \"better\", \"funny\", \"anyway\", \"pretty\", \"going\", \"maybe\", \"curious\", \"might\", \"spend\", \"enough\", \"much\", \"money\", \"would\", \"good\", \"something\", \"actually\", \"like\", \"know\", \"probably\", \"idea\", \"wonder\", \"sure\", \"getting\", \"take\", \"time\", \"well\", \"course\", \"could\", \"want\", \"make\", \"things\", \"even\", \"little\", \"still\", \"look\", \"though\", \"back\", \"people\", \"right\", \"since\", \"also\", \"work\", \"point\", \"many\", \"guns\", \"amendment\", \"constitution\", \"tobacco\", \"militia\", \"judas\", \"threat\", \"crimes\", \"sexual\", \"violent\", \"deaths\", \"quotes\", \"handguns\", \"homicide\", \"infections\", \"dogs\", \"handgun\", \"constitutional\", \"legally\", \"lawyer\", \"witnesses\", \"implies\", \"bloody\", \"genetic\", \"illness\", \"cure\", \"posters\", \"regulated\", \"adults\", \"victim\", \"drugs\", \"crime\", \"laws\", \"weapons\", \"criminal\", \"trial\", \"civil\", \"islam\", \"rights\", \"firearms\", \"property\", \"murder\", \"court\", \"drug\", \"police\", \"child\", \"social\", \"self\", \"among\", \"people\", \"cases\", \"state\", \"children\", \"government\", \"person\", \"human\", \"case\", \"evidence\", \"many\", \"control\", \"states\", \"right\", \"would\", \"anti\", \"without\", \"public\", \"fact\", \"even\", \"number\", \"well\", \"must\", \"used\", \"also\", \"however\", \"server\", \"motif\", \"widget\", \"jpeg\", \"contrib\", \"printf\", \"char\", \"xterm\", \"postscript\", \"client\", \"font\", \"fonts\", \"microsoft\", \"uuencode\", \"visual\", \"xlib\", \"widgets\", \"formats\", \"clients\", \"libraries\", \"routines\", \"toolkit\", \"patch\", \"binaries\", \"utilities\", \"pixel\", \"shareware\", \"platforms\", \"menu\", \"sunos\", \"image\", \"directory\", \"files\", \"window\", \"resource\", \"comp\", \"unix\", \"application\", \"format\", \"display\", \"user\", \"version\", \"software\", \"graphics\", \"code\", \"available\", \"images\", \"export\", \"windows\", \"file\", \"program\", \"data\", \"programs\", \"using\", \"color\", \"list\", \"based\", \"information\", \"also\", \"system\", \"subject\", \"include\", \"used\", \"launch\", \"satellite\", \"shuttle\", \"orbit\", \"lunar\", \"solar\", \"satellites\", \"spacecraft\", \"compass\", \"mars\", \"missions\", \"planetary\", \"telescope\", \"weaver\", \"astronomy\", \"rockets\", \"propulsion\", \"orbital\", \"atmosphere\", \"payload\", \"mercury\", \"venus\", \"ozone\", \"aerospace\", \"integration\", \"deaf\", \"observatory\", \"balloon\", \"zealand\", \"launches\", \"launched\", \"astro\", \"nasa\", \"mission\", \"moon\", \"flight\", \"space\", \"dept\", \"rocket\", \"crew\", \"earth\", \"station\", \"billion\", \"journal\", \"nuclear\", \"projects\", \"national\", \"project\", \"center\", \"research\", \"development\", \"energy\", \"science\", \"news\", \"washington\", \"cost\", \"technology\", \"program\", \"data\", \"april\", \"high\", \"year\", \"office\", \"bill\", \"also\", \"first\", \"information\", \"available\", \"system\", \"years\", \"jesus\", \"bible\", \"christians\", \"faith\", \"christ\", \"christianity\", \"belief\", \"atheism\", \"atheists\", \"morality\", \"eternal\", \"religions\", \"catholic\", \"scripture\", \"atheist\", \"biblical\", \"doctrine\", \"worship\", \"satan\", \"resurrection\", \"candida\", \"revelation\", \"testament\", \"sabbath\", \"gospel\", \"easter\", \"gods\", \"prophet\", \"spiritual\", \"salvation\", \"christian\", \"matthew\", \"church\", \"heaven\", \"lord\", \"beliefs\", \"spirit\", \"religion\", \"holy\", \"truth\", \"religious\", \"existence\", \"objective\", \"universe\", \"word\", \"believe\", \"exist\", \"life\", \"paul\", \"true\", \"science\", \"moral\", \"evidence\", \"book\", \"hell\", \"john\", \"must\", \"world\", \"many\", \"love\", \"question\", \"also\", \"people\", \"cannot\", \"bike\", \"simms\", \"circuit\", \"wiring\", \"riding\", \"motorcycle\", \"plastic\", \"engine\", \"voltage\", \"bikes\", \"battery\", \"rear\", \"honda\", \"helmet\", \"ford\", \"tires\", \"autos\", \"wires\", \"motorcycles\", \"outlets\", \"tire\", \"cables\", \"outlet\", \"brake\", \"steering\", \"aluminum\", \"powerbook\", \"wheel\", \"packaging\", \"buyer\", \"wire\", \"shipping\", \"sale\", \"cars\", \"ride\", \"electronics\", \"selling\", \"miles\", \"cable\", \"price\", \"insurance\", \"ground\", \"supply\", \"condition\", \"offer\", \"power\", \"sell\", \"road\", \"excellent\", \"used\", \"speed\", \"asking\", \"front\", \"good\", \"high\", \"current\", \"best\", \"back\", \"also\", \"like\", \"cost\", \"make\", \"monitor\", \"vesa\", \"nubus\", \"quadra\", \"svga\", \"diamond\", \"vram\", \"hello\", \"stealth\", \"eisa\", \"centris\", \"ethernet\", \"thanx\", \"forsale\", \"chipset\", \"risc\", \"init\", \"fuse\", \"appreciated\", \"freeware\", \"horizontal\", \"upgrading\", \"toshiba\", \"cassette\", \"upgrades\", \"deskjet\", \"speedstar\", \"panasonic\", \"adapters\", \"targa\", \"ports\", \"clone\", \"gateway\", \"modem\", \"advance\", \"slots\", \"apple\", \"cards\", \"card\", \"video\", \"monitors\", \"thanks\", \"memory\", \"port\", \"please\", \"driver\", \"drivers\", \"anyone\", \"mouse\", \"upgrade\", \"board\", \"mail\", \"reply\", \"windows\", \"looking\", \"email\", \"problem\", \"greatly\", \"sound\", \"mode\", \"help\", \"know\", \"need\", \"computer\", \"would\", \"info\", \"like\", \"system\", \"could\", \"work\", \"using\", \"also\", \"turkish\", \"turkey\", \"turks\", \"genocide\", \"german\", \"greece\", \"nazis\", \"republic\", \"argic\", \"ottoman\", \"serdar\", \"cyprus\", \"empire\", \"prophecy\", \"holocaust\", \"ships\", \"phillies\", \"kurds\", \"istanbul\", \"senator\", \"republicans\", \"alan\", \"sdpa\", \"germany\", \"prediction\", \"fascist\", \"ankara\", \"refugees\", \"massacres\", \"massachusetts\", \"president\", \"russians\", \"hitler\", \"armenia\", \"russia\", \"minister\", \"russian\", \"nazi\", \"armenian\", \"senior\", \"million\", \"jobs\", \"armenians\", \"greek\", \"professor\", \"british\", \"press\", \"secretary\", \"american\", \"europe\", \"history\", \"soviet\", \"world\", \"government\", \"today\", \"official\", \"muslim\", \"administration\", \"said\", \"april\", \"house\", \"people\", \"national\", \"united\", \"country\", \"also\", \"season\", \"players\", \"hockey\", \"teams\", \"detroit\", \"henrik\", \"montreal\", \"minnesota\", \"puck\", \"rangers\", \"calgary\", \"scorer\", \"scoring\", \"pitching\", \"playoffs\", \"scored\", \"karabakh\", \"flyers\", \"quebec\", \"leafs\", \"islanders\", \"jersey\", \"azeri\", \"hartford\", \"pens\", \"espn\", \"playoff\", \"defensive\", \"coach\", \"winnipeg\", \"team\", \"game\", \"games\", \"louis\", \"league\", \"pittsburgh\", \"philadelphia\", \"toronto\", \"play\", \"player\", \"chicago\", \"fans\", \"kings\", \"boston\", \"played\", \"period\", \"year\", \"division\", \"goal\", \"last\", \"first\", \"power\", \"second\", \"third\", \"runs\", \"encryption\", \"clipper\", \"privacy\", \"ripem\", \"escrow\", \"cryptography\", \"encrypted\", \"crypto\", \"nist\", \"crypt\", \"wiretap\", \"phones\", \"cipher\", \"ncsl\", \"plaintext\", \"hash\", \"decrypt\", \"cryptology\", \"denning\", \"ieee\", \"sender\", \"quicktime\", \"cryptosystem\", \"encrypt\", \"proprietary\", \"hellman\", \"authentication\", \"decryption\", \"escrowed\", \"cryptosystems\", \"keys\", \"secure\", \"algorithm\", \"security\", \"chip\", \"enforcement\", \"agencies\", \"scheme\", \"secret\", \"internet\", \"communications\", \"public\", \"technology\", \"phone\", \"access\", \"anonymous\", \"message\", \"government\", \"information\", \"system\", \"computer\", \"private\", \"data\", \"number\", \"mail\", \"used\", \"part\", \"apartment\", \"azerbaijan\", \"azerbaijani\", \"sumgait\", \"karina\", \"mamma\", \"baku\", \"azerbaijanis\", \"lyuda\", \"karabagh\", \"sister\", \"marina\", \"shouting\", \"nagorno\", \"aunt\", \"suck\", \"beaten\", \"twin\", \"segment\", \"balcony\", \"coat\", \"believer\", \"microdistrict\", \"corpses\", \"lethal\", \"pipes\", \"courtyard\", \"survivors\", \"auth\", \"apartments\", \"daughter\", \"award\", \"circuits\", \"went\", \"igor\", \"neighbor\", \"crowd\", \"burned\", \"woman\", \"wife\", \"floor\", \"came\", \"started\", \"said\", \"town\", \"took\", \"home\", \"told\", \"door\", \"building\", \"armenians\", \"women\", \"father\", \"says\", \"left\", \"dead\", \"happened\", \"room\", \"later\", \"people\", \"know\", \"armenian\", \"three\", \"children\", \"back\", \"going\", \"could\", \"something\", \"time\", \"come\", \"israel\", \"israeli\", \"arab\", \"palestinian\", \"arabs\", \"lebanon\", \"palestine\", \"sleeve\", \"palestinians\", \"israelis\", \"jerusalem\", \"lebanese\", \"luke\", \"gaza\", \"terminals\", \"syria\", \"disciples\", \"zionist\", \"ending\", \"zionism\", \"jordan\", \"deeds\", \"judged\", \"judaism\", \"miracles\", \"apostles\", \"remained\", \"goaltender\", \"bishop\", \"weiss\", \"peace\", \"jews\", \"land\", \"jewish\", \"orthodox\", \"civilians\", \"occupied\", \"adam\", \"borders\", \"territory\", \"conflict\", \"pope\", \"soldiers\", \"picture\", \"joseph\", \"killed\", \"children\", \"none\", \"islamic\", \"would\", \"human\", \"dead\", \"state\", \"entries\", \"contest\", \"remark\", \"filename\", \"entry\", \"openwindows\", \"obscure\", \"offset\", \"kong\", \"detectors\", \"ctrl\", \"accelerators\", \"contracts\", \"solaris\", \"consortium\", \"powerpc\", \"coprocessor\", \"hong\", \"xsun\", \"olwm\", \"forged\", \"amongst\", \"seeds\", \"unclear\", \"mailbox\", \"clever\", \"popup\", \"hackers\", \"xhost\", \"laserwriter\", \"compact\", \"winners\", \"column\", \"echo\", \"output\", \"stream\", \"title\", \"rules\", \"reilly\", \"hint\", \"file\", \"define\", \"build\", \"section\", \"handler\", \"check\", \"remarks\", \"return\", \"enter\", \"author\", \"program\", \"size\", \"line\", \"length\", \"info\", \"radar\", \"open\", \"name\", \"date\", \"must\", \"year\", \"number\", \"read\", \"source\", \"special\", \"write\", \"scsi\", \"drives\", \"floppy\", \"motherboard\", \"boot\", \"adaptec\", \"jumper\", \"quantum\", \"exhaust\", \"jumpers\", \"simm\", \"conductor\", \"norton\", \"controllers\", \"dram\", \"retail\", \"esdi\", \"plugs\", \"cylinders\", \"bure\", \"summaries\", \"marijuana\", \"wrench\", \"deciding\", \"controller\", \"interleave\", \"conner\", \"conductors\", \"theta\", \"composite\", \"vpic\", \"drive\", \"disk\", \"bios\", \"slave\", \"megs\", \"hard\", \"disks\", \"tape\", \"backup\", \"connector\", \"master\", \"transfer\", \"system\", \"interface\", \"data\", \"feature\", \"card\", \"unit\", \"internal\", \"devices\", \"speed\", \"cancer\", \"hicnet\", \"maine\", \"clinical\", \"hotel\", \"campbell\", \"seagate\", \"hudson\", \"potvin\", \"bethesda\", \"seminar\", \"volts\", \"crowley\", \"yogurt\", \"appletalk\", \"barbara\", \"towers\", \"obfuscation\", \"richmond\", \"submissions\", \"carolina\", \"willis\", \"lipman\", \"walker\", \"shine\", \"fossil\", \"blaster\", \"shah\", \"coil\", \"mellon\", \"postal\", \"denver\", \"health\", \"proceedings\", \"stanley\", \"presentations\", \"newsletter\", \"university\", \"cooling\", \"campus\", \"plants\", \"water\", \"prevention\", \"filters\", \"page\", \"aids\", \"conference\", \"june\", \"medical\", \"research\", \"navy\", \"april\", \"center\", \"park\", \"avenue\", \"college\", \"department\", \"volume\", \"street\", \"scientific\", \"institute\", \"contact\", \"internet\", \"information\", \"washington\", \"science\", \"cubs\", \"smokeless\", \"cellular\", \"hitter\", \"pointer\", \"skip\", \"cryptanalysis\", \"patent\", \"mounted\", \"innings\", \"wrap\", \"astros\", \"inning\", \"pitched\", \"lopez\", \"cincinnati\", \"crashes\", \"comm\", \"packard\", \"invalid\", \"copper\", \"outs\", \"wright\", \"hewlett\", \"prisoners\", \"combat\", \"premises\", \"pinch\", \"coding\", \"catcher\", \"cryptographic\", \"fallacy\", \"marc\", \"radius\", \"gear\", \"cleaning\", \"double\", \"classified\", \"push\", \"giants\", \"exit\", \"prog\", \"tower\", \"paradox\", \"pseudo\", \"briefing\", \"icons\", \"programmers\", \"ssto\", \"intrinsics\", \"keywords\", \"invaded\", \"capitalist\", \"rockwell\", \"bronx\", \"hemisphere\", \"reporters\", \"volvo\", \"firms\", \"execution\", \"wagon\", \"scrolls\", \"manhattan\", \"keenan\", \"labeled\", \"wider\", \"sank\", \"fires\", \"snail\", \"wysiwyg\", \"hanging\", \"judges\", \"electric\", \"lamp\", \"prison\", \"madison\", \"fusion\", \"neck\", \"lewis\", \"vice\", \"reserve\", \"meter\", \"null\", \"garage\", \"grass\", \"colorado\", \"myers\", \"ghost\", \"hulk\", \"corn\", \"wolverine\", \"publisher\", \"comics\", \"redesign\", \"franchise\", \"losses\", \"bounced\", \"comic\", \"mint\", \"scanned\", \"nintendo\", \"forty\", \"salary\", \"mighty\", \"paste\", \"sega\", \"udel\", \"batman\", \"punisher\", \"connor\", \"bagged\", \"spiderman\", \"adventures\", \"laserjet\", \"compensate\", \"griffin\", \"printer\", \"print\", \"clip\", \"dragon\", \"copies\", \"rider\", \"green\", \"cover\", \"printing\", \"annual\", \"options\", \"appears\", \"issue\", \"copy\", \"module\", \"missing\", \"smith\", \"option\", \"book\", \"gordon\", \"pitt\", \"surrender\", \"skepticism\", \"intellect\", \"shameful\", \"cadre\", \"chastity\", \"symptoms\", \"ciphertext\", \"therapy\", \"chronic\", \"kidney\", \"expos\", \"treatments\", \"wanna\", \"physicians\", \"physician\", \"duke\", \"diagnosis\", \"cabinet\", \"eggs\", \"investigating\", \"infection\", \"acute\", \"thumbs\", \"dose\", \"journals\", \"disorder\", \"accusing\", \"patient\", \"patients\", \"diseases\", \"pain\", \"diet\", \"disease\", \"banks\", \"doctor\", \"medical\", \"medicine\", \"treatment\", \"blood\", \"soon\", \"brain\", \"skin\", \"normal\", \"koresh\", \"batf\", \"compound\", \"breaker\", \"bone\", \"allocated\", \"dreams\", \"offenses\", \"inflammatory\", \"federalist\", \"confess\", \"trades\", \"inkjet\", \"bout\", \"incremental\", \"apology\", \"investigated\", \"quantities\", \"tesla\", \"fluids\", \"extraordinary\", \"creed\", \"advisor\", \"inject\", \"stacker\", \"veto\", \"reactions\", \"strips\", \"wireless\", \"buggy\", \"teel\", \"reno\", \"cells\", \"scratch\", \"waco\", \"offense\", \"ticket\", \"dean\", \"tear\", \"chest\", \"warrant\", \"documentary\", \"fire\", \"agents\"], \"Freq\": [1842.0, 3669.0, 1018.0, 6498.0, 4357.0, 1860.0, 1666.0, 1277.0, 1387.0, 818.0, 1646.0, 4226.0, 3240.0, 2101.0, 658.0, 949.0, 1518.0, 895.0, 803.0, 1321.0, 1607.0, 569.0, 1357.0, 823.0, 647.0, 579.0, 1303.0, 1416.0, 2638.0, 591.0, 216.54150390625, 161.2703857421875, 103.1630859375, 89.02422332763672, 82.7799301147461, 76.96636962890625, 74.04479217529297, 72.78529357910156, 70.0317611694336, 67.14354705810547, 63.94956588745117, 63.75882339477539, 57.2580451965332, 56.2469367980957, 56.15072250366211, 53.4559211730957, 52.2956428527832, 50.335670471191406, 49.333396911621094, 54.970947265625, 48.63973617553711, 48.496490478515625, 195.16360473632812, 48.313018798828125, 47.853694915771484, 47.3083381652832, 46.47723388671875, 45.414581298828125, 41.40868377685547, 41.29251480102539, 69.52735900878906, 2939.20654296875, 176.88803100585938, 397.07403564453125, 1371.708740234375, 933.3576049804688, 1105.1614990234375, 89.06121826171875, 400.6661376953125, 479.4281921386719, 1233.7879638671875, 637.6588134765625, 91.93779754638672, 1045.655517578125, 147.41929626464844, 761.5814819335938, 1674.644287109375, 502.35101318359375, 4377.791015625, 1926.0072021484375, 1262.722412109375, 733.7769165039062, 2895.742919921875, 2494.65380859375, 839.0364990234375, 513.2096557617188, 166.38839721679688, 936.8341064453125, 532.7596435546875, 1030.220947265625, 2066.22998046875, 1744.2271728515625, 729.345703125, 1703.0244140625, 1240.8243408203125, 1378.89111328125, 917.3605346679688, 1500.89404296875, 769.6548461914062, 970.0130004882812, 814.7265014648438, 701.545166015625, 951.9052734375, 1670.833740234375, 1021.239501953125, 902.9349365234375, 1165.503173828125, 892.91650390625, 828.9571533203125, 857.1539306640625, 378.3392028808594, 193.76466369628906, 174.76266479492188, 159.23484802246094, 155.62588500976562, 148.6691436767578, 137.11805725097656, 105.22179412841797, 95.61367797851562, 91.87064361572266, 90.2762451171875, 84.78529357910156, 70.8345947265625, 69.91126251220703, 68.36338806152344, 67.27375793457031, 82.6426773071289, 65.62313079833984, 64.12129974365234, 62.370635986328125, 60.92203140258789, 60.13530349731445, 60.111907958984375, 59.88932418823242, 59.72990417480469, 57.16908645629883, 57.80548095703125, 56.372337341308594, 55.67271041870117, 55.22943115234375, 188.82797241210938, 311.28363037109375, 322.49310302734375, 287.42034912109375, 173.3045654296875, 163.182373046875, 173.45932006835938, 184.5489501953125, 385.2679748535156, 182.8661346435547, 158.5526885986328, 142.6184844970703, 269.10821533203125, 198.64146423339844, 303.36761474609375, 199.8875732421875, 146.50521850585938, 267.97906494140625, 342.3727722167969, 1817.72216796875, 258.1985168457031, 514.8554077148438, 360.89044189453125, 569.2904052734375, 358.154296875, 311.7669982910156, 444.63665771484375, 289.82489013671875, 586.4700317382812, 340.47418212890625, 308.1134033203125, 514.7506103515625, 861.4374389648438, 232.7470703125, 356.42218017578125, 323.0921936035156, 334.4933776855469, 429.69476318359375, 334.5155334472656, 390.1094665527344, 314.00726318359375, 320.25555419921875, 311.250732421875, 282.7305603027344, 672.77880859375, 480.82342529296875, 423.3185119628906, 288.9976806640625, 266.3691711425781, 258.5691223144531, 254.46876525878906, 215.48394775390625, 197.27406311035156, 195.174560546875, 194.1377410888672, 185.0013885498047, 163.56146240234375, 156.14352416992188, 153.67550659179688, 150.71327209472656, 145.04075622558594, 142.67344665527344, 128.9322967529297, 127.38338470458984, 123.91069793701172, 118.5494155883789, 117.5156021118164, 113.57463073730469, 111.72825622558594, 108.78632354736328, 108.75582885742188, 106.99819946289062, 105.30722045898438, 93.20752716064453, 698.7066040039062, 375.14666748046875, 900.567138671875, 832.6189575195312, 193.60105895996094, 362.53778076171875, 361.6445617675781, 445.2979431152344, 388.2176513671875, 547.908203125, 459.71136474609375, 815.575927734375, 879.8251342773438, 543.3563232421875, 575.1146240234375, 1059.390380859375, 283.28564453125, 289.4447326660156, 746.6082763671875, 902.950439453125, 825.486083984375, 724.7365112304688, 400.0886535644531, 699.032470703125, 369.7366027832031, 478.55303955078125, 470.6956787109375, 559.0909423828125, 779.5584106445312, 556.1055297851562, 408.7981262207031, 368.55609130859375, 380.8112487792969, 278.1070251464844, 234.48394775390625, 205.09544372558594, 196.8491668701172, 178.80992126464844, 137.91067504882812, 120.68396759033203, 116.46318054199219, 97.37106323242188, 93.05171966552734, 87.93270874023438, 84.66062927246094, 84.65840911865234, 84.02794647216797, 80.26171875, 72.10885620117188, 70.62923431396484, 70.39156341552734, 69.26415252685547, 66.52108764648438, 62.500362396240234, 56.71332550048828, 55.58332824707031, 55.51772689819336, 54.559226989746094, 53.99803924560547, 52.88851547241211, 50.885711669921875, 50.53889846801758, 50.48482131958008, 96.68783569335938, 51.6358642578125, 481.9908142089844, 190.5550537109375, 169.89602661132812, 169.74237060546875, 1231.9432373046875, 108.51117706298828, 130.5613555908203, 66.34387969970703, 289.0121765136719, 193.8202667236328, 137.69981384277344, 122.4581298828125, 136.88919067382812, 93.8000717163086, 326.6573486328125, 162.28457641601562, 261.1532897949219, 268.3826599121094, 179.07041931152344, 115.74783325195312, 195.37869262695312, 224.13385009765625, 177.58287048339844, 191.33358764648438, 192.0527801513672, 288.8419189453125, 265.4039306640625, 193.0237274169922, 221.17160034179688, 262.866455078125, 171.39036560058594, 171.2233428955078, 265.43896484375, 225.85110473632812, 195.79513549804688, 192.03627014160156, 187.5640869140625, 180.05303955078125, 947.84326171875, 545.6187133789062, 437.1101379394531, 393.4862060546875, 392.52978515625, 248.8272705078125, 220.15232849121094, 179.5556640625, 169.8024139404297, 162.35604858398438, 144.23448181152344, 139.0000457763672, 138.89161682128906, 133.42140197753906, 121.7216796875, 112.70064544677734, 106.33226013183594, 97.3652114868164, 93.19815063476562, 88.88516998291016, 86.60865020751953, 85.06936645507812, 82.63642883300781, 78.77836608886719, 78.35961151123047, 74.77405548095703, 73.88529968261719, 69.91419219970703, 68.73130798339844, 66.4554443359375, 583.08203125, 189.29220581054688, 454.4952087402344, 156.44166564941406, 197.94500732421875, 179.50482177734375, 197.7466278076172, 385.93353271484375, 180.07106018066406, 337.2471008300781, 239.5811004638672, 186.03314208984375, 179.02352905273438, 141.6762237548828, 325.64501953125, 520.0447387695312, 239.70892333984375, 351.8323059082031, 214.08987426757812, 355.11383056640625, 251.75315856933594, 188.28271484375, 231.4571075439453, 244.5823211669922, 205.88232421875, 215.78196716308594, 248.87388610839844, 238.8749542236328, 258.0185546875, 201.31463623046875, 226.70848083496094, 243.20396423339844, 217.17999267578125, 204.70005798339844, 350.7334899902344, 146.20260620117188, 146.15724182128906, 126.99121856689453, 119.21586608886719, 112.95877075195312, 110.09750366210938, 260.3628845214844, 107.17888641357422, 106.90859985351562, 103.25212860107422, 98.53138732910156, 96.29944610595703, 93.33409118652344, 87.66758728027344, 77.6529312133789, 77.53455352783203, 74.12049865722656, 66.80683135986328, 65.98363494873047, 62.223052978515625, 61.57056427001953, 61.442928314208984, 56.28243637084961, 54.92021179199219, 54.74507141113281, 54.54222106933594, 78.95074462890625, 45.552703857421875, 44.7171745300293, 215.65072631835938, 285.7813720703125, 328.0807189941406, 251.01947021484375, 136.0786895751953, 106.46537017822266, 143.3511199951172, 186.85987854003906, 218.47454833984375, 445.8296813964844, 149.46807861328125, 260.97430419921875, 174.67750549316406, 237.5946044921875, 248.1334991455078, 430.24200439453125, 212.545166015625, 184.9746856689453, 164.74835205078125, 412.5835266113281, 215.8503875732422, 176.2183837890625, 163.68438720703125, 354.79962158203125, 214.7492218017578, 182.35464477539062, 196.08265686035156, 201.07835388183594, 229.66122436523438, 214.7315673828125, 157.58935546875, 151.5422821044922, 364.6290283203125, 93.86234283447266, 84.13456726074219, 84.06204986572266, 80.59041595458984, 78.8809814453125, 76.4891586303711, 175.5772247314453, 75.426025390625, 74.79680633544922, 69.41759490966797, 68.0865478515625, 58.82291030883789, 49.817230224609375, 46.4038200378418, 43.53043746948242, 40.704383850097656, 38.383419036865234, 285.52252197265625, 37.82097625732422, 36.393192291259766, 34.87813186645508, 33.815433502197266, 32.79276657104492, 31.83738136291504, 30.49666404724121, 29.43983268737793, 28.90250015258789, 28.71990394592285, 26.778867721557617, 104.54693603515625, 70.04476165771484, 97.52388763427734, 267.46075439453125, 330.11163330078125, 74.388916015625, 389.7082214355469, 250.88343811035156, 679.0065307617188, 420.9853820800781, 98.73394775390625, 1073.42529296875, 468.6690368652344, 233.05856323242188, 917.1258544921875, 296.80218505859375, 265.0592346191406, 843.1685180664062, 230.932373046875, 114.73944091796875, 235.09112548828125, 564.837646484375, 216.05252075195312, 561.9044189453125, 344.802001953125, 354.45458984375, 542.525390625, 136.11492919921875, 222.49098205566406, 220.41043090820312, 429.99835205078125, 769.2556762695312, 468.72149658203125, 308.6866455078125, 747.7064819335938, 291.8674621582031, 512.6497802734375, 403.1797180175781, 351.5928039550781, 304.1210632324219, 289.03631591796875, 314.5596923828125, 496.7770080566406, 312.8858947753906, 232.55735778808594, 208.46104431152344, 195.2649688720703, 115.27545166015625, 107.67291259765625, 107.51119232177734, 102.74626159667969, 99.64390563964844, 98.45707702636719, 82.19652557373047, 78.67045593261719, 72.35372924804688, 69.03722381591797, 68.96514129638672, 66.23188781738281, 65.84664916992188, 64.5458755493164, 65.8357925415039, 63.433250427246094, 53.893001556396484, 52.46663284301758, 199.8572540283203, 47.78679656982422, 46.995506286621094, 46.376426696777344, 45.8326416015625, 45.70682907104492, 45.504512786865234, 612.2152099609375, 82.95137023925781, 88.04283142089844, 215.05392456054688, 184.81166076660156, 80.1509780883789, 305.4609069824219, 159.1390838623047, 530.9498291015625, 109.0326919555664, 263.2716064453125, 199.27029418945312, 388.1117248535156, 245.9729461669922, 105.05999755859375, 135.171630859375, 264.96746826171875, 130.15321350097656, 335.3829040527344, 148.3157958984375, 254.6403350830078, 139.79531860351562, 321.6531677246094, 327.03948974609375, 225.60476684570312, 148.36219787597656, 136.8329315185547, 161.9969940185547, 271.8146057128906, 172.36264038085938, 160.88475036621094, 249.505859375, 168.77847290039062, 155.53271484375, 155.9395751953125, 156.73272705078125, 463.23944091796875, 397.9557800292969, 384.7560729980469, 284.3045654296875, 188.2889862060547, 158.1429901123047, 154.8712921142578, 142.78553771972656, 140.97610473632812, 136.81646728515625, 130.56338500976562, 124.57247161865234, 121.11823272705078, 113.56307983398438, 113.14832305908203, 106.3519287109375, 104.43049621582031, 99.93757629394531, 100.00140380859375, 97.94810485839844, 96.9260025024414, 92.8431396484375, 92.17366027832031, 92.07353973388672, 89.02934265136719, 87.00116729736328, 86.85723114013672, 86.15142822265625, 84.15926361083984, 83.59133911132812, 771.9887084960938, 835.7459716796875, 569.080078125, 138.4098358154297, 354.46636962890625, 216.97134399414062, 158.0631103515625, 195.04318237304688, 526.23583984375, 253.4886016845703, 216.28338623046875, 135.53074645996094, 154.65313720703125, 173.45492553710938, 173.37657165527344, 349.66119384765625, 572.0, 170.39512634277344, 169.00267028808594, 300.6438293457031, 295.4385681152344, 224.38246154785156, 212.60983276367188, 176.65818786621094, 169.8505401611328, 598.6171264648438, 448.79205322265625, 377.8174133300781, 264.4463806152344, 220.29920959472656, 201.72470092773438, 167.662109375, 166.4920654296875, 147.28924560546875, 114.39346313476562, 113.33834075927734, 110.20528411865234, 98.42044067382812, 89.06163024902344, 77.36083984375, 72.11021423339844, 64.8165054321289, 63.91106033325195, 59.80903625488281, 56.19755935668945, 47.85613250732422, 47.603904724121094, 46.017425537109375, 45.69935989379883, 45.35588455200195, 45.08131790161133, 44.26956558227539, 42.337371826171875, 41.8294563293457, 41.603824615478516, 488.01531982421875, 251.89434814453125, 285.60748291015625, 467.0378112792969, 560.8455810546875, 186.65220642089844, 159.54486083984375, 107.83729553222656, 198.82456970214844, 278.2963562011719, 151.45323181152344, 411.510498046875, 268.27996826171875, 266.7285461425781, 242.76531982421875, 213.79983520507812, 256.488037109375, 371.2536926269531, 344.87030029296875, 370.87176513671875, 236.99468994140625, 179.2311248779297, 267.7440490722656, 249.95529174804688, 227.37559509277344, 240.5941162109375, 200.20530700683594, 166.44395446777344, 166.41973876953125, 124.57654571533203, 118.38800048828125, 117.9206771850586, 85.45730590820312, 83.87144470214844, 77.53895568847656, 55.00188446044922, 51.50044631958008, 49.553897857666016, 47.80575180053711, 45.57915496826172, 41.04277801513672, 37.90589904785156, 36.71647262573242, 36.0138053894043, 35.984619140625, 35.22996520996094, 33.6789665222168, 33.653343200683594, 33.57627868652344, 33.38876724243164, 31.773014068603516, 29.195972442626953, 29.166645050048828, 28.737855911254883, 27.500036239624023, 27.449546813964844, 27.350341796875, 109.09770965576172, 69.11139678955078, 64.92997741699219, 400.490966796875, 46.41670227050781, 68.12663269042969, 71.98731994628906, 75.34837341308594, 134.27650451660156, 117.04779052734375, 91.27558898925781, 273.58514404296875, 232.61183166503906, 611.731689453125, 115.1587142944336, 220.66197204589844, 252.8626708984375, 248.82177734375, 116.0112075805664, 154.36856079101562, 209.5397491455078, 158.13575744628906, 135.18153381347656, 205.3397979736328, 198.68048095703125, 146.15065002441406, 133.67481994628906, 116.05074310302734, 154.51901245117188, 315.1086120605469, 269.8787536621094, 156.31707763671875, 161.1529083251953, 145.10284423828125, 173.67239379882812, 157.55799865722656, 161.76402282714844, 147.813720703125, 151.2230224609375, 137.8126678466797, 590.2698974609375, 362.00311279296875, 239.44003295898438, 124.83395385742188, 113.27201080322266, 82.0526123046875, 79.93585968017578, 78.58558654785156, 76.17095947265625, 74.41788482666016, 73.09883880615234, 68.89588165283203, 68.08427429199219, 62.91436004638672, 61.93645095825195, 60.373775482177734, 54.715763092041016, 51.72691345214844, 50.2338981628418, 47.340538024902344, 44.880943298339844, 38.273677825927734, 39.21176528930664, 36.960697174072266, 36.5101318359375, 36.036415100097656, 35.86610412597656, 35.59458541870117, 35.26557159423828, 34.64793395996094, 219.74896240234375, 459.910888671875, 196.9945526123047, 258.9862060546875, 67.32451629638672, 82.16178894042969, 71.434326171875, 92.24009704589844, 46.36219787597656, 63.66201400756836, 93.13494873046875, 70.54061889648438, 105.86677551269531, 109.30253601074219, 70.60794830322266, 99.80305480957031, 94.78556060791016, 77.89096069335938, 68.52458953857422, 103.99601745605469, 78.36322784423828, 72.93171691894531, 69.64898681640625, 225.7832489013672, 171.79608154296875, 152.2489776611328, 139.79342651367188, 643.08544921875, 85.33782196044922, 48.565303802490234, 48.17649459838867, 41.03662872314453, 39.89274597167969, 38.329383850097656, 38.236572265625, 37.678955078125, 35.9870719909668, 35.80643081665039, 34.426883697509766, 33.431640625, 30.5765438079834, 30.28961944580078, 29.717586517333984, 28.97825050354004, 27.10828399658203, 25.912355422973633, 25.874141693115234, 25.52259635925293, 23.457271575927734, 22.18272590637207, 22.062612533569336, 21.524049758911133, 20.059478759765625, 35.41852951049805, 84.86778259277344, 73.65501403808594, 104.21871185302734, 650.2305908203125, 206.7269287109375, 240.46241760253906, 283.6117248535156, 38.99556350708008, 42.68080520629883, 914.9624633789062, 169.23599243164062, 280.0428466796875, 264.5640563964844, 41.54915237426758, 274.6670227050781, 71.41500091552734, 187.10044860839844, 84.3033676147461, 142.6326141357422, 423.43084716796875, 201.00094604492188, 295.2481994628906, 91.05951690673828, 225.74191284179688, 78.40682220458984, 191.23899841308594, 220.8004150390625, 126.50072479248047, 211.73178100585938, 184.03590393066406, 177.31089782714844, 148.32485961914062, 128.66973876953125, 109.21119689941406, 111.19507598876953, 568.1552734375, 301.5414733886719, 225.27920532226562, 156.7509307861328, 104.59566497802734, 83.66862487792969, 67.4892578125, 57.18243408203125, 54.33204650878906, 53.02108383178711, 50.90874099731445, 47.44596481323242, 97.5364761352539, 39.94300842285156, 39.18755340576172, 38.459163665771484, 37.866397857666016, 35.998252868652344, 31.34757423400879, 30.535432815551758, 28.274625778198242, 28.219371795654297, 21.843372344970703, 21.681163787841797, 273.142578125, 19.72433853149414, 18.349040985107422, 18.322357177734375, 17.27155113220215, 17.116830825805664, 35.28778839111328, 895.0825805664062, 576.4605102539062, 137.8637237548828, 71.03713989257812, 46.08317947387695, 356.7636413574219, 123.4260025024414, 153.5202178955078, 64.6112060546875, 52.51266098022461, 70.40998840332031, 78.63465118408203, 149.06201171875, 74.45921325683594, 98.88250732421875, 53.7971305847168, 74.73688507080078, 59.76444625854492, 56.58123016357422, 54.23591613769531, 53.20155334472656, 101.13178253173828, 58.223445892333984, 53.79991912841797, 48.641326904296875, 43.116859436035156, 36.276676177978516, 34.473323822021484, 33.363468170166016, 31.81812286376953, 26.90092658996582, 26.57128143310547, 25.1060791015625, 22.694868087768555, 21.74641227722168, 21.35165023803711, 21.207138061523438, 20.73893928527832, 20.02407455444336, 19.937042236328125, 19.559341430664062, 18.913034439086914, 18.863698959350586, 17.586502075195312, 17.3586483001709, 17.17721939086914, 16.845613479614258, 15.302922248840332, 14.772144317626953, 14.413509368896484, 13.719491958618164, 21.87898826599121, 32.32817459106445, 287.3915100097656, 60.54848098754883, 52.35005569458008, 31.802396774291992, 78.68861389160156, 316.94793701171875, 32.694976806640625, 33.0821533203125, 33.0393180847168, 129.30877685546875, 40.42637252807617, 27.70822525024414, 107.85881805419922, 49.6470947265625, 93.71519470214844, 65.3203353881836, 95.8565444946289, 141.2566375732422, 55.11555099487305, 117.51811218261719, 100.1048355102539, 50.17942810058594, 38.956153869628906, 52.70849609375, 60.661109924316406, 56.01399230957031, 52.85425567626953, 52.039344787597656, 46.80323028564453, 57.215084075927734, 55.25299835205078, 66.95137023925781, 49.64622497558594, 47.59294509887695, 81.92427825927734, 75.60254669189453, 55.90604019165039, 50.68104934692383, 45.23175048828125, 40.448692321777344, 39.965877532958984, 38.99440383911133, 37.021148681640625, 37.01437759399414, 35.86753463745117, 35.43872833251953, 35.38655471801758, 34.03182601928711, 32.160518646240234, 31.975839614868164, 29.00870704650879, 28.9529972076416, 28.65328025817871, 28.24381446838379, 27.21393394470215, 27.062681198120117, 26.449779510498047, 26.263931274414062, 25.860843658447266, 25.724166870117188, 25.393848419189453, 25.359498977661133, 25.148639678955078, 24.970474243164062, 51.54814910888672, 45.74014663696289, 42.72197341918945, 40.088279724121094, 40.56694793701172, 28.680187225341797, 47.282588958740234, 33.67213821411133, 39.17289733886719, 28.366613388061523, 73.61539459228516, 67.25135040283203, 49.568782806396484, 36.994178771972656, 34.9970588684082, 29.285667419433594, 28.859582901000977, 28.626855850219727, 26.420867919921875, 26.019010543823242, 25.931982040405273, 24.5184383392334, 23.982707977294922, 23.774049758911133, 23.140230178833008, 22.626270294189453, 21.985736846923828, 21.942934036254883, 21.375574111938477, 20.889616012573242, 20.855175018310547, 19.54025650024414, 18.902143478393555, 18.555950164794922, 17.795421600341797, 16.858396530151367, 16.587631225585938, 16.45547103881836, 16.0557804107666, 16.049762725830078, 62.696231842041016, 79.19971466064453, 40.127681732177734, 26.20901870727539, 41.223087310791016, 20.85780906677246, 21.558055877685547, 27.054227828979492, 44.77641296386719, 36.127159118652344, 26.523868560791016, 22.90562629699707, 32.98941421508789, 23.017179489135742, 22.53278350830078, 23.522823333740234, 135.384033203125, 37.27521514892578, 33.95030975341797, 30.91690444946289, 30.66478157043457, 30.5318546295166, 30.464109420776367, 29.6500244140625, 28.57659912109375, 26.9873046875, 26.43035125732422, 24.599931716918945, 23.646203994750977, 23.503128051757812, 22.088146209716797, 21.70111083984375, 21.57213592529297, 21.41471290588379, 20.80336570739746, 20.656875610351562, 19.983293533325195, 19.791353225708008, 19.028112411499023, 17.830955505371094, 16.920364379882812, 16.27105712890625, 15.866076469421387, 16.707073211669922, 15.226226806640625, 15.088940620422363, 171.29318237304688, 108.7527084350586, 28.713579177856445, 29.05028533935547, 80.03954315185547, 53.17242431640625, 58.11984634399414, 89.48595428466797, 39.23589324951172, 46.95370864868164, 59.41209411621094, 50.49568176269531, 42.90858459472656, 39.539642333984375, 26.520475387573242, 26.46758270263672, 26.49863052368164, 25.65757179260254, 26.417083740234375, 89.61360931396484, 85.5401840209961, 76.11004638671875, 64.2615966796875, 58.749874114990234, 56.364830017089844, 55.82624053955078, 54.73818588256836, 57.325531005859375, 39.41952133178711, 38.117881774902344, 35.5241813659668, 32.95276641845703, 27.500247955322266, 24.67620086669922, 24.018083572387695, 23.826974868774414, 23.708398818969727, 23.248493194580078, 21.613557815551758, 19.735721588134766, 19.66534423828125, 18.30826187133789, 44.941558837890625, 17.268159866333008, 16.96920394897461, 16.606473922729492, 16.175561904907227, 15.612951278686523, 14.36096477508545, 58.00519943237305, 118.20056915283203, 72.31355285644531, 154.12252807617188, 53.7610969543457, 125.8718490600586, 76.7755355834961, 97.3211898803711, 121.86650848388672, 61.18687057495117, 63.2561149597168, 61.80137634277344, 74.50244903564453, 44.00279235839844, 31.94111442565918, 34.78787612915039, 132.01441955566406, 71.55577850341797, 70.85122680664062, 25.5950984954834, 23.977581024169922, 23.08580207824707, 19.109527587890625, 17.881389617919922, 17.828964233398438, 17.12458038330078, 16.608190536499023, 15.229002952575684, 15.216110229492188, 15.031603813171387, 13.855445861816406, 12.729721069335938, 12.23735523223877, 12.114692687988281, 11.930779457092285, 11.785229682922363, 11.781418800354004, 26.460201263427734, 11.389721870422363, 11.14810562133789, 11.063335418701172, 11.029962539672852, 27.718204498291016, 10.426925659179688, 10.071390151977539, 9.570046424865723, 13.33810043334961, 23.11734390258789, 38.54105758666992, 19.448938369750977, 37.53411102294922, 34.999454498291016, 33.99165725708008, 20.64154052734375, 21.28615951538086, 15.425063133239746, 18.304582595825195, 14.057136535644531, 18.872486114501953, 16.603046417236328], \"Total\": [1842.0, 3669.0, 1018.0, 6498.0, 4357.0, 1860.0, 1666.0, 1277.0, 1387.0, 818.0, 1646.0, 4226.0, 3240.0, 2101.0, 658.0, 949.0, 1518.0, 895.0, 803.0, 1321.0, 1607.0, 569.0, 1357.0, 823.0, 647.0, 579.0, 1303.0, 1416.0, 2638.0, 591.0, 217.45790100097656, 162.1877899169922, 104.07948303222656, 89.9411392211914, 83.69632720947266, 77.88276672363281, 74.96118927001953, 73.70169067382812, 70.94815826416016, 68.06021881103516, 64.86595916748047, 64.67645263671875, 58.17460632324219, 57.163326263427734, 57.06711196899414, 54.372398376464844, 53.212032318115234, 51.252079010009766, 50.249786376953125, 55.99837875366211, 49.55612564086914, 49.412879943847656, 198.8587188720703, 49.229496002197266, 48.77040100097656, 48.224727630615234, 47.39362335205078, 46.33693313598633, 42.3250732421875, 42.20890426635742, 71.2421875, 3240.062744140625, 184.2762908935547, 424.0108947753906, 1553.875, 1061.726806640625, 1267.7989501953125, 92.73542022705078, 446.2086486816406, 539.3538818359375, 1467.0467529296875, 755.9031372070312, 96.53646087646484, 1310.3450927734375, 161.09994506835938, 943.2535400390625, 2225.195068359375, 602.994384765625, 6498.06396484375, 2638.778076171875, 1691.2908935546875, 932.5567016601562, 4226.3623046875, 3669.39990234375, 1095.88037109375, 642.8577270507812, 184.2259979248047, 1264.098388671875, 678.333984375, 1426.2713623046875, 3192.50634765625, 2662.965087890625, 980.2210693359375, 2675.276123046875, 1885.382080078125, 2170.46044921875, 1313.3892822265625, 2434.462158203125, 1061.7672119140625, 1492.2259521484375, 1185.2845458984375, 956.2029418945312, 1560.60791015625, 4357.89697265625, 1942.7196044921875, 1616.8206787109375, 3630.834228515625, 1764.17431640625, 1378.20703125, 2282.70263671875, 379.2561340332031, 194.68667602539062, 175.67965698242188, 160.1518096923828, 156.5428466796875, 149.5861053466797, 138.05938720703125, 106.13875579833984, 96.5306396484375, 92.78761291503906, 91.1932144165039, 85.70225524902344, 71.7560806274414, 70.8282241821289, 69.28034973144531, 68.19071960449219, 83.7957763671875, 66.5401840209961, 65.03826141357422, 63.28759002685547, 61.838985443115234, 61.0522575378418, 61.02886199951172, 60.806278228759766, 60.64685821533203, 58.08604049682617, 58.73319625854492, 57.28931427001953, 56.589664459228516, 56.146385192871094, 192.8802032470703, 321.03472900390625, 335.2460021972656, 299.1974792480469, 181.37095642089844, 173.08961486816406, 189.4991455078125, 203.24539184570312, 478.0162048339844, 210.77499389648438, 179.62832641601562, 160.63446044921875, 333.709228515625, 239.5452880859375, 401.10382080078125, 250.1829376220703, 172.07443237304688, 369.0789489746094, 503.567138671875, 4357.89697265625, 372.4606628417969, 965.0337524414062, 616.634521484375, 1303.349609375, 740.4420166015625, 592.1864013671875, 1192.312255859375, 553.3073120117188, 2282.70263671875, 782.5647583007812, 636.845947265625, 1942.7196044921875, 6498.06396484375, 367.8705749511719, 1247.8515625, 959.5709228515625, 1063.1593017578125, 2434.462158203125, 1436.59423828125, 2662.965087890625, 1398.2027587890625, 2058.623291015625, 3630.834228515625, 1185.24462890625, 673.6962280273438, 481.74072265625, 424.2358093261719, 289.91497802734375, 267.2864685058594, 259.4864196777344, 255.3861083984375, 216.4012908935547, 198.19140625, 196.09190368652344, 195.05508422851562, 185.91876220703125, 164.47906494140625, 157.0608673095703, 154.59320068359375, 151.630615234375, 145.95809936523438, 143.59078979492188, 129.84963989257812, 128.3007049560547, 124.82803344726562, 119.46675109863281, 118.43293762207031, 114.4919662475586, 112.64559173583984, 109.70365905761719, 109.67316436767578, 107.91553497314453, 106.22455596923828, 94.12486267089844, 720.8530883789062, 386.87823486328125, 961.685546875, 891.1917724609375, 198.57154846191406, 381.7471923828125, 380.7772216796875, 484.1091003417969, 418.414794921875, 622.154052734375, 525.3432006835938, 989.196044921875, 1084.83251953125, 651.4310913085938, 736.6361694335938, 1528.0545654296875, 324.5455322265625, 337.92529296875, 1321.849609375, 1842.1514892578125, 1646.247802734375, 1357.532470703125, 618.279541015625, 1592.6890869140625, 574.2433471679688, 1028.2943115234375, 1007.074951171875, 1612.74609375, 3630.834228515625, 2101.029052734375, 850.3618774414062, 630.1702270507812, 2058.623291015625, 279.0196533203125, 235.3966064453125, 206.0081024169922, 197.76182556152344, 179.7225799560547, 138.82333374023438, 121.59663391113281, 117.37584686279297, 98.28372955322266, 93.96438598632812, 88.84537506103516, 85.57329559326172, 85.57107543945312, 84.94105529785156, 81.17438507080078, 73.02152252197266, 71.54190063476562, 71.30422973632812, 70.17681884765625, 67.43375396728516, 63.413021087646484, 57.62598419189453, 56.49598693847656, 56.43038558959961, 55.471885681152344, 54.91163635253906, 53.80117416381836, 51.798370361328125, 51.45155715942383, 51.39748001098633, 98.68231201171875, 52.57569885253906, 503.0306091308594, 197.88511657714844, 176.13104248046875, 178.17845153808594, 1387.87158203125, 113.22975158691406, 140.03892517089844, 68.98017883300781, 410.33721923828125, 257.7568359375, 172.03536987304688, 152.66845703125, 180.43641662597656, 106.65666961669922, 662.8112182617188, 242.21900939941406, 509.2265319824219, 552.1158447265625, 308.81781005859375, 148.611083984375, 495.54083251953125, 685.3388671875, 415.9226379394531, 497.5110168457031, 524.9758911132812, 1646.247802734375, 1357.532470703125, 580.3264770507812, 903.85986328125, 1607.6473388671875, 407.3127746582031, 424.83013916015625, 3630.834228515625, 2333.359619140625, 1612.74609375, 1528.0545654296875, 2101.029052734375, 1505.6116943359375, 949.3564453125, 546.5372314453125, 438.028564453125, 394.4046325683594, 393.451416015625, 249.74571228027344, 221.0711669921875, 180.47410583496094, 170.72085571289062, 163.2744903564453, 145.15292358398438, 139.91848754882812, 139.81005859375, 134.33984375, 122.64012145996094, 113.61908721923828, 107.26063537597656, 98.28365325927734, 94.11659240722656, 89.8036117553711, 87.52709197998047, 85.98780822753906, 83.55487060546875, 79.69680786132812, 79.27806091308594, 75.69249725341797, 74.80374145507812, 70.8336410522461, 69.6497573852539, 67.37501525878906, 602.833984375, 193.94979858398438, 475.66546630859375, 161.71139526367188, 207.09852600097656, 189.23973083496094, 209.59524536132812, 429.3589782714844, 195.48231506347656, 437.31475830078125, 313.53857421875, 242.2351531982422, 234.94876098632812, 169.02894592285156, 645.7752075195312, 1416.49267578125, 400.0768127441406, 833.1226806640625, 336.4008483886719, 1023.8783569335938, 495.54083251953125, 268.3490295410156, 553.3073120117188, 672.813720703125, 375.29449462890625, 569.0540161132812, 1398.2027587890625, 1191.966796875, 2282.70263671875, 416.5469665527344, 1143.4898681640625, 3630.834228515625, 4357.89697265625, 640.7860717773438, 351.6514587402344, 147.12060546875, 147.07525634765625, 127.90921783447266, 120.13387298583984, 113.87677001953125, 111.0155029296875, 262.5655517578125, 108.09688568115234, 107.82659912109375, 104.17012786865234, 99.44938659667969, 97.21744537353516, 94.25209045410156, 88.58560180664062, 78.57093048095703, 78.45265197753906, 75.03849792480469, 67.72483825683594, 66.9016342163086, 63.141048431396484, 62.48855972290039, 62.360923767089844, 57.20043182373047, 55.83820724487305, 55.66306686401367, 55.4602165222168, 80.5159683227539, 46.470699310302734, 45.635169982910156, 222.33831787109375, 303.05255126953125, 359.63555908203125, 284.5655212402344, 148.666748046875, 114.36236572265625, 158.44349670410156, 215.38619995117188, 263.5225524902344, 620.354736328125, 179.16378784179688, 354.6682434082031, 222.0323944091797, 340.4953918457031, 389.6921081542969, 1147.5101318359375, 376.98040771484375, 304.952392578125, 274.6133728027344, 2058.623291015625, 524.876220703125, 334.88409423828125, 315.82586669921875, 2638.778076171875, 903.85986328125, 720.7430419921875, 1025.292724609375, 1560.60791015625, 3630.834228515625, 4226.3623046875, 497.5110168457031, 2170.46044921875, 365.5537109375, 94.78189086914062, 85.05411529541016, 84.98159790039062, 81.50996398925781, 79.80052947998047, 77.40870666503906, 177.68910217285156, 76.34557342529297, 75.71635437011719, 70.33714294433594, 69.00609588623047, 59.742462158203125, 50.73678207397461, 47.32337188720703, 44.44999694824219, 41.62393569946289, 39.30297088623047, 292.45208740234375, 38.74052810668945, 37.312744140625, 35.7977180480957, 34.7349853515625, 33.712318420410156, 32.75693130493164, 31.416213989257812, 30.35938262939453, 29.822050094604492, 29.639453887939453, 27.69841766357422, 108.74087524414062, 72.5743408203125, 101.5007553100586, 284.8688049316406, 353.2715148925781, 77.4524917602539, 422.1860656738281, 274.09869384765625, 766.0985717773438, 471.48516845703125, 105.0059814453125, 1277.401611328125, 565.64892578125, 271.52142333984375, 1518.800537109375, 414.675537109375, 365.4142150878906, 1666.5921630859375, 332.4748840332031, 138.9074249267578, 372.6886901855469, 1246.66796875, 334.1199951171875, 1321.849609375, 712.4799194335938, 784.1932373046875, 1679.3294677734375, 183.832763671875, 407.9499816894531, 404.6483154296875, 1253.1080322265625, 3669.39990234375, 1748.810791015625, 820.1859130859375, 6498.06396484375, 832.704345703125, 4226.3623046875, 2101.029052734375, 2675.276123046875, 1764.17431640625, 1592.6890869140625, 3630.834228515625, 497.6934814453125, 313.8023681640625, 233.473876953125, 209.3775634765625, 196.18148803710938, 116.19197082519531, 108.58943176269531, 108.4277114868164, 103.66278076171875, 100.5604248046875, 99.37359619140625, 83.11304473876953, 79.58697509765625, 73.27024841308594, 69.95377349853516, 69.88166046142578, 67.14840698242188, 66.76316833496094, 65.46239471435547, 66.80606842041016, 64.38917541503906, 54.80952072143555, 53.38315200805664, 203.44393920898438, 48.70331573486328, 47.912025451660156, 47.292945861816406, 46.74916076660156, 46.623348236083984, 46.4210319519043, 669.5070190429688, 86.5365219116211, 92.47895812988281, 239.922119140625, 205.3779754638672, 84.81129455566406, 359.0633239746094, 178.7227783203125, 688.1351928710938, 119.49893188476562, 359.74200439453125, 259.7257995605469, 598.5198364257812, 344.6270751953125, 120.29239654541016, 168.24075317382812, 414.9188537597656, 162.0467987060547, 622.1880493164062, 202.24713134765625, 483.7460021972656, 213.24766540527344, 1191.966796875, 1303.349609375, 631.8649291992188, 254.13746643066406, 217.74746704101562, 366.4998779296875, 1860.703125, 580.3264770507812, 450.33538818359375, 4357.89697265625, 662.8112182617188, 398.1585693359375, 440.11834716796875, 3630.834228515625, 464.15753173828125, 398.8738708496094, 385.6741638183594, 285.22265625, 189.2071075439453, 159.0611114501953, 155.78941345214844, 143.7036590576172, 141.89422607421875, 137.73458862304688, 131.48150634765625, 125.49060821533203, 122.03636932373047, 114.48121643066406, 114.06645965576172, 107.27006530761719, 105.3486328125, 100.855712890625, 100.92176818847656, 98.86624145507812, 97.8441390991211, 93.76127624511719, 93.091796875, 92.9916763305664, 89.94747924804688, 87.91930389404297, 87.7753677368164, 87.06958770751953, 85.07740020751953, 84.50947570800781, 823.6041259765625, 895.5874633789062, 615.2487182617188, 143.7378387451172, 393.21826171875, 232.6717071533203, 166.56396484375, 210.47549438476562, 648.8038330078125, 290.2558898925781, 243.2576904296875, 145.54722595214844, 171.83847045898438, 200.19981384277344, 205.87911987304688, 537.5807495117188, 1607.6473388671875, 273.1454162597656, 273.2657775878906, 1428.323974609375, 2333.359619140625, 1147.5101318359375, 1027.5985107421875, 470.9435729980469, 417.1109619140625, 599.5285034179688, 449.7032775878906, 378.7286376953125, 265.35760498046875, 221.2104949951172, 202.635986328125, 168.57339477539062, 167.40335083007812, 148.20053100585938, 115.30474853515625, 114.24962615966797, 111.11712646484375, 99.33172607421875, 89.97291564941406, 78.27212524414062, 73.02149963378906, 65.72779083251953, 64.82234191894531, 60.72031784057617, 57.10884094238281, 48.76741409301758, 48.51518630981445, 46.928707122802734, 46.61064147949219, 46.26716613769531, 45.99259948730469, 45.18084716796875, 43.248653411865234, 42.74073791503906, 42.515106201171875, 500.04644775390625, 263.00689697265625, 319.55926513671875, 552.8847045898438, 738.2530517578125, 237.13079833984375, 202.2026824951172, 133.02627563476562, 297.3431091308594, 472.4942932128906, 225.82679748535156, 959.5709228515625, 524.9758911132812, 532.0811767578125, 561.2074584960938, 455.0575866699219, 638.443603515625, 1303.349609375, 1612.74609375, 2101.029052734375, 820.1859130859375, 392.26300048828125, 1357.532470703125, 1436.59423828125, 1246.66796875, 2058.623291015625, 1215.7510986328125, 167.3658447265625, 167.34552001953125, 125.49844360351562, 119.30989837646484, 118.84257507324219, 86.37920379638672, 84.79334259033203, 78.46085357666016, 55.92378234863281, 52.42234802246094, 50.475852966308594, 48.72765350341797, 46.50105285644531, 41.964683532714844, 38.827796936035156, 37.63837432861328, 36.936038970947266, 36.906517028808594, 36.1518669128418, 34.600868225097656, 34.57524490356445, 34.49817657470703, 34.3106689453125, 32.694915771484375, 30.117889404296875, 30.088544845581055, 29.65975570678711, 28.42193603515625, 28.37144660949707, 28.272241592407227, 113.72852325439453, 72.48999786376953, 70.04595947265625, 593.1572265625, 51.15950393676758, 80.37014770507812, 85.85940551757812, 94.53379821777344, 207.44259643554688, 182.57481384277344, 133.2305908203125, 600.1463012695312, 482.7342224121094, 1860.703125, 183.4884490966797, 491.5080261230469, 614.0355224609375, 616.9098510742188, 209.38612365722656, 334.6674499511719, 598.5198364257812, 383.7979431152344, 307.9284362792969, 710.4534301757812, 729.0056762695312, 379.816162109375, 346.1930236816406, 257.4155578613281, 568.898681640625, 4357.89697265625, 3669.39990234375, 688.1351928710938, 869.8159790039062, 616.634521484375, 1560.60791015625, 1467.0467529296875, 2675.276123046875, 1691.2908935546875, 3192.50634765625, 1065.5885009765625, 591.190185546875, 362.9233093261719, 240.36026000976562, 125.75418853759766, 114.19224548339844, 82.97284698486328, 80.85609436035156, 79.50582122802734, 77.09119415283203, 75.33811950683594, 74.01907348632812, 69.81611633300781, 69.00450897216797, 63.834598541259766, 62.856689453125, 61.29401397705078, 55.63600158691406, 52.647151947021484, 51.154136657714844, 48.26077651977539, 45.80118179321289, 39.19391632080078, 40.18082809448242, 37.88098907470703, 37.43037033081055, 36.9566535949707, 36.78749084472656, 36.51482391357422, 36.185813903808594, 35.568172454833984, 264.34112548828125, 596.9869995117188, 262.9776916503906, 369.93865966796875, 76.53895568847656, 96.968994140625, 84.01124572753906, 117.09648132324219, 50.38239669799805, 78.41121673583984, 142.7894744873047, 96.15125274658203, 203.8414306640625, 257.3659973144531, 108.93643188476562, 384.03668212890625, 616.634521484375, 284.3028564453125, 130.0860595703125, 6498.06396484375, 592.1864013671875, 379.816162109375, 965.0337524414062, 226.70774841308594, 172.7205810546875, 153.17347717285156, 140.71792602539062, 647.708251953125, 86.26234436035156, 49.489967346191406, 49.101009368896484, 41.961143493652344, 40.8172607421875, 39.25389862060547, 39.16108703613281, 38.60346984863281, 36.91158676147461, 36.7309455871582, 35.35139846801758, 34.35615539550781, 31.501060485839844, 31.214136123657227, 30.64210319519043, 29.903263092041016, 28.032800674438477, 26.836872100830078, 26.79865837097168, 26.447126388549805, 24.38178825378418, 23.107242584228516, 22.98712921142578, 22.448566436767578, 20.98399543762207, 37.39543914794922, 91.40242767333984, 78.997314453125, 114.24200439453125, 803.6199951171875, 243.7862091064453, 288.129638671875, 375.0245056152344, 42.14353561401367, 47.24135208129883, 1842.1514892578125, 250.9451904296875, 490.0948181152344, 468.3069763183594, 46.24007034301758, 616.8910522460938, 97.1258544921875, 416.5927429199219, 130.8346405029297, 291.5730895996094, 1646.247802734375, 528.4497680664062, 1037.5504150390625, 163.6139678955078, 832.704345703125, 132.9926300048828, 666.3827514648438, 1139.7540283203125, 369.1570129394531, 1398.2027587890625, 1607.6473388671875, 1436.59423828125, 1204.558837890625, 740.3267211914062, 398.0597839355469, 516.45849609375, 569.0777587890625, 302.4638671875, 226.2032928466797, 157.6737060546875, 105.52066040039062, 84.59254455566406, 68.41169738769531, 58.1048698425293, 55.25448226928711, 53.943519592285156, 51.8311767578125, 48.36840057373047, 99.44699096679688, 40.86574172973633, 40.109989166259766, 39.38159942626953, 38.78883361816406, 36.92068862915039, 32.2700080871582, 31.457866668701172, 29.197059631347656, 29.14180564880371, 22.765806198120117, 22.60359764099121, 284.93280029296875, 20.646772384643555, 19.271474838256836, 19.24479103088379, 18.193984985351562, 18.039264678955078, 37.40569305419922, 1018.2744140625, 658.3912963867188, 158.03663635253906, 84.52387237548828, 57.018760681152344, 818.7448120117188, 211.4403839111328, 325.5044860839844, 101.7195053100586, 80.55420684814453, 150.4500732421875, 199.60879516601562, 2101.029052734375, 353.62762451171875, 1357.532470703125, 134.87844848632812, 766.0985717773438, 306.4246520996094, 232.13050842285156, 215.9439239501953, 524.876220703125, 102.0569076538086, 59.1485710144043, 54.72504425048828, 49.566471099853516, 44.042030334472656, 37.20180892944336, 35.3984489440918, 34.28859329223633, 32.743247985839844, 27.8260498046875, 27.49640464782715, 26.03120231628418, 23.619991302490234, 22.67153549194336, 22.27677345275879, 22.132261276245117, 21.6640625, 20.94919776916504, 20.868873596191406, 20.484464645385742, 19.838157653808594, 19.788822174072266, 18.511625289916992, 18.283771514892578, 18.10234260559082, 17.770736694335938, 16.228044509887695, 15.697267532348633, 15.338632583618164, 14.644615173339844, 23.815813064575195, 36.7059326171875, 416.6045837402344, 74.47456359863281, 65.19203186035156, 37.088138580322266, 109.1627197265625, 579.9534912109375, 39.87076187133789, 40.90896987915039, 41.573326110839844, 265.188232421875, 56.58493423461914, 33.29872131347656, 238.7233428955078, 80.4358139038086, 237.8001251220703, 136.62680053710938, 270.3812255859375, 552.1158447265625, 109.84761047363281, 580.3264770507812, 509.2265319824219, 139.98765563964844, 67.0816421508789, 165.30368041992188, 268.6183776855469, 268.38250732421875, 263.7469482421875, 254.1782684326172, 173.10366821289062, 511.34869384765625, 472.4942932128906, 1612.74609375, 415.9226379394531, 495.54083251953125, 82.85372161865234, 76.53169250488281, 56.83518981933594, 51.610198974609375, 46.1609001159668, 41.37784194946289, 40.89502716064453, 39.923553466796875, 37.950321197509766, 37.94352722167969, 36.79668426513672, 36.367889404296875, 36.315704345703125, 34.960975646972656, 33.08967208862305, 32.906314849853516, 29.937850952148438, 29.88214111328125, 29.58242416381836, 29.172958374023438, 28.14322280883789, 27.991825103759766, 27.378923416137695, 27.19307518005371, 26.789987564086914, 26.653310775756836, 26.3229923248291, 26.288909912109375, 26.077783584594727, 25.89961814880371, 59.0779914855957, 52.60980987548828, 58.95396423339844, 57.87309646606445, 61.889156341552734, 35.41725540161133, 195.1143341064453, 64.6548843383789, 112.67942810058594, 36.39805603027344, 74.54502868652344, 68.18098449707031, 50.4984245300293, 37.92382049560547, 35.926700592041016, 30.215307235717773, 29.789222717285156, 29.556495666503906, 27.350507736206055, 26.948650360107422, 26.861642837524414, 25.448078155517578, 24.9123477935791, 24.703689575195312, 24.069869995117188, 23.555910110473633, 22.915376663208008, 22.872573852539062, 22.305213928222656, 21.819255828857422, 21.784814834594727, 20.46989631652832, 19.831783294677734, 19.4855899810791, 18.725061416625977, 17.788036346435547, 17.517271041870117, 17.38511085510254, 16.98542022705078, 16.979408264160156, 68.11526489257812, 96.35556030273438, 47.34247589111328, 29.46263313293457, 52.5914306640625, 23.182212829589844, 24.365079879760742, 34.73477554321289, 80.40060424804688, 115.1793441772461, 51.05125045776367, 30.73847770690918, 229.1077880859375, 36.75022506713867, 35.0839729309082, 170.1982421875, 136.31210327148438, 38.20328903198242, 34.87838363647461, 31.84497833251953, 31.59285545349121, 31.459928512573242, 31.392183303833008, 30.57809829711914, 29.50467872619629, 27.91537857055664, 27.35842514038086, 25.528005599975586, 24.574277877807617, 24.431201934814453, 23.016220092773438, 22.62918472290039, 22.50020980834961, 22.34278678894043, 21.7314395904541, 21.584949493408203, 20.911367416381836, 20.71942710876465, 19.956186294555664, 18.759029388427734, 17.848438262939453, 17.19913101196289, 16.79414939880371, 17.70975112915039, 16.154300689697266, 16.017013549804688, 194.0462188720703, 162.99563598632812, 35.145355224609375, 36.573822021484375, 165.42343139648438, 95.4797592163086, 112.27952575683594, 281.4791259765625, 75.42032623291016, 108.00961303710938, 191.04212951660156, 238.79190063476562, 566.792236328125, 416.7131042480469, 85.8308334350586, 160.5382843017578, 207.3764190673828, 210.1899871826172, 672.813720703125, 90.54651641845703, 86.47309112548828, 77.04295349121094, 65.19450378417969, 59.68278121948242, 57.29773712158203, 56.75914764404297, 55.67109298706055, 58.524635314941406, 40.3524284362793, 39.05216598510742, 36.45709228515625, 33.88567352294922, 28.433155059814453, 25.60920524597168, 24.950990676879883, 24.762224197387695, 24.64133644104004, 24.181400299072266, 22.54646873474121, 20.668628692626953, 20.598251342773438, 19.241168975830078, 47.252777099609375, 18.201068878173828, 17.902111053466797, 17.53938102722168, 17.108469009399414, 16.551233291625977, 15.293871879577637, 62.62139892578125, 129.42501831054688, 85.07310485839844, 200.7342071533203, 63.41778564453125, 168.74270629882812, 108.81829833984375, 170.71096801757812, 270.3812255859375, 111.70695495605469, 136.81689453125, 219.41221618652344, 338.9992980957031, 106.50013732910156, 54.27705383300781, 295.316650390625, 133.08425903320312, 72.49932098388672, 71.78582763671875, 26.529695510864258, 24.91217803955078, 24.02039909362793, 20.044139862060547, 18.81598663330078, 18.763561248779297, 18.05917739868164, 17.542787551879883, 16.16360092163086, 16.150707244873047, 15.966914176940918, 14.790042877197266, 13.664318084716797, 13.171952247619629, 13.04928970336914, 12.865376472473145, 12.719826698303223, 12.716015815734863, 28.567943572998047, 12.324318885803223, 12.089439392089844, 11.997932434082031, 11.964559555053711, 30.177703857421875, 11.361522674560547, 11.005988121032715, 10.504643440246582, 14.97107982635498, 27.12215805053711, 50.42454528808594, 23.221538543701172, 54.7712516784668, 60.28300857543945, 61.977020263671875, 35.39412307739258, 52.036766052246094, 30.648006439208984, 97.94317626953125, 28.746074676513672, 308.8029479980469, 118.64358520507812], \"Category\": [\"Default\", \"Default\", \"Default\", \"Default\", \"Default\", \"Default\", \"Default\", \"Default\", \"Default\", \"Default\", \"Default\", \"Default\", \"Default\", \"Default\", \"Default\", \"Default\", \"Default\", \"Default\", \"Default\", \"Default\", \"Default\", \"Default\", \"Default\", \"Default\", \"Default\", \"Default\", \"Default\", \"Default\", \"Default\", \"Default\", \"Topic1\", \"Topic1\", \"Topic1\", \"Topic1\", \"Topic1\", \"Topic1\", \"Topic1\", \"Topic1\", \"Topic1\", \"Topic1\", \"Topic1\", \"Topic1\", \"Topic1\", \"Topic1\", \"Topic1\", \"Topic1\", \"Topic1\", \"Topic1\", \"Topic1\", \"Topic1\", \"Topic1\", \"Topic1\", \"Topic1\", \"Topic1\", \"Topic1\", \"Topic1\", \"Topic1\", \"Topic1\", \"Topic1\", \"Topic1\", \"Topic1\", \"Topic1\", \"Topic1\", \"Topic1\", \"Topic1\", \"Topic1\", \"Topic1\", \"Topic1\", \"Topic1\", \"Topic1\", \"Topic1\", \"Topic1\", \"Topic1\", \"Topic1\", \"Topic1\", \"Topic1\", \"Topic1\", \"Topic1\", \"Topic1\", \"Topic1\", \"Topic1\", \"Topic1\", \"Topic1\", \"Topic1\", \"Topic1\", \"Topic1\", \"Topic1\", \"Topic1\", \"Topic1\", \"Topic1\", \"Topic1\", \"Topic1\", \"Topic1\", \"Topic1\", \"Topic1\", \"Topic1\", \"Topic1\", \"Topic1\", \"Topic1\", \"Topic1\", \"Topic1\", \"Topic1\", \"Topic1\", \"Topic1\", \"Topic1\", \"Topic1\", \"Topic1\", \"Topic1\", \"Topic1\", \"Topic1\", \"Topic2\", \"Topic2\", \"Topic2\", \"Topic2\", \"Topic2\", \"Topic2\", \"Topic2\", \"Topic2\", \"Topic2\", \"Topic2\", \"Topic2\", \"Topic2\", \"Topic2\", \"Topic2\", \"Topic2\", \"Topic2\", \"Topic2\", \"Topic2\", \"Topic2\", \"Topic2\", \"Topic2\", \"Topic2\", \"Topic2\", \"Topic2\", \"Topic2\", \"Topic2\", \"Topic2\", \"Topic2\", \"Topic2\", \"Topic2\", \"Topic2\", \"Topic2\", \"Topic2\", \"Topic2\", \"Topic2\", \"Topic2\", \"Topic2\", \"Topic2\", \"Topic2\", \"Topic2\", \"Topic2\", \"Topic2\", \"Topic2\", \"Topic2\", \"Topic2\", \"Topic2\", \"Topic2\", \"Topic2\", \"Topic2\", \"Topic2\", \"Topic2\", \"Topic2\", \"Topic2\", \"Topic2\", \"Topic2\", \"Topic2\", \"Topic2\", \"Topic2\", \"Topic2\", \"Topic2\", \"Topic2\", \"Topic2\", \"Topic2\", \"Topic2\", \"Topic2\", \"Topic2\", \"Topic2\", \"Topic2\", \"Topic2\", \"Topic2\", \"Topic2\", \"Topic2\", \"Topic2\", \"Topic2\", \"Topic3\", \"Topic3\", \"Topic3\", \"Topic3\", \"Topic3\", \"Topic3\", \"Topic3\", \"Topic3\", \"Topic3\", \"Topic3\", \"Topic3\", \"Topic3\", \"Topic3\", \"Topic3\", \"Topic3\", \"Topic3\", \"Topic3\", \"Topic3\", \"Topic3\", \"Topic3\", \"Topic3\", \"Topic3\", \"Topic3\", \"Topic3\", \"Topic3\", \"Topic3\", \"Topic3\", \"Topic3\", \"Topic3\", \"Topic3\", \"Topic3\", \"Topic3\", \"Topic3\", \"Topic3\", \"Topic3\", \"Topic3\", \"Topic3\", \"Topic3\", \"Topic3\", \"Topic3\", \"Topic3\", \"Topic3\", \"Topic3\", \"Topic3\", \"Topic3\", \"Topic3\", \"Topic3\", \"Topic3\", \"Topic3\", \"Topic3\", \"Topic3\", \"Topic3\", \"Topic3\", \"Topic3\", \"Topic3\", \"Topic3\", \"Topic3\", \"Topic3\", \"Topic3\", \"Topic3\", \"Topic3\", \"Topic3\", \"Topic3\", \"Topic4\", \"Topic4\", \"Topic4\", \"Topic4\", \"Topic4\", \"Topic4\", \"Topic4\", \"Topic4\", \"Topic4\", \"Topic4\", \"Topic4\", \"Topic4\", \"Topic4\", \"Topic4\", \"Topic4\", \"Topic4\", \"Topic4\", \"Topic4\", \"Topic4\", \"Topic4\", \"Topic4\", \"Topic4\", \"Topic4\", \"Topic4\", \"Topic4\", \"Topic4\", \"Topic4\", \"Topic4\", \"Topic4\", \"Topic4\", \"Topic4\", \"Topic4\", \"Topic4\", \"Topic4\", \"Topic4\", \"Topic4\", \"Topic4\", \"Topic4\", \"Topic4\", \"Topic4\", \"Topic4\", \"Topic4\", \"Topic4\", \"Topic4\", \"Topic4\", \"Topic4\", \"Topic4\", \"Topic4\", \"Topic4\", \"Topic4\", \"Topic4\", \"Topic4\", \"Topic4\", \"Topic4\", \"Topic4\", \"Topic4\", \"Topic4\", \"Topic4\", \"Topic4\", \"Topic4\", \"Topic4\", \"Topic4\", \"Topic4\", \"Topic4\", \"Topic4\", \"Topic4\", \"Topic4\", \"Topic4\", \"Topic4\", \"Topic4\", \"Topic5\", \"Topic5\", \"Topic5\", \"Topic5\", \"Topic5\", \"Topic5\", \"Topic5\", \"Topic5\", \"Topic5\", \"Topic5\", \"Topic5\", \"Topic5\", \"Topic5\", \"Topic5\", \"Topic5\", \"Topic5\", \"Topic5\", \"Topic5\", \"Topic5\", \"Topic5\", \"Topic5\", \"Topic5\", \"Topic5\", \"Topic5\", \"Topic5\", \"Topic5\", \"Topic5\", \"Topic5\", \"Topic5\", \"Topic5\", \"Topic5\", \"Topic5\", \"Topic5\", \"Topic5\", \"Topic5\", \"Topic5\", \"Topic5\", \"Topic5\", \"Topic5\", \"Topic5\", \"Topic5\", \"Topic5\", \"Topic5\", \"Topic5\", \"Topic5\", \"Topic5\", \"Topic5\", \"Topic5\", \"Topic5\", \"Topic5\", \"Topic5\", \"Topic5\", \"Topic5\", \"Topic5\", \"Topic5\", \"Topic5\", \"Topic5\", \"Topic5\", \"Topic5\", \"Topic5\", \"Topic5\", \"Topic5\", \"Topic5\", \"Topic5\", \"Topic6\", \"Topic6\", \"Topic6\", \"Topic6\", \"Topic6\", \"Topic6\", \"Topic6\", \"Topic6\", \"Topic6\", \"Topic6\", \"Topic6\", \"Topic6\", \"Topic6\", \"Topic6\", \"Topic6\", \"Topic6\", \"Topic6\", \"Topic6\", \"Topic6\", \"Topic6\", \"Topic6\", \"Topic6\", \"Topic6\", \"Topic6\", \"Topic6\", \"Topic6\", \"Topic6\", \"Topic6\", \"Topic6\", \"Topic6\", \"Topic6\", \"Topic6\", \"Topic6\", \"Topic6\", \"Topic6\", \"Topic6\", \"Topic6\", \"Topic6\", \"Topic6\", \"Topic6\", \"Topic6\", \"Topic6\", \"Topic6\", \"Topic6\", \"Topic6\", \"Topic6\", \"Topic6\", \"Topic6\", \"Topic6\", \"Topic6\", \"Topic6\", \"Topic6\", \"Topic6\", \"Topic6\", \"Topic6\", \"Topic6\", \"Topic6\", \"Topic6\", \"Topic6\", \"Topic6\", \"Topic6\", \"Topic6\", \"Topic7\", \"Topic7\", \"Topic7\", \"Topic7\", \"Topic7\", \"Topic7\", \"Topic7\", \"Topic7\", \"Topic7\", \"Topic7\", \"Topic7\", \"Topic7\", \"Topic7\", \"Topic7\", \"Topic7\", \"Topic7\", \"Topic7\", \"Topic7\", \"Topic7\", \"Topic7\", \"Topic7\", \"Topic7\", \"Topic7\", \"Topic7\", \"Topic7\", \"Topic7\", \"Topic7\", \"Topic7\", \"Topic7\", \"Topic7\", \"Topic7\", \"Topic7\", \"Topic7\", \"Topic7\", \"Topic7\", \"Topic7\", \"Topic7\", \"Topic7\", \"Topic7\", \"Topic7\", \"Topic7\", \"Topic7\", \"Topic7\", \"Topic7\", \"Topic7\", \"Topic7\", \"Topic7\", \"Topic7\", \"Topic7\", \"Topic7\", \"Topic7\", \"Topic7\", \"Topic7\", \"Topic7\", \"Topic7\", \"Topic7\", \"Topic7\", \"Topic7\", \"Topic7\", \"Topic7\", \"Topic7\", \"Topic7\", \"Topic7\", \"Topic7\", \"Topic7\", \"Topic7\", \"Topic7\", \"Topic7\", \"Topic7\", \"Topic7\", \"Topic7\", \"Topic7\", \"Topic8\", \"Topic8\", \"Topic8\", \"Topic8\", \"Topic8\", \"Topic8\", \"Topic8\", \"Topic8\", \"Topic8\", \"Topic8\", \"Topic8\", \"Topic8\", \"Topic8\", \"Topic8\", \"Topic8\", \"Topic8\", \"Topic8\", \"Topic8\", \"Topic8\", \"Topic8\", \"Topic8\", \"Topic8\", \"Topic8\", \"Topic8\", \"Topic8\", \"Topic8\", \"Topic8\", \"Topic8\", \"Topic8\", \"Topic8\", \"Topic8\", \"Topic8\", \"Topic8\", \"Topic8\", \"Topic8\", \"Topic8\", \"Topic8\", \"Topic8\", \"Topic8\", \"Topic8\", \"Topic8\", \"Topic8\", \"Topic8\", \"Topic8\", \"Topic8\", \"Topic8\", \"Topic8\", \"Topic8\", \"Topic8\", \"Topic8\", \"Topic8\", \"Topic8\", \"Topic8\", \"Topic8\", \"Topic8\", \"Topic8\", \"Topic8\", \"Topic8\", \"Topic8\", \"Topic8\", \"Topic8\", \"Topic8\", \"Topic8\", \"Topic8\", \"Topic8\", \"Topic8\", \"Topic9\", \"Topic9\", \"Topic9\", \"Topic9\", \"Topic9\", \"Topic9\", \"Topic9\", \"Topic9\", \"Topic9\", \"Topic9\", \"Topic9\", \"Topic9\", \"Topic9\", \"Topic9\", \"Topic9\", \"Topic9\", \"Topic9\", \"Topic9\", \"Topic9\", \"Topic9\", \"Topic9\", \"Topic9\", \"Topic9\", \"Topic9\", \"Topic9\", \"Topic9\", \"Topic9\", \"Topic9\", \"Topic9\", \"Topic9\", \"Topic9\", \"Topic9\", \"Topic9\", \"Topic9\", \"Topic9\", \"Topic9\", \"Topic9\", \"Topic9\", \"Topic9\", \"Topic9\", \"Topic9\", \"Topic9\", \"Topic9\", \"Topic9\", \"Topic9\", \"Topic9\", \"Topic9\", \"Topic9\", \"Topic9\", \"Topic9\", \"Topic9\", \"Topic9\", \"Topic9\", \"Topic9\", \"Topic9\", \"Topic10\", \"Topic10\", \"Topic10\", \"Topic10\", \"Topic10\", \"Topic10\", \"Topic10\", \"Topic10\", \"Topic10\", \"Topic10\", \"Topic10\", \"Topic10\", \"Topic10\", \"Topic10\", \"Topic10\", \"Topic10\", \"Topic10\", \"Topic10\", \"Topic10\", \"Topic10\", \"Topic10\", \"Topic10\", \"Topic10\", \"Topic10\", \"Topic10\", \"Topic10\", \"Topic10\", \"Topic10\", \"Topic10\", \"Topic10\", \"Topic10\", \"Topic10\", \"Topic10\", \"Topic10\", \"Topic10\", \"Topic10\", \"Topic10\", \"Topic10\", \"Topic10\", \"Topic10\", \"Topic10\", \"Topic10\", \"Topic10\", \"Topic10\", \"Topic10\", \"Topic10\", \"Topic10\", \"Topic10\", \"Topic10\", \"Topic10\", \"Topic10\", \"Topic10\", \"Topic10\", \"Topic10\", \"Topic10\", \"Topic10\", \"Topic10\", \"Topic11\", \"Topic11\", \"Topic11\", \"Topic11\", \"Topic11\", \"Topic11\", \"Topic11\", \"Topic11\", \"Topic11\", \"Topic11\", \"Topic11\", \"Topic11\", \"Topic11\", \"Topic11\", \"Topic11\", \"Topic11\", \"Topic11\", \"Topic11\", \"Topic11\", \"Topic11\", \"Topic11\", \"Topic11\", \"Topic11\", \"Topic11\", \"Topic11\", \"Topic11\", \"Topic11\", \"Topic11\", \"Topic11\", \"Topic11\", \"Topic11\", \"Topic11\", \"Topic11\", \"Topic11\", \"Topic11\", \"Topic11\", \"Topic11\", \"Topic11\", \"Topic11\", \"Topic11\", \"Topic11\", \"Topic11\", \"Topic11\", \"Topic11\", \"Topic11\", \"Topic11\", \"Topic11\", \"Topic11\", \"Topic11\", \"Topic11\", \"Topic11\", \"Topic11\", \"Topic11\", \"Topic11\", \"Topic11\", \"Topic11\", \"Topic11\", \"Topic11\", \"Topic11\", \"Topic11\", \"Topic11\", \"Topic11\", \"Topic11\", \"Topic11\", \"Topic11\", \"Topic11\", \"Topic11\", \"Topic11\", \"Topic11\", \"Topic11\", \"Topic12\", \"Topic12\", \"Topic12\", \"Topic12\", \"Topic12\", \"Topic12\", \"Topic12\", \"Topic12\", \"Topic12\", \"Topic12\", \"Topic12\", \"Topic12\", \"Topic12\", \"Topic12\", \"Topic12\", \"Topic12\", \"Topic12\", \"Topic12\", \"Topic12\", \"Topic12\", \"Topic12\", \"Topic12\", \"Topic12\", \"Topic12\", \"Topic12\", \"Topic12\", \"Topic12\", \"Topic12\", \"Topic12\", \"Topic12\", \"Topic12\", \"Topic12\", \"Topic12\", \"Topic12\", \"Topic12\", \"Topic12\", \"Topic12\", \"Topic12\", \"Topic12\", \"Topic12\", \"Topic12\", \"Topic12\", \"Topic12\", \"Topic12\", \"Topic12\", \"Topic12\", \"Topic12\", \"Topic12\", \"Topic12\", \"Topic12\", \"Topic12\", \"Topic12\", \"Topic12\", \"Topic13\", \"Topic13\", \"Topic13\", \"Topic13\", \"Topic13\", \"Topic13\", \"Topic13\", \"Topic13\", \"Topic13\", \"Topic13\", \"Topic13\", \"Topic13\", \"Topic13\", \"Topic13\", \"Topic13\", \"Topic13\", \"Topic13\", \"Topic13\", \"Topic13\", \"Topic13\", \"Topic13\", \"Topic13\", \"Topic13\", \"Topic13\", \"Topic13\", \"Topic13\", \"Topic13\", \"Topic13\", \"Topic13\", \"Topic13\", \"Topic13\", \"Topic13\", \"Topic13\", \"Topic13\", \"Topic13\", \"Topic13\", \"Topic13\", \"Topic13\", \"Topic13\", \"Topic13\", \"Topic13\", \"Topic13\", \"Topic13\", \"Topic13\", \"Topic13\", \"Topic13\", \"Topic13\", \"Topic13\", \"Topic13\", \"Topic13\", \"Topic13\", \"Topic13\", \"Topic13\", \"Topic13\", \"Topic13\", \"Topic13\", \"Topic13\", \"Topic13\", \"Topic13\", \"Topic13\", \"Topic13\", \"Topic13\", \"Topic13\", \"Topic13\", \"Topic13\", \"Topic13\", \"Topic14\", \"Topic14\", \"Topic14\", \"Topic14\", \"Topic14\", \"Topic14\", \"Topic14\", \"Topic14\", \"Topic14\", \"Topic14\", \"Topic14\", \"Topic14\", \"Topic14\", \"Topic14\", \"Topic14\", \"Topic14\", \"Topic14\", \"Topic14\", \"Topic14\", \"Topic14\", \"Topic14\", \"Topic14\", \"Topic14\", \"Topic14\", \"Topic14\", \"Topic14\", \"Topic14\", \"Topic14\", \"Topic14\", \"Topic14\", \"Topic14\", \"Topic14\", \"Topic14\", \"Topic14\", \"Topic14\", \"Topic14\", \"Topic14\", \"Topic14\", \"Topic14\", \"Topic14\", \"Topic14\", \"Topic14\", \"Topic14\", \"Topic14\", \"Topic14\", \"Topic14\", \"Topic14\", \"Topic14\", \"Topic14\", \"Topic14\", \"Topic14\", \"Topic14\", \"Topic15\", \"Topic15\", \"Topic15\", \"Topic15\", \"Topic15\", \"Topic15\", \"Topic15\", \"Topic15\", \"Topic15\", \"Topic15\", \"Topic15\", \"Topic15\", \"Topic15\", \"Topic15\", \"Topic15\", \"Topic15\", \"Topic15\", \"Topic15\", \"Topic15\", \"Topic15\", \"Topic15\", \"Topic15\", \"Topic15\", \"Topic15\", \"Topic15\", \"Topic15\", \"Topic15\", \"Topic15\", \"Topic15\", \"Topic15\", \"Topic15\", \"Topic15\", \"Topic15\", \"Topic15\", \"Topic15\", \"Topic15\", \"Topic15\", \"Topic15\", \"Topic15\", \"Topic15\", \"Topic15\", \"Topic15\", \"Topic15\", \"Topic15\", \"Topic15\", \"Topic15\", \"Topic15\", \"Topic15\", \"Topic15\", \"Topic15\", \"Topic15\", \"Topic15\", \"Topic15\", \"Topic15\", \"Topic15\", \"Topic15\", \"Topic15\", \"Topic15\", \"Topic15\", \"Topic15\", \"Topic15\", \"Topic15\", \"Topic15\", \"Topic15\", \"Topic15\", \"Topic15\", \"Topic16\", \"Topic16\", \"Topic16\", \"Topic16\", \"Topic16\", \"Topic16\", \"Topic16\", \"Topic16\", \"Topic16\", \"Topic16\", \"Topic16\", \"Topic16\", \"Topic16\", \"Topic16\", \"Topic16\", \"Topic16\", \"Topic16\", \"Topic16\", \"Topic16\", \"Topic16\", \"Topic16\", \"Topic16\", \"Topic16\", \"Topic16\", \"Topic16\", \"Topic16\", \"Topic16\", \"Topic16\", \"Topic16\", \"Topic16\", \"Topic16\", \"Topic16\", \"Topic16\", \"Topic16\", \"Topic16\", \"Topic16\", \"Topic16\", \"Topic16\", \"Topic16\", \"Topic16\", \"Topic17\", \"Topic17\", \"Topic17\", \"Topic17\", \"Topic17\", \"Topic17\", \"Topic17\", \"Topic17\", \"Topic17\", \"Topic17\", \"Topic17\", \"Topic17\", \"Topic17\", \"Topic17\", \"Topic17\", \"Topic17\", \"Topic17\", \"Topic17\", \"Topic17\", \"Topic17\", \"Topic17\", \"Topic17\", \"Topic17\", \"Topic17\", \"Topic17\", \"Topic17\", \"Topic17\", \"Topic17\", \"Topic17\", \"Topic17\", \"Topic17\", \"Topic17\", \"Topic17\", \"Topic17\", \"Topic17\", \"Topic17\", \"Topic17\", \"Topic17\", \"Topic17\", \"Topic17\", \"Topic17\", \"Topic17\", \"Topic17\", \"Topic17\", \"Topic17\", \"Topic17\", \"Topic18\", \"Topic18\", \"Topic18\", \"Topic18\", \"Topic18\", \"Topic18\", \"Topic18\", \"Topic18\", \"Topic18\", \"Topic18\", \"Topic18\", \"Topic18\", \"Topic18\", \"Topic18\", \"Topic18\", \"Topic18\", \"Topic18\", \"Topic18\", \"Topic18\", \"Topic18\", \"Topic18\", \"Topic18\", \"Topic18\", \"Topic18\", \"Topic18\", \"Topic18\", \"Topic18\", \"Topic18\", \"Topic18\", \"Topic18\", \"Topic18\", \"Topic18\", \"Topic18\", \"Topic18\", \"Topic18\", \"Topic18\", \"Topic18\", \"Topic18\", \"Topic18\", \"Topic18\", \"Topic18\", \"Topic18\", \"Topic18\", \"Topic18\", \"Topic18\", \"Topic18\", \"Topic18\", \"Topic18\", \"Topic18\", \"Topic19\", \"Topic19\", \"Topic19\", \"Topic19\", \"Topic19\", \"Topic19\", \"Topic19\", \"Topic19\", \"Topic19\", \"Topic19\", \"Topic19\", \"Topic19\", \"Topic19\", \"Topic19\", \"Topic19\", \"Topic19\", \"Topic19\", \"Topic19\", \"Topic19\", \"Topic19\", \"Topic19\", \"Topic19\", \"Topic19\", \"Topic19\", \"Topic19\", \"Topic19\", \"Topic19\", \"Topic19\", \"Topic19\", \"Topic19\", \"Topic19\", \"Topic19\", \"Topic19\", \"Topic19\", \"Topic19\", \"Topic19\", \"Topic19\", \"Topic19\", \"Topic19\", \"Topic19\", \"Topic19\", \"Topic19\", \"Topic19\", \"Topic19\", \"Topic19\", \"Topic19\", \"Topic20\", \"Topic20\", \"Topic20\", \"Topic20\", \"Topic20\", \"Topic20\", \"Topic20\", \"Topic20\", \"Topic20\", \"Topic20\", \"Topic20\", \"Topic20\", \"Topic20\", \"Topic20\", \"Topic20\", \"Topic20\", \"Topic20\", \"Topic20\", \"Topic20\", \"Topic20\", \"Topic20\", \"Topic20\", \"Topic20\", \"Topic20\", \"Topic20\", \"Topic20\", \"Topic20\", \"Topic20\", \"Topic20\", \"Topic20\", \"Topic20\", \"Topic20\", \"Topic20\", \"Topic20\", \"Topic20\", \"Topic20\", \"Topic20\", \"Topic20\", \"Topic20\", \"Topic20\", \"Topic20\", \"Topic20\", \"Topic20\", \"Topic20\"], \"logprob\": [30.0, 29.0, 28.0, 27.0, 26.0, 25.0, 24.0, 23.0, 22.0, 21.0, 20.0, 19.0, 18.0, 17.0, 16.0, 15.0, 14.0, 13.0, 12.0, 11.0, 10.0, 9.0, 8.0, 7.0, 6.0, 5.0, 4.0, 3.0, 2.0, 1.0, -6.936399936676025, -7.231100082397461, -7.6778998374938965, -7.825300216674805, -7.8979997634887695, -7.970799922943115, -8.009499549865723, -8.026700019836426, -8.065199851989746, -8.1072998046875, -8.156100273132324, -8.159099578857422, -8.266599655151367, -8.28439998626709, -8.286100387573242, -8.33530044555664, -8.3572998046875, -8.395500183105469, -8.415599822998047, -8.30739974975586, -8.429699897766113, -8.432700157165527, -7.040299892425537, -8.43649959564209, -8.446000099182129, -8.457500457763672, -8.475199699401855, -8.498299598693848, -8.590700149536133, -8.593500137329102, -8.072400093078613, -4.3282999992370605, -7.138599872589111, -6.329999923706055, -5.090400218963623, -5.475399971008301, -5.306399822235107, -7.82480001449585, -6.321000099182129, -6.141600131988525, -5.196300029754639, -5.856400012969971, -7.793099880218506, -5.361800193786621, -7.320899963378906, -5.678800106048584, -4.8907999992370605, -6.094900131225586, -3.9298999309539795, -4.750999927520752, -5.173099994659424, -5.716000080108643, -4.343200206756592, -4.492300033569336, -5.581900119781494, -6.073500156402588, -7.19980001449585, -5.471700191497803, -6.036099910736084, -5.3765997886657715, -4.680699825286865, -4.850100040435791, -5.7220001220703125, -4.874000072479248, -5.1905999183654785, -5.085100173950195, -5.492700099945068, -5.00029993057251, -5.6682000160217285, -5.4369001388549805, -5.611299991607666, -5.760900020599365, -5.455699920654297, -4.893099784851074, -5.38539981842041, -5.508500099182129, -5.253300189971924, -5.519700050354004, -5.593999862670898, -5.560500144958496, -5.7453999519348145, -6.414599895477295, -6.5177998542785645, -6.610799789428711, -6.633800029754639, -6.679500102996826, -6.76039981842041, -7.025100231170654, -7.1209001541137695, -7.160799980163574, -7.178299903869629, -7.241099834442139, -7.420899868011475, -7.434000015258789, -7.456399917602539, -7.472400188446045, -7.26669979095459, -7.497300148010254, -7.520400047302246, -7.548099994659424, -7.571599960327148, -7.58459997177124, -7.585000038146973, -7.588699817657471, -7.591400146484375, -7.635200023651123, -7.624100208282471, -7.649199962615967, -7.6616997718811035, -7.6697001457214355, -6.440400123596191, -5.940499782562256, -5.905099868774414, -6.020299911499023, -6.526199817657471, -6.586299896240234, -6.525300025939941, -6.4633002281188965, -5.72730016708374, -6.472499847412109, -6.615099906921387, -6.7210001945495605, -6.086100101470947, -6.389699935913086, -5.966300010681152, -6.383399963378906, -6.6940999031066895, -6.0903000831604, -5.845300197601318, -4.175899982452393, -6.127500057220459, -5.437300205230713, -5.792600154876709, -5.3368000984191895, -5.80019998550415, -5.938899993896484, -5.583899974822998, -6.011899948120117, -5.30709981918335, -5.850900173187256, -5.950699806213379, -5.4375, -4.922599792480469, -6.231299877166748, -5.805099964141846, -5.903299808502197, -5.868599891662598, -5.618100166320801, -5.868500232696533, -5.714799880981445, -5.93179988861084, -5.912099838256836, -5.9405999183654785, -6.0366997718811035, -5.108099937438965, -5.4440999031066895, -5.571400165557861, -5.953100204467773, -6.0346999168396, -6.0644001960754395, -6.080399990081787, -6.246699810028076, -6.335000038146973, -6.345699787139893, -6.35099983215332, -6.399199962615967, -6.52239990234375, -6.56879997253418, -6.584700107574463, -6.6041998863220215, -6.642499923706055, -6.658999919891357, -6.760300159454346, -6.77239990234375, -6.800000190734863, -6.844200134277344, -6.853000164031982, -6.8871002197265625, -6.903500080108643, -6.930200099945068, -6.9303998947143555, -6.946700096130371, -6.962699890136719, -7.084700107574463, -5.070300102233887, -5.692200183868408, -4.816500186920166, -4.894999980926514, -6.353799819946289, -5.726399898529053, -5.728899955749512, -5.5208001136779785, -5.6579999923706055, -5.313399791717529, -5.488999843597412, -4.9156999588012695, -4.839799880981445, -5.321800231933594, -5.264999866485596, -4.654099941253662, -5.973100185394287, -5.951600074768066, -5.004000186920166, -4.813899993896484, -4.903600215911865, -5.033699989318848, -5.627900123596191, -5.069900035858154, -5.7067999839782715, -5.448800086975098, -5.4653000831604, -5.2932000160217285, -4.9608001708984375, -5.298600196838379, -5.606299877166748, -5.710000038146973, -5.677299976348877, -5.517199993133545, -5.68779993057251, -5.821700096130371, -5.86269998550415, -5.958799839019775, -6.218599796295166, -6.3520002365112305, -6.387599945068359, -6.5665998458862305, -6.611999988555908, -6.668600082397461, -6.706500053405762, -6.706500053405762, -6.714000225067139, -6.759900093078613, -6.867000102996826, -6.887700080871582, -6.89109992980957, -6.907199859619141, -6.947700023651123, -7.010000228881836, -7.1072001457214355, -7.127299785614014, -7.128499984741211, -7.145899772644043, -7.156199932098389, -7.177000045776367, -7.21560001373291, -7.222400188446045, -7.223499774932861, -6.573699951171875, -7.201000213623047, -4.967199802398682, -5.895199775695801, -6.010000228881836, -6.010900020599365, -4.028800010681152, -6.4583001136779785, -6.2733001708984375, -6.950300216674805, -5.478700160980225, -5.878200054168701, -6.220099925994873, -6.337399959564209, -6.22599983215332, -6.604000091552734, -5.356299877166748, -6.055799961090088, -5.580100059509277, -5.552800178527832, -5.957399845123291, -6.393799781799316, -5.870200157165527, -5.732900142669678, -5.965700149536133, -5.891200065612793, -5.887400150299072, -5.479300022125244, -5.563899993896484, -5.882400035858154, -5.746200084686279, -5.573500156402588, -6.001200199127197, -6.002200126647949, -5.563799858093262, -5.725299835205078, -5.868100166320801, -5.887499809265137, -5.911099910736084, -5.951900005340576, -4.05810022354126, -4.610400199890137, -4.832099914550781, -4.937300205230713, -4.939700126647949, -5.395599842071533, -5.51800012588501, -5.721799850463867, -5.777699947357178, -5.822500228881836, -5.940899848937988, -5.977799892425537, -5.978600025177002, -6.018799781799316, -6.110599994659424, -6.187600135803223, -6.245800018310547, -6.333899974822998, -6.377600193023682, -6.425000190734863, -6.450900077819824, -6.468900203704834, -6.497900009155273, -6.5457000732421875, -6.551000118255615, -6.597899913787842, -6.609799861907959, -6.66510009765625, -6.68209981918335, -6.715799808502197, -4.544000148773193, -5.669000148773193, -4.793099880218506, -5.859600067138672, -5.624300003051758, -5.722099781036377, -5.62529993057251, -4.956699848175049, -5.718999862670898, -5.0914998054504395, -5.4334001541137695, -5.686399936676025, -5.724800109863281, -5.958799839019775, -5.126500129699707, -4.658400058746338, -5.4328999519348145, -5.049200057983398, -5.545899868011475, -5.039899826049805, -5.383900165557861, -5.6743998527526855, -5.467899799346924, -5.412799835205078, -5.585000038146973, -5.538099765777588, -5.395400047302246, -5.436399936676025, -5.359300136566162, -5.607500076293945, -5.488699913024902, -5.418399810791016, -5.531599998474121, -5.590799808502197, -4.978600025177002, -5.853700160980225, -5.854000091552734, -5.994500160217285, -6.057700157165527, -6.111599922180176, -6.13730001449585, -5.276599884033203, -6.1641998291015625, -6.1666998863220215, -6.201499938964844, -6.248300075531006, -6.271200180053711, -6.302499771118164, -6.365099906921387, -6.486400127410889, -6.4878997802734375, -6.5329999923706055, -6.636899948120117, -6.6493000984191895, -6.707900047302246, -6.718500137329102, -6.720600128173828, -6.808300018310547, -6.832799911499023, -6.835999965667725, -6.839700222015381, -6.469799995422363, -7.019800186157227, -7.038300037384033, -5.465000152587891, -5.1834001541137695, -5.045400142669678, -5.3130998611450195, -5.9253997802734375, -6.17080020904541, -5.8734002113342285, -5.60830020904541, -5.452000141143799, -4.738699913024902, -5.831600189208984, -5.274199962615967, -5.6757001876831055, -5.368100166320801, -5.324699878692627, -4.7743000984191895, -5.479499816894531, -5.6184000968933105, -5.7342000007629395, -4.816199779510498, -5.464099884033203, -5.666900157928467, -5.740699768066406, -4.967100143432617, -5.469200134277344, -5.632699966430664, -5.560100078582764, -5.534999847412109, -5.402100086212158, -5.469299793243408, -5.77869987487793, -5.817800045013428, -4.923399925231934, -6.280399799346924, -6.389800071716309, -6.390699863433838, -6.4328999519348145, -6.4542999267578125, -6.485099792480469, -5.654200077056885, -6.499100208282471, -6.507500171661377, -6.582099914550781, -6.601500034332275, -6.747700214385986, -6.913899898529053, -6.984899997711182, -7.048799991607666, -7.115900039672852, -7.174600124359131, -5.167900085449219, -7.1894001960754395, -7.22790002822876, -7.270400047302246, -7.301400184631348, -7.332099914550781, -7.361599922180176, -7.404600143432617, -7.439899921417236, -7.4583001136779785, -7.464700222015381, -7.5346999168396, -6.172599792480469, -6.5731000900268555, -6.242199897766113, -5.23330020904541, -5.022799968719482, -6.513000011444092, -4.856900215148926, -5.297299861907959, -4.301599979400635, -4.779699802398682, -6.229800224304199, -3.8436999320983887, -4.672399997711182, -5.370999813079834, -4.000999927520752, -5.129199981689453, -5.242300033569336, -4.085100173950195, -5.380099773406982, -6.079599857330322, -5.362299919128418, -4.4857001304626465, -5.446700096130371, -4.490900039672852, -4.979300022125244, -4.951700210571289, -4.526000022888184, -5.90880012512207, -5.417399883270264, -5.426799774169922, -4.758500099182129, -4.176799774169922, -4.672299861907959, -5.089900016784668, -4.2052998542785645, -5.145999908447266, -4.582699775695801, -4.82289981842041, -4.959799766540527, -5.104800224304199, -5.155700206756592, -5.071100234985352, -4.576900005340576, -5.0391998291015625, -5.335899829864502, -5.445300102233887, -5.510700225830078, -6.037799835205078, -6.105999946594238, -6.107500076293945, -6.1528000831604, -6.183499813079834, -6.195499897003174, -6.375999927520752, -6.4197998046875, -6.503499984741211, -6.5503997802734375, -6.551499843597412, -6.591899871826172, -6.597799777984619, -6.617700099945068, -6.597899913787842, -6.6350998878479, -6.798099994659424, -6.824900150299072, -5.487500190734863, -6.918300151824951, -6.934999942779541, -6.948299884796143, -6.960100173950195, -6.962800025939941, -6.967299938201904, -4.368000030517578, -6.366799831390381, -6.307300090789795, -5.4141998291015625, -5.565700054168701, -6.401199817657471, -5.063300132751465, -5.7153000831604, -4.51039981842041, -6.093400001525879, -5.211900234222412, -5.4903998374938965, -4.823800086975098, -5.279900074005127, -6.130499839782715, -5.878499984741211, -5.20550012588501, -5.916399955749512, -4.969799995422363, -5.785699844360352, -5.245200157165527, -5.844900131225586, -5.011600017547607, -4.994999885559082, -5.366300106048584, -5.785399913787842, -5.866300106048584, -5.697500228881836, -5.179999828338623, -5.635499954223633, -5.704400062561035, -5.265600204467773, -5.656499862670898, -5.7382001876831055, -5.735599994659424, -5.730500221252441, -4.542600154876709, -4.694499969482422, -4.7281999588012695, -5.030799865722656, -5.44290018081665, -5.617400169372559, -5.638299942016602, -5.7195000648498535, -5.7322998046875, -5.762199878692627, -5.809000015258789, -5.855999946594238, -5.884099960327148, -5.948500156402588, -5.952199935913086, -6.014100074768066, -6.032299995422363, -6.076300144195557, -6.075699806213379, -6.096399784088135, -6.106900215148926, -6.149899959564209, -6.157199859619141, -6.158299922943115, -6.19189977645874, -6.214900016784668, -6.216599941253662, -6.224800109863281, -6.2480998039245605, -6.254899978637695, -4.031899929046631, -3.952500104904175, -4.3368000984191895, -5.7505998611450195, -4.810200214385986, -5.30109977722168, -5.6178998947143555, -5.407599925994873, -4.41510009765625, -5.145500183105469, -5.304299831390381, -5.771699905395508, -5.639699935913086, -5.524899959564209, -5.525400161743164, -4.82390022277832, -4.331699848175049, -5.542699813842773, -5.550899982452393, -4.974899768829346, -4.992400169372559, -5.267499923706055, -5.321400165557861, -5.5065999031066895, -5.545899868011475, -4.257400035858154, -4.545400142669678, -4.717599868774414, -5.074399948120117, -5.256999969482422, -5.345099925994873, -5.53000020980835, -5.5370001792907715, -5.659599781036377, -5.912399768829346, -5.921599864959717, -5.949699878692627, -6.062699794769287, -6.162700176239014, -6.303500175476074, -6.373799800872803, -6.480400085449219, -6.494500160217285, -6.560800075531006, -6.6230998039245605, -6.78380012512207, -6.789100170135498, -6.822999954223633, -6.829899787902832, -6.837500095367432, -6.843500137329102, -6.861700057983398, -6.906300067901611, -6.918399810791016, -6.923799991607666, -4.461599826812744, -5.123000144958496, -4.997399806976318, -4.5055999755859375, -4.3225998878479, -5.422699928283691, -5.579699993133545, -5.971399784088135, -5.359600067138672, -5.0233001708984375, -5.631700038909912, -4.632199764251709, -5.059999942779541, -5.065800189971924, -5.159900188446045, -5.2870001792907715, -5.104899883270264, -4.735099792480469, -4.808800220489502, -4.736100196838379, -5.184000015258789, -5.4633002281188965, -5.061999797821045, -5.13070011138916, -5.225399971008301, -5.168900012969971, -5.352700233459473, -5.263000011444092, -5.263199806213379, -5.552800178527832, -5.603700160980225, -5.607699871063232, -5.929699897766113, -5.948400020599365, -6.026899814605713, -6.370299816131592, -6.436100006103516, -6.474599838256836, -6.5106000900268555, -6.558199882507324, -6.663099765777588, -6.742599964141846, -6.774499893188477, -6.793799877166748, -6.794600009918213, -6.815800189971924, -6.860799789428711, -6.861599922180176, -6.863900184631348, -6.869500160217285, -6.919099807739258, -7.003699779510498, -7.004700183868408, -7.019499778747559, -7.063499927520752, -7.065299987792969, -7.068999767303467, -5.685500144958496, -6.142000198364258, -6.204400062561035, -4.385000228881836, -6.539999961853027, -6.156300067901611, -6.101200103759766, -6.055600166320801, -5.477799892425537, -5.615099906921387, -5.863800048828125, -4.76609992980957, -4.928299903869629, -3.961400032043457, -5.631400108337402, -4.981100082397461, -4.844900131225586, -4.861000061035156, -5.624000072479248, -5.338399887084961, -5.032800197601318, -5.314199924468994, -5.471099853515625, -5.052999973297119, -5.085999965667725, -5.393099784851074, -5.4822998046875, -5.623700141906738, -5.337399959564209, -4.624800205230713, -4.779699802398682, -5.325799942016602, -5.295300006866455, -5.400300025939941, -5.2204999923706055, -5.31790018081665, -5.291600227355957, -5.381700038909912, -5.35890007019043, -5.4517998695373535, -3.8689000606536865, -4.357800006866455, -4.771200180053711, -5.422500133514404, -5.519700050354004, -5.842100143432617, -5.868199825286865, -5.885300159454346, -5.916500091552734, -5.939799785614014, -5.957699775695801, -6.016900062561035, -6.02869987487793, -6.107699871063232, -6.1234002113342285, -6.148900032043457, -6.247300148010254, -6.303500175476074, -6.332799911499023, -6.392099857330322, -6.445499897003174, -6.604700088500977, -6.58050012588501, -6.639599800109863, -6.651899814605713, -6.664899826049805, -6.6697001457214355, -6.677299976348877, -6.686600208282471, -6.70419979095459, -4.85699987411499, -4.1184000968933105, -4.966300010681152, -4.692699909210205, -6.039899826049805, -5.840799808502197, -5.9807000160217285, -5.725100040435791, -6.413000106811523, -6.095900058746338, -5.715400218963623, -5.993299961090088, -5.587299823760986, -5.5553998947143555, -5.992300033569336, -5.646299839019775, -5.69789981842041, -5.894199848175049, -6.022299766540527, -5.605100154876709, -5.8881001472473145, -5.95989990234375, -6.00600004196167, -4.749000072479248, -5.022200107574463, -5.14300012588501, -5.228400230407715, -3.7023000717163086, -5.72189998626709, -6.285600185394287, -6.293700218200684, -6.454100131988525, -6.4822998046875, -6.522299766540527, -6.524700164794922, -6.539400100708008, -6.585400104522705, -6.590400218963623, -6.629700183868408, -6.658999919891357, -6.748300075531006, -6.757699966430664, -6.776800155639648, -6.802000045776367, -6.86870002746582, -6.91379976272583, -6.915299892425537, -6.928999900817871, -7.013400077819824, -7.069200038909912, -7.074699878692627, -7.099400043487549, -7.1697998046875, -6.60129976272583, -5.727399826049805, -5.869100093841553, -5.521999835968018, -3.691200017929077, -4.837100028991699, -4.685999870300293, -4.520899772644043, -6.505099773406982, -6.41480016708374, -3.3496999740600586, -5.037199974060059, -4.533599853515625, -4.5904998779296875, -6.441699981689453, -4.552999973297119, -5.900000095367432, -4.9369001388549805, -5.734099864959717, -5.2083001136779785, -4.120100021362305, -4.865200042724609, -4.4807000160217285, -5.6570000648498535, -4.749100208282471, -5.806600093841553, -4.914999961853027, -4.771299839019775, -5.3282999992370605, -4.813199996948242, -4.953400135040283, -4.990600109100342, -5.169099807739258, -5.311299800872803, -5.475299835205078, -5.457300186157227, -3.170099973678589, -3.8036000728607178, -4.095099925994873, -4.457799911499023, -4.862400054931641, -5.085599899291992, -5.30049991607666, -5.46619987487793, -5.517399787902832, -5.541800022125244, -5.582399845123291, -5.652900218963623, -4.932300090789795, -5.824999809265137, -5.844099998474121, -5.8628997802734375, -5.878399848937988, -5.928999900817871, -6.067299842834473, -6.093599796295166, -6.170499801635742, -6.172500133514404, -6.428599834442139, -6.435999870300293, -3.9024999141693115, -6.530600070953369, -6.60290002822876, -6.604400157928467, -6.663400173187256, -6.672399997711182, -5.94890022277832, -2.71560001373291, -3.155600070953369, -4.58620023727417, -5.249300003051758, -5.682000160217285, -3.6354000568389893, -4.696800231933594, -4.478600025177002, -5.344099998474121, -5.551400184631348, -5.2581000328063965, -5.14769983291626, -4.5081000328063965, -5.202199935913086, -4.918499946594238, -5.527299880981445, -5.198500156402588, -5.422100067138672, -5.476799964904785, -5.519100189208984, -5.538400173187256, -4.664599895477295, -5.216700077056885, -5.29580020904541, -5.396599769592285, -5.517099857330322, -5.689899921417236, -5.740799903869629, -5.773600101470947, -5.821000099182129, -5.988900184631348, -6.001200199127197, -6.0578999519348145, -6.158899784088135, -6.201600074768066, -6.219900131225586, -6.2266998291015625, -6.249000072479248, -6.28410005569458, -6.288400173187256, -6.307600021362305, -6.34119987487793, -6.343800067901611, -6.413899898529053, -6.4268999099731445, -6.437399864196777, -6.456900119781494, -6.552999973297119, -6.5883002281188965, -6.6128997802734375, -6.662199974060059, -6.195499897003174, -5.805099964141846, -3.6201999187469482, -5.177599906921387, -5.3231000900268555, -5.821499824523926, -4.915500164031982, -3.5223000049591064, -5.793799877166748, -5.7820000648498535, -5.783299922943115, -4.418799877166748, -5.581500053405762, -5.9593000411987305, -4.600200176239014, -5.376100063323975, -4.740799903869629, -5.1016998291015625, -4.718200206756592, -4.33050012588501, -5.271599769592285, -4.514400005340576, -4.674799919128418, -5.3653998374938965, -5.618599891662598, -5.316299915313721, -5.1757001876831055, -5.25540018081665, -5.313499927520752, -5.328999996185303, -5.435100078582764, -5.2342000007629395, -5.269100189208984, -5.077099800109863, -5.376100063323975, -5.418300151824951, -4.551000118255615, -4.63129997253418, -4.93310022354126, -5.031199932098389, -5.144999980926514, -5.256700038909912, -5.268799781799316, -5.293399810791016, -5.345300197601318, -5.3454999923706055, -5.3769001960754395, -5.388999938964844, -5.390399932861328, -5.429500102996826, -5.486000061035156, -5.491799831390381, -5.589200019836426, -5.591100215911865, -5.601500034332275, -5.615900039672852, -5.6529998779296875, -5.658599853515625, -5.68149995803833, -5.688600063323975, -5.703999996185303, -5.7093000411987305, -5.722300052642822, -5.723599910736084, -5.73199987411499, -5.739099979400635, -5.0142998695373535, -5.133800029754639, -5.202099800109863, -5.265699863433838, -5.253799915313721, -5.600599765777588, -5.100599765777588, -5.440100193023682, -5.28879976272583, -5.611599922180176, -4.580399990081787, -4.67080020904541, -4.975900173187256, -5.268499851226807, -5.323999881744385, -5.502099990844727, -5.5167999267578125, -5.524899959564209, -5.605100154876709, -5.6203999519348145, -5.623700141906738, -5.679800033569336, -5.701900005340576, -5.710599899291992, -5.73769998550415, -5.7600998878479, -5.78879976272583, -5.790800094604492, -5.816999912261963, -5.840000152587891, -5.841599941253662, -5.906700134277344, -5.939899921417236, -5.958399772644043, -6.00029993057251, -6.0543999671936035, -6.0706000328063965, -6.07859992980957, -6.1031999588012695, -6.103499889373779, -4.740900039672852, -4.507299900054932, -5.18720006942749, -5.613100051879883, -5.160200119018555, -5.8414998054504395, -5.808499813079834, -5.581399917602539, -5.077499866485596, -5.292200088500977, -5.601200103759766, -5.747799873352051, -5.382999897003174, -5.743000030517578, -5.7642998695373535, -5.72130012512207, -3.9440999031066895, -5.23390007019043, -5.327400207519531, -5.421000003814697, -5.429100036621094, -5.433499813079834, -5.435699939727783, -5.462800025939941, -5.49970006942749, -5.5569000244140625, -5.5777997970581055, -5.649499893188477, -5.6890997886657715, -5.695099830627441, -5.757199764251709, -5.774899959564209, -5.780900001525879, -5.7881999015808105, -5.8171000480651855, -5.82420015335083, -5.857399940490723, -5.867000102996826, -5.906300067901611, -5.97130012512207, -6.02370023727417, -6.062900066375732, -6.088099956512451, -6.036399841308594, -6.129199981689453, -6.138299942016602, -3.708899974822998, -4.1631999015808105, -5.494900226593018, -5.4832000732421875, -4.469699859619141, -4.878699779510498, -4.78980016708374, -4.3582000732421875, -5.182700157165527, -5.0030999183654785, -4.7677998542785645, -4.9303998947143555, -5.093200206756592, -5.175000190734863, -5.5742998123168945, -5.576300144195557, -5.575200080871582, -5.607399940490723, -5.5782999992370605, -4.198200225830078, -4.244699954986572, -4.361499786376953, -4.530700206756592, -4.6203999519348145, -4.661799907684326, -4.67140007019043, -4.691100120544434, -4.644899845123291, -5.019400119781494, -5.052999973297119, -5.1234002113342285, -5.198599815368652, -5.379499912261963, -5.487800121307373, -5.514900207519531, -5.522799968719482, -5.5278000831604, -5.547399997711182, -5.620299816131592, -5.71120023727417, -5.714799880981445, -5.786300182342529, -4.888299942016602, -5.844799995422363, -5.862299919128418, -5.883900165557861, -5.910200119018555, -5.9456000328063965, -6.029099941253662, -4.6331000328063965, -3.921299934387207, -4.412600040435791, -3.655900001525879, -4.709099769592285, -3.8584001064300537, -4.352799892425537, -4.115600109100342, -3.890700101852417, -4.579699993133545, -4.546500205993652, -4.569699764251709, -4.382800102233887, -4.90939998626709, -5.229800224304199, -5.144400119781494, -3.577899932861328, -4.190299987792969, -4.200200080871582, -5.218400001525879, -5.283699989318848, -5.321599960327148, -5.5106000900268555, -5.577000141143799, -5.579999923706055, -5.620299816131592, -5.650899887084961, -5.737599849700928, -5.738500118255615, -5.750699996948242, -5.832099914550781, -5.916900157928467, -5.956299781799316, -5.966400146484375, -5.9816999435424805, -5.99399995803833, -5.99429988861084, -5.185200214385986, -6.02810001373291, -6.049499988555908, -6.057199954986572, -6.060200214385986, -5.138700008392334, -6.116399765014648, -6.151100158691406, -6.202199935913086, -5.870200157165527, -5.320199966430664, -4.809100151062012, -5.493000030517578, -4.835599899291992, -4.9054999351501465, -4.934700012207031, -5.433499813079834, -5.4028000831604, -5.724800109863281, -5.553699970245361, -5.817699909210205, -5.523099899291992, -5.651199817657471], \"loglift\": [30.0, 29.0, 28.0, 27.0, 26.0, 25.0, 24.0, 23.0, 22.0, 21.0, 20.0, 19.0, 18.0, 17.0, 16.0, 15.0, 14.0, 13.0, 12.0, 11.0, 10.0, 9.0, 8.0, 7.0, 6.0, 5.0, 4.0, 3.0, 2.0, 1.0, 1.4510999917984009, 1.4495999813079834, 1.4464999437332153, 1.445099949836731, 1.4443000555038452, 1.44350004196167, 1.4429999589920044, 1.4428000450134277, 1.4422999620437622, 1.4416999816894531, 1.441100001335144, 1.440999984741211, 1.4393999576568604, 1.4391000270843506, 1.4391000270843506, 1.4383000135421753, 1.4378999471664429, 1.4372999668121338, 1.436900019645691, 1.4368000030517578, 1.4365999698638916, 1.4365999698638916, 1.4365999698638916, 1.4364999532699585, 1.4363000392913818, 1.4361000061035156, 1.4357999563217163, 1.4351999759674072, 1.43340003490448, 1.43340003490448, 1.430899977684021, 1.3579000234603882, 1.4143999814987183, 1.3897000551223755, 1.3306000232696533, 1.3264000415802002, 1.3179999589920044, 1.4148999452590942, 1.347599983215332, 1.337499976158142, 1.282099962234497, 1.2851999998092651, 1.406499981880188, 1.229699969291687, 1.3666000366210938, 1.2414000034332275, 1.1711000204086304, 1.2726999521255493, 1.0602999925613403, 1.1404000520706177, 1.163100004196167, 1.2156000137329102, 1.0772000551223755, 1.0693999528884888, 1.1881999969482422, 1.2301000356674194, 1.3535000085830688, 1.1556999683380127, 1.2137000560760498, 1.1299999952316284, 1.0202000141143799, 1.0321999788284302, 1.1597000360488892, 1.0037000179290771, 1.0369999408721924, 1.0016000270843506, 1.0964000225067139, 0.9715999960899353, 1.1335999965667725, 1.0246000289916992, 1.080399990081787, 1.1455999612808228, 0.9609000086784363, 0.4966000020503998, 0.8122000098228455, 0.8726999759674072, 0.3190000057220459, 0.774399995803833, 0.9469000101089478, 0.4758000075817108, 2.0857999324798584, 2.0834999084472656, 2.0829999446868896, 2.0824999809265137, 2.08240008354187, 2.0820999145507812, 2.081399917602539, 2.0796000957489014, 2.078700065612793, 2.0782999992370605, 2.078200101852417, 2.077500104904175, 2.0752999782562256, 2.075200080871582, 2.074899911880493, 2.074700117111206, 2.074399948120117, 2.074399948120117, 2.0741000175476074, 2.073699951171875, 2.0732998847961426, 2.0731000900268555, 2.0731000900268555, 2.0731000900268555, 2.072999954223633, 2.0724000930786133, 2.0722999572753906, 2.0720999240875244, 2.071899890899658, 2.0717999935150146, 2.066999912261963, 2.0573999881744385, 2.049499988555908, 2.048099994659424, 2.042799949645996, 2.0292999744415283, 1.9997999668121338, 1.9917999505996704, 1.8725999593734741, 1.9462000131607056, 1.9635000228881836, 1.9693000316619873, 1.8731000423431396, 1.9010000228881836, 1.809000015258789, 1.863800048828125, 1.92739999294281, 1.7682000398635864, 1.7023999691009521, 1.2138999700546265, 1.7218999862670898, 1.4600000381469727, 1.5526000261306763, 1.2599999904632568, 1.3619999885559082, 1.4466999769210815, 1.1018999814987183, 1.44159996509552, 0.7293000221252441, 1.25600004196167, 1.3622000217437744, 0.7601000070571899, 0.06759999692440033, 1.6304999589920044, 0.8352000117301941, 0.9997000098228455, 0.9319000244140625, 0.3538999855518341, 0.6309000253677368, 0.16750000417232513, 0.5946999788284302, 0.22759999334812164, -0.3684000074863434, 0.6550999879837036, 2.1486001014709473, 2.1480000019073486, 2.1477999687194824, 2.146699905395508, 2.1465001106262207, 2.146399974822998, 2.1463000774383545, 2.145699977874756, 2.1452999114990234, 2.14520001411438, 2.14520001411438, 2.1449999809265137, 2.1442999839782715, 2.1440999507904053, 2.1440000534057617, 2.1438000202178955, 2.1435999870300293, 2.1435000896453857, 2.1428000926971436, 2.142699956893921, 2.1424999237060547, 2.142199993133545, 2.1421000957489014, 2.141900062561035, 2.141700029373169, 2.1414999961853027, 2.1414999961853027, 2.141400098800659, 2.141200065612793, 2.1401000022888184, 2.1187000274658203, 2.1191000938415527, 2.0843000411987305, 2.081899881362915, 2.1245999336242676, 2.098299980163574, 2.098400115966797, 2.0664000511169434, 2.075000047683716, 2.0227999687194824, 2.0164999961853027, 1.9569000005722046, 1.940500020980835, 1.968500018119812, 1.902400016784668, 1.7835999727249146, 2.0139000415802, 1.9951000213623047, 1.5786999464035034, 1.436900019645691, 1.4595999717712402, 1.5223000049591064, 1.7146999835968018, 1.3264000415802002, 1.7096999883651733, 1.3849999904632568, 1.389299988746643, 1.090499997138977, 0.6114000082015991, 0.8206999897956848, 1.4175000190734863, 1.6134999990463257, 0.46239998936653137, 2.621000051498413, 2.6203999519348145, 2.6198999881744385, 2.6196999549865723, 2.6191999912261963, 2.6177000999450684, 2.61680006980896, 2.616499900817871, 2.615000009536743, 2.614500045776367, 2.614000082015991, 2.613600015640259, 2.613600015640259, 2.6135001182556152, 2.61299991607666, 2.6117000579833984, 2.6115000247955322, 2.6113998889923096, 2.6112000942230225, 2.6106998920440674, 2.609800100326538, 2.608299970626831, 2.6080000400543213, 2.6080000400543213, 2.6077001094818115, 2.6075000762939453, 2.6071999073028564, 2.6064999103546143, 2.6064000129699707, 2.6064000129699707, 2.6038999557495117, 2.606300115585327, 2.5815999507904053, 2.5866000652313232, 2.5882999897003174, 2.5757999420166016, 2.5051000118255615, 2.581700086593628, 2.5541999340057373, 2.5852999687194824, 2.2737998962402344, 2.339200019836426, 2.401700019836426, 2.4038000106811523, 2.348099946975708, 2.495800018310547, 1.916700005531311, 2.22379994392395, 1.9565000534057617, 1.902999997138977, 2.0792999267578125, 2.3743999004364014, 1.693600058555603, 1.506600022315979, 1.7732000350952148, 1.6686999797821045, 1.6187000274658203, 0.883899986743927, 0.9921000003814697, 1.5234999656677246, 1.216599941253662, 0.8133999705314636, 1.7587000131607056, 1.7156000137329102, 0.008500000461935997, 0.2890999913215637, 0.5156999826431274, 0.5501999855041504, 0.20819999277591705, 0.5005999803543091, 2.855600118637085, 2.8554999828338623, 2.8550000190734863, 2.85479998588562, 2.85479998588562, 2.8534998893737793, 2.8529999256134033, 2.8519999980926514, 2.851799964904785, 2.8515000343322754, 2.850800037384033, 2.850600004196167, 2.850600004196167, 2.8503000736236572, 2.849600076675415, 2.8489999771118164, 2.8485000133514404, 2.8478000164031982, 2.8473000526428223, 2.84689998626709, 2.84660005569458, 2.846400022506714, 2.846100091934204, 2.845599889755249, 2.8454999923706055, 2.844899892807007, 2.8447999954223633, 2.844099998474121, 2.843899965286255, 2.843400001525879, 2.8238000869750977, 2.8327999114990234, 2.8115999698638916, 2.8239998817443848, 2.8118999004364014, 2.80430006980896, 2.7990000247955322, 2.750499963760376, 2.7750000953674316, 2.5973000526428223, 2.588099956512451, 2.5931999683380127, 2.5852999687194824, 2.6805999279022217, 2.172499895095825, 1.8551000356674194, 2.344899892807007, 1.9951000213623047, 2.4052000045776367, 1.798200011253357, 2.1798999309539795, 2.5027999877929688, 1.9855999946594238, 1.8451999425888062, 2.256700038909912, 1.8874000310897827, 1.1311999559402466, 1.2496999502182007, 0.6771000027656555, 2.130000114440918, 1.2389999628067017, 0.15379999577999115, -0.14190000295639038, 1.715999960899353, 2.9282000064849854, 2.9245998859405518, 2.9245998859405518, 2.9235999584198, 2.923099994659424, 2.9226999282836914, 2.922499895095825, 2.9223999977111816, 2.922300100326538, 2.922300100326538, 2.921999931335449, 2.9214999675750732, 2.921299934387207, 2.9210000038146973, 2.9203999042510986, 2.919100046157837, 2.9189999103546143, 2.9184999465942383, 2.9172000885009766, 2.9170000553131104, 2.9161999225616455, 2.9159998893737793, 2.9159998893737793, 2.914599895477295, 2.9142000675201416, 2.9142000675201416, 2.914099931716919, 2.9112000465393066, 2.910900115966797, 2.9105000495910645, 2.9003000259399414, 2.8721001148223877, 2.8389999866485596, 2.8053998947143555, 2.8422999382019043, 2.859299898147583, 2.830699920654297, 2.7887001037597656, 2.743299961090088, 2.6005001068115234, 2.7495999336242676, 2.6240999698638916, 2.6909000873565674, 2.571000099182129, 2.4793999195098877, 1.9498000144958496, 2.357800006866455, 2.4309000968933105, 2.4198999404907227, 1.3235000371932983, 2.0422000885009766, 2.288800001144409, 2.2736001014709473, 0.9243000149726868, 1.4936000108718872, 1.55649995803833, 1.2766000032424927, 0.8816999793052673, 0.17020000517368317, -0.048900000751018524, 1.7812000513076782, 0.26899999380111694, 2.944700002670288, 2.9375, 2.936300039291382, 2.936300039291382, 2.9358999729156494, 2.9356000423431396, 2.93530011177063, 2.9351999759674072, 2.9351000785827637, 2.934999942779541, 2.934000015258789, 2.933799982070923, 2.9316999912261963, 2.9289000034332275, 2.9275999069213867, 2.926300048828125, 2.9249000549316406, 2.9235000610351562, 2.9231998920440674, 2.9231998920440674, 2.922300100326538, 2.9212000370025635, 2.9203999042510986, 2.9195001125335693, 2.9186999797821045, 2.9175000190734863, 2.9163999557495117, 2.9158999919891357, 2.9156999588012695, 2.9133999347686768, 2.907900094985962, 2.9117000102996826, 2.9072000980377197, 2.8840999603271484, 2.8794000148773193, 2.9068000316619873, 2.8671998977661133, 2.8587000370025635, 2.8264999389648438, 2.833899974822998, 2.8856000900268555, 2.773200035095215, 2.7590999603271484, 2.7945001125335693, 2.4428000450134277, 2.612799882888794, 2.6261000633239746, 2.2657999992370605, 2.5827999114990234, 2.7560999393463135, 2.4863998889923096, 2.1554999351501465, 2.511199951171875, 2.0917000770568848, 2.221400022506714, 2.15310001373291, 1.8172999620437622, 2.646699905395508, 2.34089994430542, 2.3396999835968018, 1.8775999546051025, 1.3847999572753906, 1.6304999589920044, 1.9700000286102295, 0.7850000262260437, 1.898800015449524, 0.8377000093460083, 1.2963999509811401, 0.917900025844574, 1.1892000436782837, 1.2405999898910522, 0.5012000203132629, 2.9825000762939453, 2.9814999103546143, 2.9804999828338623, 2.9800000190734863, 2.9797000885009766, 2.9765000343322754, 2.9758999347686768, 2.9758999347686768, 2.9755001068115234, 2.9751999378204346, 2.975100040435791, 2.973299980163574, 2.9728000164031982, 2.9718000888824463, 2.9711999893188477, 2.9711999893188477, 2.970599889755249, 2.970599889755249, 2.9702999591827393, 2.9697999954223633, 2.969399929046631, 2.9674999713897705, 2.967099905014038, 2.966599941253662, 2.965399980545044, 2.965100049972534, 2.9647998809814453, 2.964600086212158, 2.9644999504089355, 2.964400053024292, 2.89490008354187, 2.9421000480651855, 2.9351999759674072, 2.875, 2.8789000511169434, 2.9279000759124756, 2.822700023651123, 2.868299961090088, 2.725100040435791, 2.892699956893921, 2.6721999645233154, 2.719399929046631, 2.5511999130249023, 2.6470999717712402, 2.8489999771118164, 2.765500068664551, 2.535900115966797, 2.765199899673462, 2.3664000034332275, 2.6742000579833984, 2.3427000045776367, 2.5620999336242676, 1.6744999885559082, 1.6017999649047852, 1.9544999599456787, 2.446199893951416, 2.5197999477386475, 2.1679999828338623, 1.0607999563217163, 1.770400047302246, 1.9551000595092773, 0.12409999966621399, 1.6165000200271606, 2.0443999767303467, 1.9467999935150146, -0.1582999974489212, 3.0866000652313232, 3.0862998962402344, 3.086199998855591, 3.085400104522705, 3.0838000774383545, 3.0827999114990234, 3.08270001411438, 3.082200050354004, 3.0820999145507812, 3.081899881362915, 3.0815999507904053, 3.0813000202178955, 3.0810999870300293, 3.0806000232696533, 3.0804998874664307, 3.0799999237060547, 3.079900026321411, 3.0794999599456787, 3.0794999599456787, 3.0792999267578125, 3.079200029373169, 3.0787999629974365, 3.078700065612793, 3.078700065612793, 3.078399896621704, 3.0780999660491943, 3.0780999660491943, 3.078000068664551, 3.0778000354766846, 3.077699899673462, 3.023900032043457, 3.0195000171661377, 3.0106000900268555, 3.050800085067749, 2.9848999977111816, 3.0188000202178955, 3.0362000465393066, 3.012500047683716, 2.879199981689453, 2.953200101852417, 2.971100091934204, 3.0172998905181885, 2.9832000732421875, 2.945199966430664, 2.916800022125244, 2.6584999561309814, 2.0552000999450684, 2.6166999340057373, 2.608099937438965, 1.5303000211715698, 1.0219999551773071, 1.4565999507904053, 1.513100028038025, 2.108099937438965, 2.190200090408325, 3.115999937057495, 3.1154000759124756, 3.1150999069213867, 3.114000082015991, 3.113300085067749, 3.11299991607666, 3.1120998859405518, 3.111999988555908, 3.111299991607666, 3.109499931335449, 3.109499931335449, 3.1092000007629395, 3.108299970626831, 3.107300043106079, 3.105799913406372, 3.1048998832702637, 3.1034998893737793, 3.103300094604492, 3.102400064468384, 3.1013998985290527, 3.098599910736084, 3.0985000133514404, 3.097899913787842, 3.0977001190185547, 3.097599983215332, 3.0975000858306885, 3.097100019454956, 3.0961999893188477, 3.095900058746338, 3.0957999229431152, 3.093100070953369, 3.0743000507354736, 3.005199909210205, 2.948699951171875, 2.842600107192993, 2.8780999183654785, 2.880500078201294, 2.907599925994873, 2.7149999141693115, 2.588099956512451, 2.7179999351501465, 2.2708001136779785, 2.446199893951416, 2.4268999099731445, 2.2795000076293945, 2.3620998859405518, 2.2054998874664307, 1.8617000579833984, 1.5750000476837158, 1.3831000328063965, 1.8760000467300415, 2.334199905395508, 1.4940999746322632, 1.3687000274658203, 1.4157999753952026, 0.97079998254776, 1.3136999607086182, 3.3863000869750977, 3.386199951171875, 3.384399890899658, 3.384000062942505, 3.384000062942505, 3.38100004196167, 3.3808000087738037, 3.380000114440918, 3.375200033187866, 3.374000072479248, 3.373300075531006, 3.3726999759674072, 3.3717000484466553, 3.3696000576019287, 3.3677000999450684, 3.367000102996826, 3.366499900817871, 3.366499900817871, 3.3659000396728516, 3.364799976348877, 3.3647000789642334, 3.3647000789642334, 3.364500045776367, 3.3631999492645264, 3.3606998920440674, 3.3606998920440674, 3.3601999282836914, 3.358799934387207, 3.3587000370025635, 3.358599901199341, 3.3501999378204346, 3.3440001010894775, 3.3159000873565674, 2.999000072479248, 3.2945001125335693, 3.2265000343322754, 3.21560001373291, 3.164900064468384, 2.9567999839782715, 2.947200059890747, 3.0136001110076904, 2.6061999797821045, 2.6617000102996826, 2.279400110244751, 2.9258999824523926, 2.59089994430542, 2.5046000480651855, 2.483799934387207, 2.801300048828125, 2.618000030517578, 2.3422000408172607, 2.5051000118255615, 2.56850004196167, 2.1505000591278076, 2.0917999744415283, 2.4367001056671143, 2.440200090408325, 2.595099925994873, 2.088399887084961, 0.7649000287055969, 0.7820000052452087, 1.9097000360488892, 1.7058000564575195, 1.9449000358581543, 1.1960999965667725, 1.160599946975708, 0.5860999822616577, 0.9545000195503235, 0.34200000762939453, 1.3464000225067139, 3.518399953842163, 3.5174999237060547, 3.516200065612793, 3.512700080871582, 3.511899948120117, 3.5088000297546387, 3.5085999965667725, 3.5083999633789062, 3.507999897003174, 3.507699966430664, 3.507499933242798, 3.506700038909912, 3.5065999031066895, 3.505500078201294, 3.5053000450134277, 3.5048999786376953, 3.5032999515533447, 3.5023999214172363, 3.501800060272217, 3.500699996948242, 3.4997000694274902, 3.4962000846862793, 3.4955999851226807, 3.4953999519348145, 3.4951000213623047, 3.494800090789795, 3.4946000576019287, 3.494499921798706, 3.4941999912261963, 3.493799924850464, 3.335200071334839, 3.2590999603271484, 3.231100082397461, 3.1633999347686768, 3.391700029373169, 3.354300022125244, 3.357800006866455, 3.281399965286255, 3.436800003051758, 3.3115999698638916, 3.0927000045776367, 3.2102999687194824, 2.864799976348877, 2.663599967956543, 3.086400032043457, 2.172499895095825, 1.6473000049591064, 2.2253000736236572, 2.878999948501587, -0.6148999929428101, 1.497499942779541, 1.8697999715805054, 0.8913000226020813, 3.5968000888824463, 3.595599889755249, 3.594899892807007, 3.5943000316619873, 3.5938000679016113, 3.5901999473571777, 3.5820999145507812, 3.581899881362915, 3.578700065612793, 3.578000068664551, 3.5771000385284424, 3.5769999027252197, 3.57669997215271, 3.5755999088287354, 3.5754001140594482, 3.574399948120117, 3.573699951171875, 3.5710999965667725, 3.5708999633789062, 3.5703001022338867, 3.569499969482422, 3.5673999786376953, 3.5659000873565674, 3.5657999515533447, 3.5653998851776123, 3.562299966812134, 3.5601000785827637, 3.5599000453948975, 3.5589001178741455, 3.5559000968933105, 3.546600103378296, 3.5267999172210693, 3.530900001525879, 3.5090999603271484, 3.3891000747680664, 3.436000108718872, 3.420099973678589, 3.321500062942505, 3.5232999324798584, 3.4993999004364014, 2.901099920272827, 3.2070000171661377, 3.041300058364868, 3.029900074005127, 3.49399995803833, 2.791800022125244, 3.2934000492095947, 2.80049991607666, 3.161400079727173, 2.8859000205993652, 2.2430999279022217, 2.6342999935150146, 2.344099998474121, 3.014899969100952, 2.295599937438965, 3.0725998878479004, 2.35260009765625, 1.9595999717712402, 2.5299999713897705, 1.7132999897003174, 1.433500051498413, 1.5088000297546387, 1.506500005722046, 1.851099967956543, 2.3076000213623047, 2.065200090408325, 4.25540018081665, 4.253900051116943, 4.252900123596191, 4.251100063323975, 4.248199939727783, 4.245999813079834, 4.2434000968933105, 4.241000175476074, 4.240200042724609, 4.239699840545654, 4.238999843597412, 4.23769998550415, 4.237599849700928, 4.2342000007629395, 4.233699798583984, 4.23330020904541, 4.232900142669678, 4.2316999435424805, 4.228000164031982, 4.227200031280518, 4.224899768829346, 4.224800109863281, 4.21560001373291, 4.2153000831604, 4.214700222015381, 4.211299896240234, 4.207900047302246, 4.207900047302246, 4.204999923706055, 4.204500198364258, 4.198699951171875, 4.127999782562256, 4.124100208282471, 4.1203999519348145, 4.083199977874756, 4.044099807739258, 3.426300048828125, 3.7186999320983887, 3.5053999423980713, 3.8032000064849854, 3.8290998935699463, 3.4976999759674072, 3.3254001140594482, 1.611199975013733, 2.6989998817443848, 1.6375000476837158, 3.3378000259399414, 1.9297000169754028, 2.6224000453948975, 2.845400094985962, 2.8752999305725098, 1.967900037765503, 4.479300022125244, 4.472700119018555, 4.471399784088135, 4.469600200653076, 4.467199802398682, 4.4633002281188965, 4.461999893188477, 4.461100101470947, 4.459799766540527, 4.454599857330322, 4.45419979095459, 4.452300071716309, 4.448500156402588, 4.446800231933594, 4.446000099182129, 4.445700168609619, 4.444799900054932, 4.443299770355225, 4.442800045013428, 4.442200183868408, 4.440700054168701, 4.4405999183654785, 4.43720006942749, 4.436500072479248, 4.435999870300293, 4.434999942779541, 4.429699897766113, 4.427700042724609, 4.426199913024902, 4.4232001304626465, 4.403600215911865, 4.361400127410889, 4.117199897766113, 4.281400203704834, 4.269100189208984, 4.334700107574463, 4.161099910736084, 3.884200096130371, 4.289999961853027, 4.276100158691406, 4.258699893951416, 3.77020001411438, 4.152200222015381, 4.304699897766113, 3.694000005722046, 4.005899906158447, 3.557300090789795, 3.750499963760376, 3.4514999389648438, 3.1252999305725098, 3.798799991607666, 2.891400098800659, 2.861799955368042, 3.4625000953674316, 3.944999933242798, 3.345400094985962, 3.000499963760376, 2.921600103378296, 2.88100004196167, 2.902400016784668, 3.180500030517578, 2.2981998920440674, 2.3422999382019043, 1.3066999912261963, 2.3629000186920166, 2.1454999446868896, 4.801400184631348, 4.80049991607666, 4.796199798583984, 4.79449987411499, 4.792399883270264, 4.789999961853027, 4.789700031280518, 4.789100170135498, 4.787899971008301, 4.787899971008301, 4.787099838256836, 4.786799907684326, 4.786799907684326, 4.785799980163574, 4.784200191497803, 4.783999919891357, 4.781199932098389, 4.781099796295166, 4.780799865722656, 4.780300140380859, 4.779099941253662, 4.778900146484375, 4.778200149536133, 4.777900218963623, 4.777400016784668, 4.777200222015381, 4.776800155639648, 4.776700019836426, 4.776400089263916, 4.776199817657471, 4.676400184631348, 4.672800064086914, 4.490600109100342, 4.445499897003174, 4.3902997970581055, 4.6016998291015625, 3.39520001411438, 4.160299777984619, 3.7560999393463135, 4.563399791717529, 4.877699851989746, 4.876500129699707, 4.871699810028076, 4.8653998374938965, 4.863999843597412, 4.859000205993652, 4.858500003814697, 4.85830020904541, 4.8557000160217285, 4.855100154876709, 4.855000019073486, 4.853000164031982, 4.852200031280518, 4.851900100708008, 4.850900173187256, 4.849999904632568, 4.848800182342529, 4.848800182342529, 4.847700119018555, 4.846700191497803, 4.84660005569458, 4.843800067901611, 4.842199802398682, 4.841400146484375, 4.839300155639648, 4.836599826812744, 4.835700035095215, 4.835299968719482, 4.834000110626221, 4.833899974822998, 4.807300090789795, 4.694200038909912, 4.724899768829346, 4.773200035095215, 4.646699905395508, 4.784599781036377, 4.7677998542785645, 4.6402997970581055, 4.304900169372559, 3.730799913406372, 4.235499858856201, 4.596099853515625, 2.952199935913086, 4.422299861907959, 4.447500228881836, 2.91129994392395, 4.910399913787842, 4.892600059509277, 4.890200138092041, 4.887599945068359, 4.887400150299072, 4.88730001449585, 4.887199878692627, 4.88640022277832, 4.885200023651123, 4.883399963378906, 4.882699966430664, 4.880199909210205, 4.878699779510498, 4.878499984741211, 4.875999927520752, 4.87529993057251, 4.875100135803223, 4.874800205230713, 4.873600006103516, 4.873300075531006, 4.871799945831299, 4.871399879455566, 4.86959981918335, 4.866499900817871, 4.863800048828125, 4.861700057983398, 4.860400199890137, 4.85890007019043, 4.857999801635742, 4.857500076293945, 4.792500019073486, 4.512599945068359, 4.715099811553955, 4.6869001388549805, 4.191199779510498, 4.3317999839782715, 4.258699893951416, 3.771199941635132, 4.263700008392334, 4.084199905395508, 3.7492001056671143, 3.3635001182556152, 2.3362998962402344, 2.5620999336242676, 3.7427000999450684, 3.1145999431610107, 2.859800100326538, 2.813999891281128, 1.679800033569336, 5.065499782562256, 5.065000057220459, 5.063600063323975, 5.061399936676025, 5.060100078582764, 5.0594000816345215, 5.059199810028076, 5.058899879455566, 5.055099964141846, 5.0524001121521, 5.051599979400635, 5.049900054931641, 5.047900199890137, 5.042399883270264, 5.038700103759766, 5.037700176239014, 5.037300109863281, 5.037199974060059, 5.036499977111816, 5.033599853515625, 5.029600143432617, 5.0295000076293945, 5.026100158691406, 5.025700092315674, 5.023200035095215, 5.022299766540527, 5.021200180053711, 5.019700050354004, 5.017499923706055, 5.012899875640869, 4.999199867248535, 4.985099792480469, 4.913300037384033, 4.811600208282471, 4.910600185394287, 4.782700061798096, 4.7270002365112305, 4.513899803161621, 4.278900146484375, 4.473899841308594, 4.3043999671936035, 3.808799982070923, 3.5606000423431396, 4.19189977645874, 4.545599937438965, 2.937000036239624, 5.300600051879883, 5.295599937438965, 5.295599937438965, 5.272799968719482, 5.270400047302246, 5.269000053405762, 5.260900020599365, 5.257699966430664, 5.257599830627441, 5.255499839782715, 5.253900051116943, 5.249100208282471, 5.249100208282471, 5.248300075531006, 5.2434000968933105, 5.237800121307373, 5.235099792480469, 5.234300136566162, 5.2332000732421875, 5.2322998046875, 5.2322998046875, 5.23199987411499, 5.229800224304199, 5.22760009765625, 5.22760009765625, 5.22730016708374, 5.223599910736084, 5.222799777984619, 5.219900131225586, 5.2154998779296875, 5.19320011138916, 5.148900032043457, 5.039899826049805, 5.131400108337402, 4.930699825286865, 4.764900207519531, 4.708000183105469, 4.769400119781494, 4.41480016708374, 4.622099876403809, 3.6314001083374023, 4.593299865722656, 2.513700008392334, 3.342099905014038]}, \"token.table\": {\"Topic\": [13, 1, 3, 4, 7, 10, 14, 19, 1, 2, 3, 5, 6, 7, 19, 5, 9, 12, 14, 7, 1, 4, 8, 10, 2, 2, 3, 7, 11, 18, 20, 4, 4, 8, 10, 2, 8, 10, 20, 2, 15, 19, 8, 3, 10, 20, 1, 2, 3, 4, 5, 6, 7, 8, 9, 10, 11, 12, 14, 6, 2, 1, 2, 4, 8, 10, 12, 1, 2, 3, 4, 7, 8, 9, 12, 13, 8, 3, 4, 18, 3, 4, 10, 1, 2, 8, 12, 1, 2, 5, 7, 10, 11, 1, 2, 3, 6, 7, 11, 11, 11, 20, 12, 1, 2, 3, 5, 7, 10, 18, 3, 7, 13, 15, 3, 4, 7, 1, 3, 7, 3, 4, 8, 9, 10, 15, 12, 12, 8, 8, 11, 8, 11, 8, 11, 1, 2, 3, 5, 6, 7, 11, 12, 18, 4, 4, 16, 5, 5, 5, 4, 11, 11, 10, 2, 3, 5, 8, 13, 15, 6, 1, 2, 3, 4, 6, 7, 9, 10, 15, 4, 15, 11, 12, 11, 11, 11, 9, 1, 2, 3, 4, 6, 7, 8, 9, 10, 11, 12, 13, 7, 14, 16, 18, 11, 11, 1, 4, 1, 10, 19, 15, 1, 1, 2, 3, 4, 5, 6, 7, 8, 10, 12, 20, 18, 6, 11, 5, 2, 5, 1, 2, 4, 5, 7, 11, 1, 2, 3, 5, 6, 7, 9, 13, 15, 1, 2, 3, 6, 7, 9, 5, 5, 6, 6, 1, 2, 4, 8, 9, 13, 1, 4, 3, 7, 14, 12, 15, 2, 4, 8, 11, 12, 19, 2, 3, 4, 6, 7, 8, 11, 14, 15, 20, 1, 2, 3, 4, 5, 6, 7, 8, 11, 18, 14, 3, 12, 8, 9, 15, 1, 18, 20, 1, 2, 19, 6, 1, 20, 17, 2, 4, 8, 17, 17, 20, 1, 3, 4, 6, 7, 10, 13, 1, 3, 4, 6, 8, 11, 14, 8, 11, 12, 6, 19, 6, 14, 18, 6, 19, 9, 1, 5, 6, 7, 8, 9, 11, 12, 15, 8, 15, 15, 5, 1, 2, 3, 5, 7, 10, 12, 13, 17, 7, 14, 18, 7, 10, 12, 1, 15, 2, 6, 11, 1, 2, 3, 5, 6, 7, 10, 13, 1, 2, 3, 6, 13, 19, 7, 16, 5, 3, 20, 16, 1, 3, 4, 8, 9, 12, 15, 17, 7, 3, 19, 1, 2, 3, 6, 13, 14, 9, 16, 20, 2, 9, 1, 2, 5, 12, 13, 2, 8, 11, 12, 6, 7, 10, 14, 7, 5, 5, 8, 9, 12, 5, 5, 19, 5, 12, 16, 10, 19, 6, 11, 17, 2, 8, 10, 2, 12, 4, 16, 2, 16, 13, 3, 3, 15, 6, 18, 10, 6, 7, 9, 11, 2, 3, 4, 5, 6, 10, 13, 15, 16, 15, 1, 4, 8, 9, 15, 17, 1, 3, 7, 9, 1, 2, 4, 7, 9, 16, 17, 20, 2, 13, 16, 1, 2, 3, 5, 6, 7, 8, 11, 12, 18, 1, 18, 18, 16, 3, 4, 6, 10, 3, 10, 11, 13, 4, 18, 14, 20, 3, 4, 6, 7, 10, 15, 2, 6, 11, 18, 14, 14, 3, 4, 8, 9, 15, 20, 1, 2, 3, 12, 6, 14, 14, 18, 13, 2, 2, 1, 3, 4, 6, 7, 8, 9, 11, 12, 15, 13, 13, 3, 1, 2, 3, 4, 6, 7, 9, 10, 7, 14, 14, 14, 15, 3, 4, 13, 18, 16, 13, 1, 2, 3, 4, 6, 7, 10, 18, 18, 11, 1, 3, 4, 6, 7, 10, 14, 1, 2, 3, 4, 5, 6, 7, 8, 10, 11, 12, 1, 2, 8, 12, 13, 1, 2, 3, 4, 5, 6, 7, 8, 11, 12, 13, 2, 10, 11, 1, 2, 4, 6, 8, 10, 12, 18, 16, 12, 20, 4, 5, 2, 10, 2, 2, 10, 2, 9, 11, 12, 15, 10, 16, 10, 2, 16, 10, 10, 10, 10, 13, 16, 2, 1, 10, 12, 1, 2, 3, 4, 6, 7, 10, 11, 12, 13, 15, 14, 8, 3, 4, 10, 14, 1, 3, 4, 7, 10, 12, 13, 16, 11, 18, 1, 2, 6, 7, 8, 11, 12, 4, 9, 20, 2, 14, 10, 10, 12, 9, 2, 3, 5, 13, 10, 4, 15, 2, 3, 4, 6, 8, 10, 11, 15, 19, 4, 8, 12, 7, 13, 9, 1, 3, 4, 10, 3, 4, 6, 7, 10, 14, 19, 7, 1, 19, 3, 10, 12, 2, 19, 2, 19, 3, 14, 3, 6, 14, 19, 3, 7, 8, 4, 8, 9, 15, 1, 11, 19, 5, 2, 5, 20, 1, 2, 1, 6, 10, 11, 19, 1, 2, 3, 7, 9, 15, 16, 17, 18, 5, 18, 14, 20, 6, 14, 2, 6, 7, 9, 11, 2, 3, 6, 7, 14, 2, 10, 1, 2, 19, 1, 4, 5, 5, 1, 3, 13, 19, 7, 1, 17, 6, 10, 3, 4, 7, 10, 13, 15, 17, 18, 8, 10, 10, 10, 12, 1, 4, 13, 15, 2, 4, 8, 10, 6, 17, 1, 2, 3, 6, 10, 11, 3, 4, 5, 11, 12, 13, 13, 9, 13, 10, 10, 14, 9, 5, 7, 2, 3, 4, 8, 1, 2, 3, 5, 6, 7, 10, 11, 12, 1, 2, 5, 1, 2, 3, 4, 6, 9, 18, 17, 14, 1, 2, 3, 5, 7, 10, 13, 2, 5, 8, 13, 17, 3, 10, 17, 19, 20, 1, 2, 3, 4, 5, 8, 10, 11, 12, 5, 1, 16, 1, 9, 8, 5, 11, 3, 7, 14, 16, 20, 3, 10, 13, 13, 3, 8, 10, 13, 2, 15, 2, 4, 6, 9, 11, 12, 20, 2, 4, 17, 17, 1, 2, 3, 4, 5, 6, 7, 8, 9, 10, 11, 12, 13, 14, 18, 4, 18, 4, 6, 11, 14, 20, 9, 3, 3, 1, 6, 13, 3, 7, 14, 3, 7, 18, 15, 18, 7, 1, 2, 6, 8, 9, 11, 1, 12, 7, 2, 17, 1, 7, 9, 7, 9, 2, 17, 7, 10, 12, 1, 16, 2, 8, 8, 8, 13, 1, 2, 3, 6, 7, 18, 8, 16, 1, 2, 4, 5, 9, 10, 12, 12, 5, 1, 2, 6, 7, 8, 10, 11, 1, 2, 3, 4, 5, 6, 7, 9, 18, 19, 5, 2, 4, 8, 10, 3, 7, 1, 13, 17, 1, 2, 6, 7, 13, 8, 5, 8, 3, 7, 9, 14, 18, 18, 2, 4, 5, 6, 11, 1, 2, 7, 2, 13, 2, 2, 13, 17, 11, 17, 1, 2, 11, 12, 20, 1, 2, 3, 6, 9, 12, 14, 9, 10, 1, 2, 4, 8, 15, 5, 12, 1, 1, 2, 5, 6, 12, 10, 1, 7, 6, 1, 2, 3, 7, 8, 10, 11, 12, 19, 17, 9, 16, 15, 1, 2, 3, 4, 6, 7, 9, 10, 14, 13, 19, 1, 2, 4, 5, 8, 5, 8, 1, 16, 1, 9, 8, 5, 12, 1, 2, 3, 6, 7, 9, 10, 11, 12, 2, 1, 6, 13, 1, 11, 7, 15, 1, 2, 4, 6, 8, 10, 11, 1, 2, 3, 4, 5, 6, 7, 10, 12, 15, 15, 18, 2, 3, 4, 5, 12, 17, 1, 2, 3, 5, 7, 10, 10, 9, 11, 2, 3, 12, 3, 4, 10, 2, 1, 1, 2, 3, 4, 5, 6, 9, 12, 13, 15, 20, 2, 19, 2, 20, 3, 4, 7, 13, 1, 2, 3, 4, 7, 8, 10, 13, 15, 1, 7, 20, 20, 16, 16, 3, 4, 8, 10, 15, 2, 6, 13, 4, 19, 3, 7, 14, 14, 1, 3, 6, 7, 8, 12, 14, 3, 10, 15, 19, 17, 17, 16, 20, 19, 2, 12, 2, 12, 9, 12, 12, 12, 1, 2, 3, 4, 5, 8, 10, 12, 18, 8, 1, 9, 12, 5, 12, 5, 8, 12, 5, 8, 12, 1, 8, 1, 2, 3, 4, 5, 6, 7, 8, 9, 10, 12, 12, 9, 12, 3, 4, 8, 18, 19, 3, 12, 2, 12, 2, 17, 1, 14, 14, 1, 3, 4, 8, 15, 11, 9, 11, 17, 3, 10, 17, 19, 2, 8, 11, 12, 9, 12, 1, 2, 3, 5, 6, 7, 10, 11, 12, 13, 20, 8, 17, 9, 17, 2, 4, 12, 20, 18, 13, 1, 2, 3, 4, 6, 7, 8, 9, 10, 11, 12, 13, 18, 1, 2, 3, 4, 5, 6, 7, 9, 11, 12, 13, 4, 4, 12, 4, 2, 5, 2, 9, 8, 9, 18, 12, 12, 1, 2, 6, 7, 8, 9, 11, 12, 14, 18, 2, 2, 4, 8, 10, 13, 15, 16, 11, 1, 1, 3, 4, 17, 1, 3, 1, 2, 4, 5, 11, 12, 1, 2, 3, 5, 6, 7, 8, 10, 11, 12, 1, 2, 3, 5, 6, 7, 9, 10, 11, 12, 13, 15, 1, 2, 3, 4, 5, 6, 7, 8, 9, 10, 11, 13, 18, 1, 2, 3, 4, 6, 7, 8, 10, 11, 12, 1, 2, 3, 6, 11, 12, 14, 18, 1, 3, 4, 5, 6, 7, 11, 16, 5, 12, 18, 9, 12, 1, 2, 3, 5, 12, 12, 4, 11, 10, 17, 3, 4, 6, 7, 9, 10, 15, 13, 15, 1, 2, 3, 4, 5, 6, 7, 10, 12, 13, 11, 17, 1, 2, 3, 4, 5, 6, 7, 8, 10, 11, 12, 8, 9, 12, 16, 14, 11, 4, 8, 8, 2, 6, 12, 14, 5, 12, 1, 6, 7, 11, 2, 15, 19, 2, 15, 19, 3, 14, 15, 1, 3, 7, 8, 3, 4, 1, 3, 5, 7, 10, 12, 13, 14, 3, 17, 11, 3, 1, 2, 3, 4, 5, 6, 7, 8, 10, 13, 18, 6, 8, 2, 1, 2, 4, 7, 8, 10, 8, 12, 9, 18, 12, 1, 2, 3, 6, 7, 9, 10, 12, 18, 4, 12, 4, 3, 7, 10, 13, 14, 3, 7, 3, 4, 6, 18, 1, 2, 4, 6, 7, 7, 4, 7, 9, 4, 5, 2, 5, 12, 5, 1, 14, 3, 6, 6, 16, 3, 7, 1, 2, 3, 4, 5, 6, 7, 2, 8, 12, 2, 8, 1, 2, 3, 5, 6, 7, 8, 10, 12, 13, 14, 15, 18, 11, 1, 2, 3, 4, 5, 6, 8, 9, 10, 11, 12, 13, 3, 4, 1, 2, 4, 8, 9, 10, 15, 4, 13, 15, 8, 12, 8, 10, 9, 17, 1, 2, 3, 5, 6, 7, 10, 11, 13, 15, 2, 11, 1, 2, 3, 4, 7, 8, 9, 10, 12, 4, 15, 18, 10, 1, 2, 3, 4, 7, 9, 11, 12, 1, 2, 3, 6, 7, 11, 12, 19, 14, 16, 7, 4, 12, 15, 3, 17, 1, 2, 3, 4, 6, 7, 8, 9, 10, 11, 13, 14, 15, 15, 1, 2, 4, 5, 13, 4, 8, 12, 16, 20, 20, 1, 2, 3, 4, 5, 6, 7, 18, 1, 3, 4, 8, 10, 11, 15, 1, 2, 3, 4, 5, 8, 10, 12, 13, 13, 1, 2, 3, 6, 8, 10, 11, 12, 13, 14, 13, 1, 2, 3, 4, 7, 18, 1, 3, 4, 10, 18, 4, 4, 1, 1, 12, 8, 6, 6, 3, 6, 13, 16, 4, 6, 16, 3, 7, 8, 15, 18, 1, 11, 19, 12, 12, 12, 7, 17, 1, 4, 6, 15, 1, 2, 3, 4, 5, 6, 7, 8, 10, 11, 12, 18, 3, 16, 2, 19, 15, 19, 3, 4, 5, 8, 9, 4, 2, 5, 12, 9, 1, 2, 3, 5, 8, 10, 11, 12, 1, 2, 3, 4, 9, 12, 13, 1, 2, 3, 4, 5, 7, 10, 11, 13, 6, 9, 8, 3, 4, 6, 7, 10, 11, 15, 10, 19, 19, 1, 3, 5, 7, 12, 16, 11, 16, 1, 9, 19, 9, 15, 3, 10, 4, 5, 15, 6, 3, 1, 7, 9, 10, 8, 9, 11, 12, 1, 6, 7, 9, 9, 9, 9, 1, 2, 3, 4, 5, 7, 10, 12, 13, 15, 14, 1, 2, 3, 5, 6, 7, 9, 10, 12, 15, 16, 2, 8, 10, 11, 5, 12, 13, 3, 7, 8, 14, 3, 7, 14, 8, 15, 2, 3, 15, 1, 2, 4, 5, 6, 8, 9, 12, 14, 6, 13, 8, 16, 10, 15, 1, 4, 8, 10, 1, 2, 3, 4, 8, 10, 13, 14, 1, 3, 6, 7, 2, 15, 2, 3, 6, 7, 10, 12, 18, 3, 18, 3, 18, 3, 3, 4, 18, 16, 17, 16, 10, 1, 2, 4, 8, 10, 13, 1, 2, 3, 5, 6, 7, 10, 11, 12, 19, 1, 2, 3, 5, 6, 7, 10, 12, 3, 15, 2, 8, 17, 3, 4, 7, 8, 10, 13, 15, 17, 1, 3, 4, 7, 8, 10, 13, 15, 1, 3, 4, 6, 3, 4, 11, 2, 3, 10, 8, 5, 10, 4, 17, 2, 3, 4, 8, 10, 18, 9, 18, 1, 2, 4, 6, 11, 16, 7, 20, 14, 9, 1, 2, 3, 5, 7, 10, 12, 10, 2, 4, 13, 4, 16, 9, 8, 20, 1, 2, 3, 5, 7, 10, 12, 13, 14, 1, 2, 5, 6, 7, 11, 12, 6, 18, 8, 2, 10, 13, 2, 5, 8, 5, 2, 5, 8, 12, 12, 13, 1, 13, 17, 20, 1, 2, 5, 7, 10, 17, 8, 8, 2, 3, 4, 5, 8, 12, 15, 17, 1, 3, 17, 3, 15, 5, 14, 1, 2, 3, 4, 6, 8, 9, 11, 12, 13, 18, 5, 15, 1, 2, 6, 1, 18, 1, 6, 1, 2, 3, 6, 7, 9, 10, 11, 12, 13, 14, 2, 8, 9, 10, 12, 13, 10, 7, 1, 2, 3, 4, 6, 8, 9, 15, 4, 12, 4, 17, 1, 2, 6, 11, 15, 3, 2, 4, 5, 9, 13, 1, 3, 6, 7, 9, 4, 8, 4, 8, 11, 4, 8, 5, 1, 2, 5, 8, 11, 12, 17, 18, 4, 6, 7, 5, 17, 5, 4, 4, 1, 2, 5, 7, 11, 12, 18, 3, 4, 10, 4, 5, 15, 2, 3, 4, 5, 15, 9, 9, 9, 8, 20, 1, 5, 17, 14, 8, 15, 9, 1, 2, 3, 4, 5, 6, 7, 8, 9, 10, 11, 12, 14, 16, 2, 4, 8, 10, 8, 10, 11, 2, 3, 4, 6, 8, 13, 2, 10, 12, 2, 4, 8, 10, 12, 13, 18, 11, 1, 2, 3, 5, 6, 12, 13, 1, 2, 4, 6, 7, 8, 9, 10, 18, 1, 4, 6, 8, 15, 8, 10, 8, 10, 15, 8, 3, 2, 15, 19, 3, 15, 3, 6, 7, 13, 18, 8, 11, 4, 14, 6, 1, 2, 3, 4, 5, 6, 7, 8, 9, 10, 11, 12, 13, 11, 1, 3, 6, 13, 14, 18, 19, 1, 2, 19, 16, 12, 14, 12, 7, 14, 1, 4, 9, 12, 18, 16, 17, 2, 4, 8, 10, 15, 3, 7, 15, 4, 13, 8, 11, 12, 1, 2, 3, 5, 6, 7, 11, 13, 1, 2, 3, 4, 7, 10, 11, 19, 1, 2, 6, 7, 1, 2, 3, 4, 5, 6, 7, 8, 10, 13, 17, 4, 8, 11, 12, 3, 4, 6, 13, 14, 4, 1, 2, 3, 4, 6, 7, 8, 9, 10, 13, 18, 1, 3, 6, 7, 10, 14, 7, 1, 4, 6, 18, 1, 5, 5, 17, 20, 4, 15, 1, 2, 3, 4, 9, 11, 12, 1, 2, 3, 4, 6, 8, 10, 12, 13, 1, 2, 4, 7, 8, 12, 4, 6, 11, 7, 6, 1, 2, 3, 4, 5, 6, 7, 8, 9, 11, 12, 17, 1, 10, 13, 2, 3, 4, 6, 11, 15, 20, 1, 2, 1, 2, 3, 4, 5, 6, 7, 8, 9, 10, 12, 13, 15, 11, 11, 14, 3, 4, 6, 8, 13, 1, 2, 3, 6, 7, 10, 11, 13, 19, 11, 7, 19, 12, 1, 2, 3, 4, 5, 6, 7, 10, 14, 15, 1, 2, 3, 5, 6, 7, 10, 11, 12, 3, 6, 7, 11, 14, 7, 1, 4, 9, 9, 2, 11, 20, 3, 4, 6, 7, 10, 15, 16, 20, 4, 12, 8, 12, 20, 5, 1, 3, 7, 8, 11, 15, 18, 7, 19, 14, 1, 2, 5, 6, 7, 11, 18, 1, 2, 3, 5, 6, 7, 11, 1, 2, 5, 6, 7, 11, 1, 2, 3, 4, 7, 8, 9, 10, 11, 12, 13, 14, 1, 2, 3, 5, 6, 7, 11, 12, 2, 1, 2, 3, 4, 5, 6, 8, 9, 10, 11, 12, 19, 2, 9, 20, 1, 2, 3, 4, 5, 6, 7, 8, 9, 10, 11, 12, 13, 6, 6, 9, 12, 13, 18, 2, 1, 2, 4, 5, 8, 10, 1, 2, 5, 7, 8, 11, 12, 1, 2, 4, 6, 8, 9, 11, 12, 3, 3, 9, 7, 17, 15, 2, 8, 11, 20, 3, 4, 7, 10, 12, 14, 1, 2, 19, 19, 2, 4, 7, 1, 2, 3, 5, 7, 10, 12, 13, 1, 2, 5, 12, 8, 8, 8, 11, 18, 13, 3, 4, 6, 10, 11, 14, 2, 4, 8, 12, 4, 5, 3, 4, 8, 13, 15, 3, 7, 1, 6, 7, 14, 7, 7, 1, 2, 3, 4, 5, 6, 7, 10, 12, 13, 14, 3, 10, 1, 2, 3, 4, 6, 7, 10, 13, 14, 3, 3, 4, 2, 3, 4, 5, 7, 8, 10, 13, 7, 20, 4, 6, 10, 17, 2, 3, 7, 9, 10, 11, 15, 2, 3, 6, 15, 2, 3, 4, 6, 8, 11, 15, 17, 3, 14, 7, 2, 20, 17, 15, 19, 1, 2, 3, 5, 6, 7, 11, 2, 10, 20, 2, 4, 8, 9, 15, 1, 2, 4, 5, 6, 11, 12, 15, 2, 4, 4, 12, 1, 2, 3, 4, 5, 6, 7, 8, 9, 11, 1, 2, 4, 6, 8, 9, 11, 6, 17, 17, 3, 3, 1, 2, 11, 15, 3, 7, 11, 13, 3, 7, 11, 1, 13, 9, 6, 10, 20, 6, 10, 6, 1, 2, 3, 5, 6, 7, 10, 11, 12, 13, 14, 2, 18, 2, 5, 11, 18, 2, 11, 12, 1, 12, 18, 1, 2, 3, 4, 5, 6, 7, 11, 12, 1, 2, 3, 4, 5, 6, 7, 8, 11, 12, 15, 1, 2, 3, 4, 5, 7, 8, 9, 12, 5, 1, 2, 3, 4, 5, 6, 7, 8, 10, 11, 12, 13, 16, 14, 16, 1, 2, 3, 5, 7, 8, 10, 11, 13, 14, 17, 13, 3, 13, 3, 1, 1, 16, 1, 2, 4, 6, 8, 9, 13, 1, 2, 4, 6, 8, 9, 10, 11, 12, 15, 4, 12, 12], \"Freq\": [0.970350980758667, 0.05345616862177849, 0.2262977808713913, 0.07662050426006317, 0.167495995759964, 0.4329949617385864, 0.04276493564248085, 0.9153993129730225, 0.7870835065841675, 0.08364102989435196, 0.08364102989435196, 0.01822945475578308, 0.019301775842905045, 0.007506246212869883, 0.9340111017227173, 0.13663946092128754, 0.06831973046064377, 0.785676896572113, 0.9929953217506409, 0.9784255623817444, 0.01909959688782692, 0.14461123943328857, 0.4420192539691925, 0.3929060101509094, 0.989579975605011, 0.025476155802607536, 0.016984103247523308, 0.9341257214546204, 0.02264547161757946, 0.9527127146720886, 0.8925442695617676, 0.9923731684684753, 0.1186927855014801, 0.08901958912611008, 0.7912852764129639, 0.32871562242507935, 0.025285817682743073, 0.4972877502441406, 0.1432863026857376, 0.3232390880584717, 0.6216136813163757, 0.03729682043194771, 0.9852302670478821, 0.10326723009347916, 0.894982635974884, 0.9575194716453552, 0.32113832235336304, 0.08565524965524673, 0.21482665836811066, 0.07298598438501358, 0.06692676991224289, 0.06334632635116577, 0.08675692230463028, 0.0432407520711422, 0.0011016752105206251, 0.029194392263889313, 0.0022033504210412502, 0.010465914383530617, 0.0024787692818790674, 0.9880878329277039, 0.9964728951454163, 0.045002471655607224, 0.20411835610866547, 0.138221874833107, 0.5384224057197571, 0.06750370562076569, 0.006428924389183521, 0.03375915437936783, 0.6791546940803528, 0.08936246484518051, 0.059574976563453674, 0.005957497749477625, 0.05560331046581268, 0.007943330332636833, 0.06553247570991516, 0.9631574153900146, 0.9726608991622925, 0.05555061250925064, 0.49995550513267517, 0.4351464509963989, 0.5208132266998291, 0.006592572201043367, 0.47027015686035156, 0.04349355772137642, 0.6333749294281006, 0.19300265610218048, 0.1277623325586319, 0.42061880230903625, 0.04620206356048584, 0.0078003485687077045, 0.5058225989341736, 0.007200321648269892, 0.012000536546111107, 0.898682713508606, 0.01568772830069065, 0.002241104142740369, 0.02465214394032955, 0.0493042878806591, 0.006723312195390463, 0.9918391704559326, 0.9550003409385681, 0.9513829946517944, 0.974114179611206, 0.21776282787322998, 0.18844860792160034, 0.1800731122493744, 0.10050591826438904, 0.05025295913219452, 0.041877467185258865, 0.20938733220100403, 0.00947449542582035, 0.9237633347511292, 0.06395284831523895, 0.9426859021186829, 0.9192143082618713, 0.05577255040407181, 0.02272215113043785, 0.01709681749343872, 0.0034193636383861303, 0.9779379963874817, 0.020678015425801277, 0.332571417093277, 0.29638490080833435, 0.1137290894985199, 0.032740190625190735, 0.20333382487297058, 0.994340717792511, 0.9895592927932739, 0.9936063885688782, 0.8961241245269775, 0.10003246366977692, 0.7716506719589233, 0.22669963538646698, 0.6482658982276917, 0.35086557269096375, 0.18812479078769684, 0.07166658341884613, 0.03284718468785286, 0.026874970644712448, 0.5255549550056458, 0.09555544704198837, 0.020902754738926888, 0.023888861760497093, 0.017916645854711533, 0.9890500903129578, 0.9855325818061829, 0.9623874425888062, 0.9973729848861694, 0.9947804808616638, 0.9957775473594666, 0.9832306504249573, 0.9786803126335144, 0.9516610503196716, 0.973863959312439, 0.027437373995780945, 0.30524078011512756, 0.10631982237100601, 0.024007702246308327, 0.49044308066368103, 0.04801540449261665, 0.9942302703857422, 0.011779683642089367, 0.0019632806070148945, 0.6930381059646606, 0.12564995884895325, 0.03664790466427803, 0.03206691890954971, 0.0006544268690049648, 0.0850754976272583, 0.012434110976755619, 0.4024946093559265, 0.5813811421394348, 0.951855480670929, 0.041385021060705185, 0.9919596314430237, 0.9960283041000366, 0.9941263198852539, 0.9882718324661255, 0.6100186705589294, 0.0038446555845439434, 0.008970863185822964, 0.007048535160720348, 0.12879596650600433, 0.0416504368185997, 0.006407759618014097, 0.052543625235557556, 0.009611639194190502, 0.1114950105547905, 0.012174743227660656, 0.008330087177455425, 0.24577391147613525, 0.6390121579170227, 0.11797147244215012, 0.9524642825126648, 0.9906437993049622, 0.9826343059539795, 0.9926764369010925, 0.9845869541168213, 0.9887778759002686, 0.28487855195999146, 0.7076016068458557, 0.9488411545753479, 0.997894287109375, 0.1171710193157196, 0.14497432112693787, 0.4676910936832428, 0.09929747879505157, 0.09532557427883148, 0.00794379785656929, 0.038726016879081726, 0.02383139356970787, 0.0009929747320711613, 0.002978924196213484, 0.9931127429008484, 0.9652776718139648, 0.988767147064209, 0.9746578335762024, 0.9951546788215637, 0.047558724880218506, 0.9511744379997253, 0.5068857669830322, 0.10307148098945618, 0.0014119381085038185, 0.3671039044857025, 0.02047310210764408, 0.985559344291687, 0.44767701625823975, 0.013654637150466442, 0.06924851983785629, 0.03706258535385132, 0.19116492569446564, 0.07510050386190414, 0.11411375552415848, 0.051692552864551544, 0.9703137874603271, 0.8715893030166626, 0.009465223178267479, 0.0331282801926136, 0.02602936327457428, 0.04495980963110924, 0.014197834767401218, 0.9990170001983643, 0.9945511817932129, 0.9981474280357361, 0.9923340082168579, 0.25421926379203796, 0.1788950264453888, 0.4025138020515442, 0.009415527805685997, 0.1341712772846222, 0.018831055611371994, 0.19182102382183075, 0.8021606206893921, 0.9957030415534973, 0.12022528797388077, 0.8732152581214905, 0.9672298431396484, 0.9243257641792297, 0.22332394123077393, 0.01367289386689663, 0.0911526307463646, 0.1139407828450203, 0.2734578847885132, 0.2825731337070465, 0.9831413626670837, 0.002683204598724842, 0.15025945007801056, 0.05366409197449684, 0.6305530667304993, 0.04561447724699974, 0.021465636789798737, 0.08317933976650238, 0.01341602299362421, 0.9633842706680298, 0.14417065680027008, 0.007431477308273315, 0.14714325964450836, 0.026753319427371025, 0.36414238810539246, 0.07282847911119461, 0.054992932826280594, 0.1307940036058426, 0.01189036387950182, 0.03864368423819542, 0.9950658082962036, 0.05954460799694061, 0.9130173325538635, 0.04495508596301079, 0.8641366958618164, 0.0849151611328125, 0.9895360469818115, 0.9503471255302429, 0.9394426345825195, 0.3098587691783905, 0.272300124168396, 0.4131450057029724, 0.9790135622024536, 0.989628255367279, 0.9800338745117188, 0.9597784280776978, 0.05349476635456085, 0.09510181099176407, 0.802421510219574, 0.047550905495882034, 0.9555515050888062, 0.9519599676132202, 0.15099118649959564, 0.07753601670265198, 0.09589981287717819, 0.042848851531744, 0.034687165170907974, 0.026525478810071945, 0.5713180303573608, 0.10159339010715485, 0.19721069931983948, 0.11354555189609528, 0.0418325699865818, 0.0806770995259285, 0.4601582884788513, 0.9854450821876526, 0.08462581783533096, 0.7933670282363892, 0.11636050045490265, 0.9860815405845642, 0.9676500558853149, 0.8272536993026733, 0.11004750430583954, 0.05692112445831299, 0.9921815991401672, 0.986625075340271, 0.9963378310203552, 0.2965943515300751, 0.06665041297674179, 0.023327644914388657, 0.05498659238219261, 0.028326425701379776, 0.034991469234228134, 0.4565553367137909, 0.036657728254795074, 0.967694878578186, 0.17111161351203918, 0.8066690564155579, 0.989643931388855, 0.993977963924408, 0.12640723586082458, 0.2294057309627533, 0.15137657523155212, 0.31991955637931824, 0.05305983126163483, 0.028090497478842735, 0.015605832450091839, 0.0764685794711113, 0.9633777141571045, 0.8863089084625244, 0.09789863228797913, 0.01566378027200699, 0.9157285690307617, 0.02553824707865715, 0.05837313458323479, 0.9796490669250488, 0.9577502012252808, 0.05622606724500656, 0.8820464015007019, 0.05974019691348076, 0.3203858733177185, 0.3732243776321411, 0.06290298700332642, 0.010064478032290936, 0.09728994965553284, 0.026838606223464012, 0.021806368604302406, 0.08722547441720963, 0.10470904409885406, 0.6926906108856201, 0.06980603188276291, 0.04564240202307701, 0.07517572492361069, 0.008054541423916817, 0.978870689868927, 0.9652652144432068, 0.9942060112953186, 0.21814772486686707, 0.7734328508377075, 0.9853050708770752, 0.013746337965130806, 0.0490940622985363, 0.5125420093536377, 0.00981881283223629, 0.11586198955774307, 0.09229683876037598, 0.1963762491941452, 0.00981881283223629, 0.9809895157814026, 0.9945725202560425, 0.9879453778266907, 0.21073412895202637, 0.001621031784452498, 0.19290278851985931, 0.1442718356847763, 0.44578373432159424, 0.004863095469772816, 0.2283998429775238, 0.2610284090042114, 0.48942825198173523, 0.10688254237174988, 0.8879472613334656, 0.027979526668787003, 0.7994150519371033, 0.12390933185815811, 0.027979526668787003, 0.015988299623131752, 0.5854359269142151, 0.024325592443346977, 0.2351473867893219, 0.15406209230422974, 0.010836392641067505, 0.1639004349708557, 0.7599020600318909, 0.06366381049156189, 0.9720355272293091, 0.9988526701927185, 0.9670987725257874, 0.011611820198595524, 0.013270651921629906, 0.006635325960814953, 0.9970141053199768, 0.9976518154144287, 0.9874621629714966, 0.9544522762298584, 0.042046356946229935, 0.9724577069282532, 0.9865931272506714, 0.9664846062660217, 0.9926890730857849, 0.9279621839523315, 0.05710536241531372, 0.9129328727722168, 0.05804775655269623, 0.021108275279402733, 0.14437603950500488, 0.8456311225891113, 0.4640020728111267, 0.5258690118789673, 0.16940894722938538, 0.8188099265098572, 0.943327009677887, 0.9944316744804382, 0.9934567213058472, 0.9885714650154114, 0.17071957886219025, 0.8251445889472961, 0.9984361529350281, 0.027557948604226112, 0.9645282030105591, 0.9873362183570862, 0.9833624958992004, 0.013575222343206406, 0.7805752754211426, 0.013575222343206406, 0.017647789791226387, 0.009502655826508999, 0.06923363357782364, 0.0773787721991539, 0.017647789791226387, 0.958670437335968, 0.9127280116081238, 0.38716620206832886, 0.17543469369411469, 0.006049471907317638, 0.09679155051708221, 0.3206220269203186, 0.012098943814635277, 0.01915564201772213, 0.6443261504173279, 0.32216307520866394, 0.013931375928223133, 0.11751002818346024, 0.03525300696492195, 0.3642810881137848, 0.047004010528326035, 0.12338552623987198, 0.14688754081726074, 0.1410120278596878, 0.023502005264163017, 0.050634633749723434, 0.9367406964302063, 0.975488543510437, 0.5959148406982422, 0.04410708323121071, 0.007507588714361191, 0.14827486872673035, 0.009384485892951488, 0.037537943571805954, 0.018768971785902977, 0.12950590252876282, 0.007507588714361191, 0.0018768971785902977, 0.9711475968360901, 0.9793165922164917, 0.9556519389152527, 0.9704793095588684, 0.00442817248404026, 0.19483958184719086, 0.12398882955312729, 0.6686540246009827, 0.9508910775184631, 0.04715162515640259, 0.026741228997707367, 0.9359430074691772, 0.9869385361671448, 0.9285452961921692, 0.9423887729644775, 0.9890531897544861, 0.21458549797534943, 0.028042422607541084, 0.0621810257434845, 0.3767438530921936, 0.288958877325058, 0.028042422607541084, 0.2026459127664566, 0.6989815831184387, 0.04699035733938217, 0.049927253276109695, 0.9717087745666504, 0.9353180527687073, 0.05466775968670845, 0.14297722280025482, 0.21026061475276947, 0.1934397667646408, 0.39528995752334595, 0.9690592288970947, 0.04201990365982056, 0.09104312211275101, 0.2030961960554123, 0.651308536529541, 0.335178017616272, 0.6579420566558838, 0.9340229630470276, 0.959537923336029, 0.9801000356674194, 0.9961312413215637, 0.9918818473815918, 0.005866838153451681, 0.46543583273887634, 0.1505821794271469, 0.15253779292106628, 0.06844644248485565, 0.007822451181709766, 0.017600513994693756, 0.011733676306903362, 0.005866838153451681, 0.11146992444992065, 0.9958280324935913, 0.9843674898147583, 0.9951869249343872, 0.0230012908577919, 0.4344688355922699, 0.13034065067768097, 0.18784387409687042, 0.1341741979122162, 0.05494752898812294, 0.007667097263038158, 0.02555699087679386, 0.038605593144893646, 0.9581206440925598, 0.978814959526062, 0.15048621594905853, 0.827674150466919, 0.2297135293483734, 0.05440583452582359, 0.2297135293483734, 0.4836074411869049, 0.9593784213066101, 0.9605265855789185, 0.10078876465559006, 0.033596254885196686, 0.5039438605308533, 0.05999331548810005, 0.016798127442598343, 0.17278073728084564, 0.016798127442598343, 0.09598930180072784, 0.9734658598899841, 0.9787454605102539, 0.20502059161663055, 0.002010005759075284, 0.3839111030101776, 0.317580908536911, 0.05829016491770744, 0.024120068177580833, 0.006030017044395208, 0.6365697979927063, 0.10092416405677795, 0.009344830177724361, 0.004485518205910921, 0.011587589047849178, 0.003737931838259101, 0.13157519698143005, 0.007102070841938257, 0.02728690207004547, 0.06055449694395065, 0.007102070841938257, 0.08861252665519714, 0.4362463057041168, 0.3544501066207886, 0.10451734066009521, 0.015904812142252922, 0.7437098026275635, 0.11834064871072769, 0.01938338205218315, 0.020403560250997543, 0.0642712190747261, 0.008161424659192562, 0.007141245994716883, 0.004080712329596281, 0.00918160192668438, 0.003060534130781889, 0.0020403561647981405, 0.8060910105705261, 0.19178372621536255, 0.9777558445930481, 0.04263193532824516, 0.20960702002048492, 0.08881653100252151, 0.20250169932842255, 0.02842129021883011, 0.04618459567427635, 0.060395240783691406, 0.3161868453025818, 0.9686734080314636, 0.03500426933169365, 0.9101110100746155, 0.9567965865135193, 0.028993835672736168, 0.9687425494194031, 0.028034349903464317, 0.9892710447311401, 0.9538462162017822, 0.03859493508934975, 0.05823473632335663, 0.06988168507814407, 0.8385802507400513, 0.02329389564692974, 0.973751425743103, 0.988684356212616, 0.9781140089035034, 0.99161696434021, 0.11848744004964828, 0.8801923990249634, 0.996861457824707, 0.9873139262199402, 0.9802102446556091, 0.9878841638565063, 0.9680567383766174, 0.9896960258483887, 0.9813029170036316, 0.9530078172683716, 0.0310763418674469, 0.0103587806224823, 0.14568299055099487, 0.04717353731393814, 0.28581616282463074, 0.09157216548919678, 0.2525171935558319, 0.016649484634399414, 0.018036941066384315, 0.0041623711585998535, 0.02219931222498417, 0.09295962005853653, 0.020811855792999268, 0.9606443047523499, 0.98660808801651, 0.5340571999549866, 0.1952071189880371, 0.1974170058965683, 0.07292643189430237, 0.07313960790634155, 0.13273485004901886, 0.3196471929550171, 0.07043073326349258, 0.008126622997224331, 0.027088744565844536, 0.344027042388916, 0.024379869922995567, 0.9584227204322815, 0.035171475261449814, 0.13690833747386932, 0.20272965729236603, 0.03685993701219559, 0.0026328526437282562, 0.0421256422996521, 0.384396493434906, 0.192198246717453, 0.9833981394767761, 0.3955458998680115, 0.5933188199996948, 0.9869155287742615, 0.9732964038848877, 0.9889271855354309, 0.971128523349762, 0.9695382118225098, 0.9877157211303711, 0.10759321600198746, 0.15541242063045502, 0.06375893950462341, 0.6734538078308105, 0.9881371259689331, 0.10897421091794968, 0.8717936873435974, 0.037227533757686615, 0.07817782461643219, 0.29409751296043396, 0.029782027006149292, 0.17496941983699799, 0.13401912152767181, 0.011168260127305984, 0.22708795964717865, 0.011168260127305984, 0.9626445174217224, 0.008831600658595562, 0.02649480290710926, 0.9549209475517273, 0.979977548122406, 0.9936201572418213, 0.10685912519693375, 0.22019454836845398, 0.5796297788619995, 0.09066834300756454, 0.0879858061671257, 0.027784990146756172, 0.16670994460582733, 0.03241582214832306, 0.43066737055778503, 0.2500649094581604, 0.9757625460624695, 0.9899683594703674, 0.14191602170467377, 0.851496160030365, 0.9692972302436829, 0.02843271940946579, 0.9885685443878174, 0.2488996535539627, 0.7466989159584045, 0.1410551518201828, 0.8463309407234192, 0.12302714586257935, 0.8748596906661987, 0.13242504000663757, 0.2790384590625763, 0.581724226474762, 0.9666953086853027, 0.8808107972145081, 0.11251232773065567, 0.0048219566233456135, 0.22698532044887543, 0.029288427904248238, 0.6223791241645813, 0.11715371161699295, 0.05272068828344345, 0.3749026954174042, 0.5682118535041809, 0.9882469773292542, 0.17393678426742554, 0.31308621168136597, 0.4870230257511139, 0.9813007712364197, 0.9825384020805359, 0.04775865748524666, 0.22924154996871948, 0.16715529561042786, 0.5540004372596741, 0.9692474603652954, 0.24088440835475922, 0.08200319856405258, 0.061502400785684586, 0.14350560307502747, 0.11275440454483032, 0.06662759929895401, 0.24088440835475922, 0.010250399820506573, 0.035876400768756866, 0.19139371812343597, 0.7929168343544006, 0.9723263382911682, 0.9479079842567444, 0.11981052905321121, 0.8789379000663757, 0.06028809770941734, 0.13986839354038239, 0.7162226438522339, 0.04099590703845024, 0.04099590703845024, 0.0629422664642334, 0.04378592595458031, 0.1669338494539261, 0.7252044081687927, 0.9984663724899292, 0.8307406306266785, 0.16698303818702698, 0.01555369608104229, 0.9798828363418579, 0.951144278049469, 0.019496159628033638, 0.7042987942695618, 0.27538326382637024, 0.9908511638641357, 0.01750669628381729, 0.06127343326807022, 0.9103481769561768, 0.9709562063217163, 0.9905389547348022, 0.1267360895872116, 0.8449072241783142, 0.9268783330917358, 0.061208948493003845, 0.25631436705589294, 0.028054310008883476, 0.4514193534851074, 0.1071164533495903, 0.13262037932872772, 0.010201566852629185, 0.003825587686151266, 0.010201566852629185, 0.9926247596740723, 0.9868990778923035, 0.9965985417366028, 0.999118447303772, 0.9774380326271057, 0.1614953577518463, 0.7805609107017517, 0.026915892958641052, 0.026915892958641052, 0.13494661450386047, 0.012651246041059494, 0.06325622648000717, 0.7885943055152893, 0.9902288913726807, 0.003808572655543685, 0.8078421950340271, 0.07633154839277267, 0.02862432971596718, 0.061489298939704895, 0.011661764234304428, 0.014842244796454906, 0.1070052981376648, 0.01528647169470787, 0.1070052981376648, 0.01528647169470787, 0.1070052981376648, 0.6420317888259888, 0.9968781471252441, 0.006175620015710592, 0.9927309155464172, 0.9945278763771057, 0.9826690554618835, 0.9796633720397949, 0.9895437955856323, 0.992057204246521, 0.9854201674461365, 0.12361114472150803, 0.10383336246013641, 0.03461112082004547, 0.7317779660224915, 0.6165633201599121, 0.1766303926706314, 0.01766303926706314, 0.07352753728628159, 0.02135995402932167, 0.022181490436196327, 0.018484575673937798, 0.04641682282090187, 0.006983061786741018, 0.05602673068642616, 0.5241210460662842, 0.41748949885368347, 0.12381043285131454, 0.04733928292989731, 0.06554669886827469, 0.050980765372514725, 0.6008447408676147, 0.10560301691293716, 0.007282966747879982, 0.9624526500701904, 0.9772962927818298, 0.11497791856527328, 0.06748703867197037, 0.04999040067195892, 0.5998848080635071, 0.03749280050396919, 0.05498943850398064, 0.07748512178659439, 0.1610005795955658, 0.7678489089012146, 0.05779508128762245, 0.012384659610688686, 0.9926885962486267, 0.8552185893058777, 0.13612475991249084, 0.005918467883020639, 0.9847658276557922, 0.9436917901039124, 0.3743559420108795, 0.31415799260139465, 0.00470296386629343, 0.006584149785339832, 0.14955425262451172, 0.031980156898498535, 0.05549497529864311, 0.013168299570679665, 0.0479702353477478, 0.9964386224746704, 0.11404716968536377, 0.8743616342544556, 0.061835598200559616, 0.9344046115875244, 0.9809646010398865, 0.5585713386535645, 0.4384135603904724, 0.42260271310806274, 0.15569573640823364, 0.40036046504974365, 0.022242248058319092, 0.9413496255874634, 0.49018770456314087, 0.012485400773584843, 0.49670180678367615, 0.9948981404304504, 0.9368966817855835, 0.0051992046646773815, 0.04471316188573837, 0.013517932035028934, 0.1501559168100357, 0.840873122215271, 0.4857466518878937, 0.025906488299369812, 0.08095777779817581, 0.022668177261948586, 0.2914479970932007, 0.02914479933679104, 0.06152791157364845, 0.8682244420051575, 0.12809868156909943, 0.9203277230262756, 0.9414839148521423, 0.3574245572090149, 0.07799912244081497, 0.057856492698192596, 0.09685605019330978, 0.035999596118927, 0.025713996961712837, 0.0017142663709819317, 0.06299929320812225, 0.12642714381217957, 0.04542805999517441, 0.05528509244322777, 0.020142629742622375, 0.029142528772354126, 0.004285666160285473, 0.0025713995564728975, 0.9540996551513672, 0.044898808002471924, 0.1651272475719452, 0.14260989427566528, 0.6830263137817383, 0.9946804642677307, 0.9434090852737427, 0.9915154576301575, 0.9945908188819885, 0.9950582385063171, 0.9821712970733643, 0.9933894276618958, 0.9697938561439514, 0.9273094534873962, 0.011949864216148853, 0.057359348982572556, 0.9958856105804443, 0.9854783415794373, 0.9721958637237549, 0.9566288590431213, 0.9828949570655823, 0.9808849096298218, 0.23747263848781586, 0.0031663018744438887, 0.5192735195159912, 0.08865644782781601, 0.06649233400821686, 0.0854901447892189, 0.9597195982933044, 0.032350100576877594, 0.9668480157852173, 0.08208468556404114, 0.9029315710067749, 0.04912976175546646, 0.016748782247304916, 0.9334654808044434, 0.07314115017652512, 0.9248292446136475, 0.35373932123184204, 0.6258465051651001, 0.9655100703239441, 0.029556430876255035, 0.9869256019592285, 0.3231583833694458, 0.6624746918678284, 0.986740231513977, 0.9934206604957581, 0.9939775466918945, 0.9830718040466309, 0.014746077358722687, 0.7857486605644226, 0.014742000959813595, 0.010319400578737259, 0.07223580032587051, 0.11793600767850876, 0.9685029983520508, 0.19231796264648438, 0.7692718505859375, 0.16467484831809998, 0.06221049651503563, 0.10612379014492035, 0.01829720474779606, 0.6184455156326294, 0.014637764543294907, 0.01097832340747118, 0.9859009385108948, 0.9892553091049194, 0.8411456346511841, 0.001363283023238182, 0.007498057093471289, 0.021812528371810913, 0.011587905697524548, 0.008861339651048183, 0.10769936442375183, 0.7298832535743713, 0.017811274155974388, 0.03334876894950867, 0.0015158531023189425, 0.02728535607457161, 0.13453195989131927, 0.04206492379307747, 0.01212682481855154, 0.0015158531023189425, 0.9939642548561096, 0.9838787317276001, 0.43656742572784424, 0.026853885501623154, 0.2508920133113861, 0.2846511900424957, 0.8335493803024292, 0.16425375640392303, 0.28503042459487915, 0.028503043577075005, 0.6555699706077576, 0.15231235325336456, 0.08703562617301941, 0.005439726635813713, 0.7398028373718262, 0.01631917990744114, 0.9897413849830627, 0.28436535596847534, 0.7138150930404663, 0.14250148832798004, 0.17812687158584595, 0.08906343579292297, 0.07125074416399002, 0.5165678858757019, 0.9365041851997375, 0.08740562945604324, 0.07612748444080353, 0.03383443504571915, 0.7358989715576172, 0.062029797583818436, 0.9362967014312744, 0.009433720260858536, 0.0518854595720768, 0.9966878890991211, 0.9570572972297668, 0.9905033707618713, 0.989463210105896, 0.9083031415939331, 0.08650505542755127, 0.07340498268604279, 0.9249027967453003, 0.5141640305519104, 0.060659799724817276, 0.3870672881603241, 0.025997057557106018, 0.008665685541927814, 0.5093162059783936, 0.002442763652652502, 0.0036641452461481094, 0.04274836182594299, 0.002442763652652502, 0.002442763652652502, 0.43603330850601196, 0.989335834980011, 0.9860109686851501, 0.01200178824365139, 0.1800268292427063, 0.004800715483725071, 0.11281681060791016, 0.6889026165008545, 0.9646815657615662, 0.024735424667596817, 0.9755702018737793, 0.3970215320587158, 0.03197488933801651, 0.5489022731781006, 0.015987444669008255, 0.0026645741891115904, 0.9784182906150818, 0.005627807229757309, 0.9904940724372864, 0.9867154955863953, 0.31122615933418274, 0.048678964376449585, 0.19391784071922302, 0.34314680099487305, 0.022344442084431648, 0.031122615560889244, 0.03271864727139473, 0.014364284463226795, 0.0023940473329275846, 0.9764003753662109, 0.9933289289474487, 0.956125795841217, 0.9805815815925598, 0.13497667014598846, 0.13276393711566925, 0.054211944341659546, 0.24450692534446716, 0.23786872625350952, 0.058637406677007675, 0.054211944341659546, 0.04868011176586151, 0.03429735079407692, 0.9102194905281067, 0.08467157930135727, 0.08475521951913834, 0.15090563893318176, 0.02687360718846321, 0.20878726243972778, 0.5271361470222473, 0.043253082782030106, 0.9515678286552429, 0.9916803240776062, 0.9881767630577087, 0.9904792904853821, 0.9982519745826721, 0.9863656759262085, 0.9207994341850281, 0.07673328369855881, 0.1416856199502945, 0.08142851293087006, 0.02768569439649582, 0.09282850474119186, 0.019542843103408813, 0.20519985258579254, 0.01465713232755661, 0.4120282828807831, 0.004885710775852203, 0.9883065819740295, 0.9886654615402222, 0.9874770641326904, 0.9840938448905945, 0.982563853263855, 0.014036626555025578, 0.9648178219795227, 0.976340115070343, 0.008882269263267517, 0.086602121591568, 0.13767516613006592, 0.1820865124464035, 0.3575113117694855, 0.08216098695993423, 0.14433686435222626, 0.3391704857349396, 0.2387692779302597, 0.12571243941783905, 0.011811907403171062, 0.1282435655593872, 0.032904598861932755, 0.07930852472782135, 0.02193639986217022, 0.011811907403171062, 0.00928078405559063, 0.9624192118644714, 0.974815845489502, 0.5268611311912537, 0.025329861789941788, 0.037150464951992035, 0.27693983912467957, 0.13171528279781342, 0.9735064506530762, 0.7979992628097534, 0.05133328586816788, 0.0077777705155313015, 0.06066661328077316, 0.05133328586816788, 0.029555529356002808, 0.9805837273597717, 0.07818683981895447, 0.8991486430168152, 0.9893340468406677, 0.9696844220161438, 0.02913215011358261, 0.8719885945320129, 0.10476187616586685, 0.018487390130758286, 0.9827646613121033, 0.9750252366065979, 0.05395367741584778, 0.02221621945500374, 0.5855560898780823, 0.10155986249446869, 0.014281854964792728, 0.025389965623617172, 0.014281854964792728, 0.02221621945500374, 0.12377607822418213, 0.03649807348847389, 0.9465827941894531, 0.02116277813911438, 0.9523249864578247, 0.9815192818641663, 0.9593061804771423, 0.3770846128463745, 0.001200906466692686, 0.3506646752357483, 0.27140486240386963, 0.00372036243788898, 0.05642549693584442, 0.3466137647628784, 0.12153183668851852, 0.1085105687379837, 0.062006041407585144, 0.21392084658145905, 0.045264407992362976, 0.04154404625296593, 0.96869295835495, 0.9850101470947266, 0.909885048866272, 0.9287518858909607, 0.9637703895568848, 0.9751333594322205, 0.06354573369026184, 0.5314734578132629, 0.023107539862394333, 0.10398393124341965, 0.27151361107826233, 0.1283741593360901, 0.8316412568092346, 0.033488910645246506, 0.9914932250976562, 0.9885598421096802, 0.7748263478279114, 0.011311333626508713, 0.20925967395305634, 0.9686744213104248, 0.1464693248271942, 0.10339011251926422, 0.08185050636529922, 0.3360178768634796, 0.07754258811473846, 0.008615843020379543, 0.24555152654647827, 0.27936846017837524, 0.5883668661117554, 0.11640352010726929, 0.012698565609753132, 0.964797854423523, 0.982392430305481, 0.959792971611023, 0.911026656627655, 0.9354941248893738, 0.9102297425270081, 0.08856289088726044, 0.46892035007476807, 0.5304180979728699, 0.9913725852966309, 0.9979867935180664, 0.997455894947052, 0.9822384715080261, 0.2575899660587311, 0.3740347623825073, 0.08998005837202072, 0.03705061227083206, 0.07410122454166412, 0.03705061227083206, 0.03881492838263512, 0.014114519581198692, 0.07586554437875748, 0.9929364919662476, 0.9713590145111084, 0.9918807148933411, 0.9862322807312012, 0.9985712170600891, 0.0010533451568335295, 0.1540796011686325, 0.14326699078083038, 0.7001160979270935, 0.020100940018892288, 0.20770971477031708, 0.7705360651016235, 0.22716264426708221, 0.7661926746368408, 0.03163144364953041, 0.012301117181777954, 0.06853479146957397, 0.08962242305278778, 0.37957730889320374, 0.00702920975163579, 0.03514605015516281, 0.09665163606405258, 0.24602234363555908, 0.02987414039671421, 0.003514604875817895, 0.9825074076652527, 0.3396476209163666, 0.651756227016449, 0.11135240644216537, 0.7991172671318054, 0.07205155491828918, 0.0065501416102051735, 0.935209333896637, 0.9968439936637878, 0.976743221282959, 0.9960818290710449, 0.9706121683120728, 0.16605165600776672, 0.8198800086975098, 0.9798089265823364, 0.9793646931648254, 0.9825091361999512, 0.036596041172742844, 0.08783049881458282, 0.19761861860752106, 0.19761861860752106, 0.47574853897094727, 0.991943359375, 0.9871984124183655, 0.9929101467132568, 0.9750795364379883, 0.021997956559062004, 0.9759093523025513, 0.9679229259490967, 0.973862886428833, 0.32548972964286804, 0.14842332899570465, 0.26559963822364807, 0.26039180159568787, 0.902009904384613, 0.09311069548130035, 0.6799476742744446, 0.015533874742686749, 0.0010900965426117182, 0.018531640991568565, 0.0010900965426117182, 0.20957104861736298, 0.00027252413565292954, 0.0735815167427063, 0.00027252413565292954, 0.9770944118499756, 0.9918528199195862, 0.9885690212249756, 0.9612785577774048, 0.06788259744644165, 0.8824737668037415, 0.09126249700784683, 0.14449894428253174, 0.7491129636764526, 0.011407812125980854, 0.9599231481552124, 0.9531073570251465, 0.4592795670032501, 0.04760824516415596, 0.048308368772268295, 0.05600970238447189, 0.024504244327545166, 0.01820315234363079, 0.06301091611385345, 0.2107364982366562, 0.008401455357670784, 0.04690812528133392, 0.007001212798058987, 0.006301091518253088, 0.004200727678835392, 0.2654251158237457, 0.045702338218688965, 0.07206907123327255, 0.029882298782467842, 0.12480253726243973, 0.04394455626606941, 0.02812451496720314, 0.029882298782467842, 0.27245625853538513, 0.06855350732803345, 0.017577823251485825, 0.996345579624176, 0.9829522371292114, 0.010133528150618076, 0.9728103280067444, 0.9604887366294861, 0.035794612020254135, 0.9796549081802368, 0.9912382364273071, 0.08900909125804901, 0.9002633690834045, 0.007629350759088993, 0.9883105158805847, 0.9882751107215881, 0.3470480442047119, 0.037036750465631485, 0.10973851382732391, 0.01234558317810297, 0.04526713863015175, 0.10973851382732391, 0.27297455072402954, 0.028806360438466072, 0.006858657114207745, 0.030178092420101166, 0.9840361475944519, 0.04889558255672455, 0.04889558255672455, 0.018335843458771706, 0.22003011405467987, 0.5561872124671936, 0.05500752851366997, 0.04278363287448883, 0.9628828763961792, 0.9844223260879517, 0.07462630420923233, 0.16169032454490662, 0.18656575679779053, 0.5596972703933716, 0.9866359233856201, 0.9898620843887329, 0.26766765117645264, 0.22565704584121704, 0.031207889318466187, 0.42250680923461914, 0.030007585883140564, 0.021605461835861206, 0.685222864151001, 0.032888803631067276, 0.05560337379574776, 0.0009464403847232461, 0.050871171057224274, 0.12138097733259201, 0.0033125414047390223, 0.015143046155571938, 0.031232532113790512, 0.003549151588231325, 0.10505513846874237, 0.037588536739349365, 0.32480350136756897, 0.009638085961341858, 0.09348943084478378, 0.02987806685268879, 0.08095992356538773, 0.017348553985357285, 0.004819042980670929, 0.011565702967345715, 0.2843235433101654, 0.9723619222640991, 0.09530345350503922, 0.013614779338240623, 0.46581995487213135, 0.1322578489780426, 0.019449684768915176, 0.0029174527153372765, 0.07293631881475449, 0.0359819158911705, 0.03987185284495354, 0.054459117352962494, 0.03889936953783035, 0.019449684768915176, 0.009724842384457588, 0.7252060174942017, 0.06121869385242462, 0.0018836520612239838, 0.008476434275507927, 0.09135712683200836, 0.03390573710203171, 0.0028254780918359756, 0.009418260306119919, 0.05556773766875267, 0.01036008633673191, 0.6875985860824585, 0.018560944125056267, 0.2041703760623932, 0.024466698989272118, 0.05990122631192207, 0.0008436792413704097, 0.0016873584827408195, 0.0042183962650597095, 0.370536744594574, 0.018246129155158997, 0.00280709657818079, 0.00280709657818079, 0.08140580356121063, 0.4842241704463959, 0.03929935395717621, 0.9670690894126892, 0.9560666680335999, 0.0386289581656456, 0.9672088027000427, 0.9600812196731567, 0.027828441932797432, 0.4561310410499573, 0.031208965927362442, 0.01200344879180193, 0.4825386106967926, 0.01440413761883974, 0.9854428768157959, 0.9959794878959656, 0.9834814071655273, 0.04313652217388153, 0.9058669209480286, 0.2735291123390198, 0.03048125095665455, 0.014438487589359283, 0.4532080888748169, 0.031283389776945114, 0.18208536505699158, 0.014438487589359283, 0.9830935597419739, 0.986751139163971, 0.6353490352630615, 0.12117244303226471, 0.07463853806257248, 0.0032251221127808094, 0.01935073360800743, 0.07003122568130493, 0.03824073448777199, 0.014282683841884136, 0.00552878063172102, 0.018429270014166832, 0.9840331673622131, 0.9580580592155457, 0.37543216347694397, 0.25671324133872986, 0.11784277111291885, 0.010513853281736374, 0.11302392184734344, 0.01620885729789734, 0.017523087561130524, 0.032855790108442307, 0.02978925034403801, 0.017523087561130524, 0.012266161851584911, 0.10177432745695114, 0.11873671412467957, 0.05088716372847557, 0.7293826937675476, 0.9608190059661865, 0.9850669503211975, 0.9897366762161255, 0.9909301400184631, 0.9866301417350769, 0.27916237711906433, 0.15952135622501373, 0.08640740066766739, 0.46527063846588135, 0.9744789600372314, 0.020623894408345222, 0.8440234661102295, 0.005291683133691549, 0.06085435673594475, 0.08995861560106277, 0.1923210471868515, 0.35505422949790955, 0.4512147605419159, 0.25960782170295715, 0.18799187242984772, 0.5460716485977173, 0.1753808706998825, 0.8067520260810852, 0.9559828042984009, 0.010607286356389523, 0.13966259360313416, 0.8291361927986145, 0.019446691498160362, 0.9884719848632812, 0.9934868216514587, 0.010964163579046726, 0.28663456439971924, 0.14096781611442566, 0.10024377703666687, 0.4009751081466675, 0.009397854097187519, 0.02975987270474434, 0.018795708194375038, 0.22772760689258575, 0.7482478618621826, 0.9617999792098999, 0.9970873594284058, 0.7982630133628845, 0.08852630108594894, 0.034342098981142044, 0.0007631577318534255, 0.016789469867944717, 0.0007631577318534255, 0.033578939735889435, 0.012210523709654808, 0.011447366327047348, 0.0038157887756824493, 0.9399006366729736, 0.8682078719139099, 0.129999041557312, 0.9965322613716125, 0.038916777819395065, 0.011119079776108265, 0.1056312546133995, 0.06671448051929474, 0.7310794591903687, 0.04447631910443306, 0.9432705640792847, 0.04716353118419647, 0.9951034188270569, 0.9766309261322021, 0.9885020852088928, 0.2491617500782013, 0.05606139451265335, 0.16818417608737946, 0.08097756654024124, 0.04360330477356911, 0.04983235150575638, 0.12458087503910065, 0.05606139451265335, 0.16195513308048248, 0.965206503868103, 0.03032062202692032, 0.990484893321991, 0.1977025419473648, 0.5436819791793823, 0.02965538017451763, 0.1136789619922638, 0.1136789619922638, 0.05967659503221512, 0.9372735619544983, 0.15146072208881378, 0.34952473640441895, 0.17476236820220947, 0.314572274684906, 0.8325119018554688, 0.013267122209072113, 0.08955307304859161, 0.05638526752591133, 0.0066335611045360565, 0.998485267162323, 0.04761633649468422, 0.9428034424781799, 0.9949328303337097, 0.9651904702186584, 0.028387954458594322, 0.2832132577896118, 0.7005801200866699, 0.011179470457136631, 0.9921941757202148, 0.9772225618362427, 0.9957272410392761, 0.9984623789787292, 0.9923006892204285, 0.9892973303794861, 0.9749588370323181, 0.3037823438644409, 0.6947893500328064, 0.7527430057525635, 0.07055561244487762, 0.03595190495252609, 0.0022469940595328808, 0.011234969832003117, 0.053478457033634186, 0.07415080070495605, 0.8902199268341064, 0.018675941973924637, 0.08715440332889557, 0.36739808320999146, 0.629169225692749, 0.22600442171096802, 0.224574014544487, 0.050064269453287125, 0.17808575928211212, 0.050064269453287125, 0.017880097031593323, 0.0014304077485576272, 0.05292508378624916, 0.018595300614833832, 0.1516232192516327, 0.02074091136455536, 0.008582445792853832, 0.9903742671012878, 0.977012038230896, 0.18337289988994598, 0.02017979323863983, 0.2570730149745941, 0.04474649578332901, 0.10089896619319916, 0.0017547645838931203, 0.012283352203667164, 0.014915498904883862, 0.03334052860736847, 0.1105501651763916, 0.027198851108551025, 0.19390147924423218, 0.039759013801813126, 0.9581921696662903, 0.9714066386222839, 0.07996243983507156, 0.4933531582355499, 0.2549745738506317, 0.015087252482771873, 0.10410203784704208, 0.054314106702804565, 0.46427956223487854, 0.027310561388731003, 0.5006936192512512, 0.8896459937095642, 0.10630989819765091, 0.9945719242095947, 0.9891865849494934, 0.20152713358402252, 0.7773189544677734, 0.378542959690094, 0.061756253242492676, 0.11036071181297302, 0.01257997751235962, 0.08291348814964294, 0.26818224787712097, 0.0634717047214508, 0.0074336230754852295, 0.01200816035270691, 0.0034309029579162598, 0.1368667334318161, 0.8460853099822998, 0.2538889944553375, 0.03356004133820534, 0.11673057824373245, 0.32684561610221863, 0.042314834892749786, 0.059824418276548386, 0.04669222980737686, 0.09630272537469864, 0.02334611490368843, 0.27481910586357117, 0.7236902713775635, 0.9558476805686951, 0.9918992519378662, 0.3341507017612457, 0.10200390219688416, 0.1301429122686386, 0.03165638446807861, 0.052760638296604156, 0.0492432601749897, 0.028139006346464157, 0.27435532212257385, 0.2810542583465576, 0.04063434898853302, 0.20994414389133453, 0.257350891828537, 0.04063434898853302, 0.006772391498088837, 0.04063434898853302, 0.11851685494184494, 0.9854496121406555, 0.010055608116090298, 0.9876065254211426, 0.7592702507972717, 0.09975813329219818, 0.1385529637336731, 0.8511277437210083, 0.14403700828552246, 0.10162925720214844, 0.2331904172897339, 0.21300378441810608, 0.02505926787853241, 0.008353088982403278, 0.05220680683851242, 0.018794450908899307, 0.015313996933400631, 0.17402268946170807, 0.017402268946170807, 0.12320806831121445, 0.0020882722456008196, 0.015313996933400631, 0.9546905159950256, 0.08938118815422058, 0.03830622509121895, 0.10640618205070496, 0.7618682384490967, 0.9900996685028076, 0.9851086139678955, 0.1428380161523819, 0.8451249599456787, 0.3981221318244934, 0.5805947780609131, 0.9566333293914795, 0.08981449156999588, 0.02052902802824974, 0.08211611211299896, 0.023095155134797096, 0.028227413073182106, 0.6363998651504517, 0.08981449156999588, 0.03079354204237461, 0.21113994717597961, 0.08101882040500641, 0.4198247790336609, 0.17431321740150452, 0.029461389407515526, 0.06628812104463577, 0.014730694703757763, 0.05508829653263092, 0.01180463470518589, 0.07082781195640564, 0.12591610848903656, 0.05508829653263092, 0.5823619961738586, 0.07082781195640564, 0.02360926941037178, 0.9775766730308533, 0.9790450930595398, 0.21159011125564575, 0.06602811813354492, 0.21759267151355743, 0.01800766959786415, 0.05252236872911453, 0.037515975534915924, 0.06002556160092354, 0.013505751267075539, 0.2866220772266388, 0.03451469913125038, 0.9853662252426147, 0.2854560315608978, 0.05233360454440117, 0.26642563939094543, 0.03806080296635628, 0.22836482524871826, 0.12369761615991592, 0.24601903557777405, 0.3454735279083252, 0.0575789213180542, 0.03140668570995331, 0.30883240699768066, 0.9961477518081665, 0.9817089438438416, 0.9751285314559937, 0.10452193766832352, 0.8753712177276611, 0.994426965713501, 0.9781766533851624, 0.9865229725837708, 0.11572633683681488, 0.0734177827835083, 0.8088399767875671, 0.9645673036575317, 0.9912208318710327, 0.9898710250854492, 0.9803118109703064, 0.2555259168148041, 0.03770054504275322, 0.21363641321659088, 0.45240652561187744, 0.03351159393787384, 0.08468910306692123, 0.14446964859962463, 0.7671836614608765, 0.9894121289253235, 0.9940026998519897, 0.9858453869819641, 0.9724348187446594, 0.9756401181221008, 0.5071876049041748, 0.0357174351811409, 0.10000881552696228, 0.3571743369102478, 0.31832173466682434, 0.13242842257022858, 0.1571045219898224, 0.04441698640584946, 0.06991562992334366, 0.02056341990828514, 0.013983125798404217, 0.007402831222862005, 0.16450735926628113, 0.01809580996632576, 0.052642352879047394, 0.9663418531417847, 0.9963444471359253, 0.9768669605255127, 0.06387592852115631, 0.9262009859085083, 0.07726481556892395, 0.9117248058319092, 0.0832340344786644, 0.10701518505811691, 0.636145830154419, 0.011890576221048832, 0.1575501412153244, 0.993567705154419, 0.04539588838815689, 0.12105569988489151, 0.8322579264640808, 0.9894663095474243, 0.38344183564186096, 0.41717371344566345, 0.005277775228023529, 0.04979465901851654, 0.05736711993813515, 0.012161829508841038, 0.072282575070858, 0.002294684760272503, 0.09114909917116165, 0.13393336534500122, 0.013021299615502357, 0.07998798042535782, 0.6510649919509888, 0.02232222817838192, 0.00558055704459548, 0.21068497002124786, 0.48349499702453613, 0.0027010892517864704, 0.01890762522816658, 0.13640500605106354, 0.01350544672459364, 0.041866883635520935, 0.07427995651960373, 0.016206536442041397, 0.04802959784865379, 0.9485845565795898, 0.9828974604606628, 0.09960886090993881, 0.06765884906053543, 0.11840298771858215, 0.14471475780010223, 0.5018031597137451, 0.043226487934589386, 0.02255295030772686, 0.9899464249610901, 0.9739731550216675, 0.9692182540893555, 0.27975723147392273, 0.1359931081533432, 0.011656551621854305, 0.14376413822174072, 0.42352136969566345, 0.9509713649749756, 0.9638219475746155, 0.9725129008293152, 0.9871774911880493, 0.9957965612411499, 0.9945290088653564, 0.9326445460319519, 0.06446851789951324, 0.9935858249664307, 0.9837474226951599, 0.9933005571365356, 0.19243107736110687, 0.7937781810760498, 0.9908525943756104, 0.9915161728858948, 0.1140560433268547, 0.05086283013224602, 0.8107227087020874, 0.023119468241930008, 0.04857219010591507, 0.8402988910675049, 0.0728582888841629, 0.03400053456425667, 0.0034452357795089483, 0.10335707664489746, 0.020671416074037552, 0.8716446757316589, 0.9978091716766357, 0.9911664724349976, 0.9906505346298218, 0.09744531661272049, 0.10732153058052063, 0.07900971919298172, 0.001975242979824543, 0.030945472419261932, 0.6037659049034119, 0.005925728939473629, 0.003292071633040905, 0.05662363022565842, 0.01316828653216362, 0.9750630855560303, 0.6015061736106873, 0.12552541494369507, 0.07473477721214294, 0.123348668217659, 0.01233486644923687, 0.018139509484171867, 0.015237187966704369, 0.015237187966704369, 0.008706964552402496, 0.004353482276201248, 0.9748510122299194, 0.7554153800010681, 0.04736928269267082, 0.08476608246564865, 0.10969728231430054, 0.26000702381134033, 0.7384198904037476, 0.9520824551582336, 0.11785442382097244, 0.8581274747848511, 0.011048851534724236, 0.007365901488810778, 0.018392348662018776, 0.9655982851982117, 0.009196174331009388, 0.041988909244537354, 0.9237560033798218, 0.9875165224075317, 0.9939886331558228, 0.9773007035255432, 0.0723305195569992, 0.15598991513252258, 0.08540229499340057, 0.01481468416750431, 0.3747243583202362, 0.03398662805557251, 0.19520524144172668, 0.02701501175761223, 0.039215341210365295, 0.9917018413543701, 0.9617724418640137, 0.9855591654777527, 0.9497400522232056, 0.10785119235515594, 0.8628095388412476, 0.002987272571772337, 0.0014936362858861685, 0.9141054153442383, 0.08065636456012726, 0.03133142739534378, 0.019280878826975822, 0.04579208791255951, 0.1108650490641594, 0.6386790871620178, 0.09158417582511902, 0.04579208791255951, 0.01446065865457058, 0.8880996704101562, 0.03337326645851135, 0.038935475051403046, 0.03708140552043915, 0.2650882303714752, 0.7069019675254822, 0.045135464519262314, 0.001611980958841741, 0.7189434766769409, 0.1499142199754715, 0.011283866129815578, 0.04191150516271591, 0.03062763810157776, 0.3251620829105377, 0.6687295436859131, 0.11337505280971527, 0.8812333345413208, 0.998125433921814, 0.3977707624435425, 0.06629512459039688, 0.5171020030975342, 0.19014504551887512, 0.7795946598052979, 0.9705118536949158, 0.9980760812759399, 0.09177516400814056, 0.21414203941822052, 0.07902861386537552, 0.1555079072713852, 0.4563264846801758, 0.005098619963973761, 0.7655945420265198, 0.03558782488107681, 0.08303826302289963, 0.0009125083452090621, 0.06113805994391441, 0.017337659373879433, 0.013687625527381897, 0.017337659373879433, 0.0009125083452090621, 0.004562541842460632, 0.3441849946975708, 0.13160014152526855, 0.14291419088840485, 0.005359281785786152, 0.039896875619888306, 0.32334333658218384, 0.004763806238770485, 0.007741184905171394, 0.17455624043941498, 0.8190715909004211, 0.11638308316469193, 0.8728731274604797, 0.9826787114143372, 0.5011396408081055, 0.17555072903633118, 0.01883070170879364, 0.030979540199041367, 0.013363723643124104, 0.25694796442985535, 0.002429767744615674, 0.9811717867851257, 0.035582609474658966, 0.6469565629959106, 0.16982609033584595, 0.021026087924838066, 0.04690435156226158, 0.017791304737329483, 0.04690435156226158, 0.014556522481143475, 0.06605592370033264, 0.2559666931629181, 0.6688162088394165, 0.00412849523127079, 0.10313466936349869, 0.8813325762748718, 0.009375878609716892, 0.8851610422134399, 0.07793871313333511, 0.03340230509638786, 0.9826635122299194, 0.9882310032844543, 0.9726119637489319, 0.9924253821372986, 0.9742057919502258, 0.33660879731178284, 0.10421324521303177, 0.08858125656843185, 0.04064316675066948, 0.429358571767807, 0.9853804707527161, 0.9936979413032532, 0.9520857334136963, 0.30174097418785095, 0.026624202728271484, 0.03549893945455551, 0.2573673129081726, 0.026624202728271484, 0.3461146354675293, 0.9884492754936218, 0.9195902943611145, 0.9809849262237549, 0.990866482257843, 0.5185878872871399, 0.11543609201908112, 0.0061216107569634914, 0.19851510226726532, 0.11718512326478958, 0.03323160111904144, 0.010494190268218517, 0.989380955696106, 0.9918058514595032, 0.4060375392436981, 0.5864986777305603, 0.2937461733818054, 0.691167414188385, 0.9946666359901428, 0.06627409160137177, 0.9278373122215271, 0.43584421277046204, 0.06392382085323334, 0.1867903769016266, 0.11041386425495148, 0.047320228070020676, 0.01826394721865654, 0.00913197360932827, 0.12286655604839325, 0.004150897264480591, 0.8829538822174072, 0.019306572154164314, 0.010296838358044624, 0.00900973379611969, 0.043761562556028366, 0.03346472606062889, 0.001287104794755578, 0.9954812526702881, 0.9810943603515625, 0.9839748740196228, 0.9774946570396423, 0.04745686426758766, 0.9254088401794434, 0.0954911932349205, 0.8990146517753601, 0.002329053357243538, 0.9934355616569519, 0.11800780892372131, 0.7654560804367065, 0.03508340194821358, 0.08292440325021744, 0.9785935282707214, 0.9923388957977295, 0.25739797949790955, 0.7310103178024292, 0.11061066389083862, 0.8480151295661926, 0.03890817612409592, 0.05686579644680023, 0.24542081356048584, 0.646474301815033, 0.008978810161352158, 0.9600540399551392, 0.9960553050041199, 0.9784253239631653, 0.14308591187000275, 0.05071399360895157, 0.4854053854942322, 0.00543364230543375, 0.00543364230543375, 0.04528035223484039, 0.25538119673728943, 0.00543364230543375, 0.25464606285095215, 0.21546974778175354, 0.5288802981376648, 0.9769778251647949, 0.020143872126936913, 0.991051435470581, 0.9649176597595215, 0.057610221207141876, 0.0072012776508927345, 0.13682428002357483, 0.05280936881899834, 0.02640468440949917, 0.07681363075971603, 0.014402555301785469, 0.05280936881899834, 0.120021291077137, 0.4488796293735504, 0.004800851922482252, 0.9885122179985046, 0.9583650827407837, 0.06726453453302383, 0.013452907092869282, 0.9147977232933044, 0.4294103980064392, 0.5550915002822876, 0.9895409941673279, 0.9905616044998169, 0.5255519151687622, 0.26509228348731995, 0.013383300043642521, 0.03397299349308014, 0.02110443450510502, 0.033458251506090164, 0.01904546655714512, 0.05095949023962021, 0.029340311884880066, 0.0030884540174156427, 0.004632680676877499, 0.8054120540618896, 0.020919792354106903, 0.014643855392932892, 0.09623105078935623, 0.033471670001745224, 0.027195731177926064, 0.9948838949203491, 0.9898763298988342, 0.0032792002893984318, 0.06230480596423149, 0.026233602315187454, 0.02295440249145031, 0.6066520810127258, 0.20003122091293335, 0.0557464063167572, 0.019675202667713165, 0.9354541897773743, 0.0642678439617157, 0.9860106706619263, 0.9715148210525513, 0.236970916390419, 0.007769538089632988, 0.18258415162563324, 0.4506332278251648, 0.11654306948184967, 0.9933665990829468, 0.07732827961444855, 0.015998953953385353, 0.1306581348180771, 0.01866544783115387, 0.7572838664054871, 0.08630797266960144, 0.3428344428539276, 0.09110285341739655, 0.06952586024999619, 0.4075654149055481, 0.09738142788410187, 0.9007781744003296, 0.08076569437980652, 0.8494323492050171, 0.06684057414531708, 0.03466744348406792, 0.9591326117515564, 0.9912567734718323, 0.3305202126502991, 0.09996221214532852, 0.07900239527225494, 0.14618130028247833, 0.32890793681144714, 0.012360918335616589, 0.003762018634006381, 0.9777686595916748, 0.019464148208498955, 0.9120343923568726, 0.06673422455787659, 0.9795916080474854, 0.9704707860946655, 0.9881360530853271, 0.9940670132637024, 0.9950933456420898, 0.3026236295700073, 0.15060804784297943, 0.17594397068023682, 0.07882290333509445, 0.2885481119155884, 0.0014075518120080233, 0.9823503494262695, 0.12027698755264282, 0.06765580922365189, 0.8118696808815002, 0.3935094475746155, 0.5085352659225464, 0.09686386585235596, 0.09835616499185562, 0.03147397190332413, 0.34227946400642395, 0.32260823249816895, 0.20458082854747772, 0.9881601333618164, 0.9960904717445374, 0.9915077090263367, 0.12919040024280548, 0.8182058930397034, 0.9842035174369812, 0.9900264739990234, 0.9770445227622986, 0.9981061220169067, 0.9740900993347168, 0.9604940414428711, 0.9975061416625977, 0.31335195899009705, 0.19365540146827698, 0.047683991491794586, 0.051576562225818634, 0.00486571341753006, 0.007785141468048096, 0.03308685123920441, 0.016543425619602203, 0.20727939903736115, 0.03405999392271042, 0.047683991491794586, 0.006811998784542084, 0.03016742318868637, 0.005838856101036072, 0.033631179481744766, 0.043720535933971405, 0.24887074530124664, 0.6692605018615723, 0.8022373914718628, 0.09256584942340851, 0.09873691201210022, 0.03630097582936287, 0.1665574163198471, 0.1836402267217636, 0.008541406132280827, 0.040571678429841995, 0.5658681392669678, 0.019010908901691437, 0.958149790763855, 0.019010908901691437, 0.0397912971675396, 0.0036173907574266195, 0.061495643109083176, 0.844660758972168, 0.048834774643182755, 0.968816339969635, 0.9729000926017761, 0.9681380987167358, 0.05689839646220207, 0.7261319160461426, 0.016256684437394142, 0.05147949978709221, 0.029803920537233353, 0.05147949978709221, 0.0677361860871315, 0.12202225625514984, 0.06101112812757492, 0.023873919621109962, 0.5650160908699036, 0.13528554141521454, 0.0026526576839387417, 0.018568603321909904, 0.06896910071372986, 0.0026526576839387417, 0.02524559199810028, 0.03786838799715042, 0.9025299549102783, 0.03155698999762535, 0.981946587562561, 0.9879342317581177, 0.9842637777328491, 0.9121420383453369, 0.02510482631623745, 0.0502096526324749, 0.9861774444580078, 0.9989665746688843, 0.9945029020309448, 0.9555803537368774, 0.9773510098457336, 0.9938620924949646, 0.9391049742698669, 0.006599515676498413, 0.9437307119369507, 0.00989927351474762, 0.023098304867744446, 0.016498789191246033, 0.9873835444450378, 0.989224910736084, 0.9951065182685852, 0.9839637875556946, 0.9923830628395081, 0.5585035085678101, 0.162046417593956, 0.05319080874323845, 0.022265920415520668, 0.019173430278897285, 0.041439350694417953, 0.07050874829292297, 0.0018554932903498411, 0.01669944077730179, 0.032161884009838104, 0.005566480103880167, 0.014843946322798729, 0.0012369955657050014, 0.9905726909637451, 0.12110895663499832, 0.3027724027633667, 0.15327852964401245, 0.3803578019142151, 0.034061893820762634, 0.007569309789687395, 0.9816778302192688, 0.01842399127781391, 0.36847984790802, 0.5895677208900452, 0.9667009711265564, 0.15380270779132843, 0.8399993777275085, 0.9936379194259644, 0.9554243683815002, 0.02582228183746338, 0.048221491277217865, 0.08679868280887604, 0.5207920670509338, 0.2169966995716095, 0.1253758817911148, 0.9930526614189148, 0.9419843554496765, 0.854281485080719, 0.06392582505941391, 0.005811438430100679, 0.052302949130535126, 0.017434315755963326, 0.8111851215362549, 0.1714550405740738, 0.016592422500252724, 0.9940692186355591, 0.9753035306930542, 0.0735866129398346, 0.4022734761238098, 0.5200120210647583, 0.7467668652534485, 0.014781608246266842, 0.02601563185453415, 0.05380505695939064, 0.0005912643391638994, 0.06030896306037903, 0.08750712126493454, 0.010642758570611477, 0.37168219685554504, 0.06489688903093338, 0.04719773679971695, 0.03244844451546669, 0.15339264273643494, 0.038348160684108734, 0.0737464651465416, 0.22123940289020538, 0.2966049909591675, 0.04412305727601051, 0.11275891959667206, 0.5441843867301941, 0.016209060326218605, 0.028365854173898697, 0.4889732897281647, 0.04187340289354324, 0.087799072265625, 0.02296283468604088, 0.004052265081554651, 0.12156794965267181, 0.0013507549883797765, 0.1742473840713501, 0.012156794779002666, 0.15943902730941772, 0.6565136313438416, 0.15474964678287506, 0.023446915671229362, 0.09583019465208054, 0.8876901865005493, 0.004323166329413652, 0.004323166329413652, 0.007205277681350708, 0.9882782697677612, 0.04270715266466141, 0.07787775248289108, 0.10299960523843765, 0.23614543676376343, 0.09295085817575455, 0.0653168186545372, 0.01256092730909586, 0.060292452573776245, 0.010048741474747658, 0.2738282084465027, 0.022609669715166092, 0.13336478173732758, 0.020957322791218758, 0.4115256071090698, 0.31054940819740295, 0.02286253310739994, 0.10097619146108627, 0.9552236199378967, 0.9124770164489746, 0.031036633998155594, 0.04965861514210701, 0.930279552936554, 0.052482105791568756, 0.9446778893470764, 0.9906710982322693, 0.9506222009658813, 0.9168246388435364, 0.18407157063484192, 0.7976434826850891, 0.32108765840530396, 0.037287600338459015, 0.05385986343026161, 0.002071533352136612, 0.07871826738119125, 0.4826672375202179, 0.022786865010857582, 0.06631892174482346, 0.5336601138114929, 0.05802905932068825, 0.09222475439310074, 0.022797130048274994, 0.11813057959079742, 0.035231929272413254, 0.07253631949424744, 0.002072466304525733, 0.017272623255848885, 0.48363345861434937, 0.2198333889245987, 0.006280953995883465, 0.2308250516653061, 0.042396437376737595, 0.752647340297699, 0.14354614913463593, 0.10087026655673981, 0.9823752045631409, 0.9849886298179626, 0.6500356197357178, 0.057632021605968475, 0.03216671198606491, 0.0013402795884758234, 0.01675349473953247, 0.07170496135950089, 0.040878526866436005, 0.0060312580317258835, 0.010722236707806587, 0.08510775119066238, 0.026135452091693878, 0.0013402795884758234, 0.9705947041511536, 0.14767037332057953, 0.849104642868042, 0.07583025842905045, 0.01895756460726261, 0.2843634784221649, 0.21232473850250244, 0.20095019042491913, 0.20095019042491913, 0.8801637291908264, 0.96051424741745, 0.03798643872141838, 0.10113341361284256, 0.1528760939836502, 0.48097169399261475, 0.0035279097501188517, 0.0729101374745369, 0.05644655600190163, 0.028223278000950813, 0.010583729483187199, 0.00940775964409113, 0.022343428805470467, 0.05644655600190163, 0.0035279097501188517, 0.9763496518135071, 0.9830392599105835, 0.9890210628509521, 0.9590007066726685, 0.9880492687225342, 0.11710003018379211, 0.788173258304596, 0.07206155359745026, 0.02251923643052578, 0.7412397861480713, 0.044300347566604614, 0.041136037558317184, 0.030852029100060463, 0.058539748191833496, 0.0134483203291893, 0.015030475333333015, 0.055375438183546066, 0.9864627122879028, 0.9851545691490173, 0.9937435388565063, 0.9739488363265991, 0.9788883924484253, 0.034744877368211746, 0.10851825028657913, 0.2646322250366211, 0.089479960501194, 0.012850845232605934, 0.046167854219675064, 0.19181077182292938, 0.17658013105392456, 0.07091762870550156, 0.003807657863944769, 0.7221627235412598, 0.11778964847326279, 0.019631607457995415, 0.009815803728997707, 0.03155079856514931, 0.022436123341321945, 0.005609030835330486, 0.06800949573516846, 0.002804515417665243, 0.1720406413078308, 0.1751127988100052, 0.15360771119594574, 0.02457723394036293, 0.47311174869537354, 0.9747849106788635, 0.9747592806816101, 0.06192295253276825, 0.9373435378074646, 0.9957133531570435, 0.1345202773809433, 0.44199517369270325, 0.4035608172416687, 0.0419066846370697, 0.3657310903072357, 0.0038096988573670387, 0.04000183567404747, 0.5104996562004089, 0.036192137748003006, 0.06679544597864151, 0.8683408498764038, 0.9933263063430786, 0.9863707423210144, 0.17854587733745575, 0.8162097334861755, 0.9327360391616821, 0.9933592081069946, 0.05871293693780899, 0.08298095315694809, 0.8399864435195923, 0.004697035066783428, 0.003131356555968523, 0.003914195578545332, 0.006262713111937046, 0.9875723123550415, 0.9730574488639832, 0.9343747496604919, 0.878757119178772, 0.01883723773062229, 0.024488408118486404, 0.033907026052474976, 0.0348488911986351, 0.0028255856595933437, 0.0056511713191866875, 0.6981936097145081, 0.03197833150625229, 0.03959222137928009, 0.15608471632003784, 0.009136666543781757, 0.023603055626153946, 0.04111500084400177, 0.9070811867713928, 0.02067861147224903, 0.04351767525076866, 0.003703631926327944, 0.017283616587519646, 0.007715899962931871, 0.09130605310201645, 0.13377398252487183, 0.01911056973040104, 0.04883812367916107, 0.04671472683548927, 0.027604157105088234, 0.3758412003517151, 0.044591329991817474, 0.12952719628810883, 0.05308491736650467, 0.00849358644336462, 0.023357363417744637, 0.7341537475585938, 0.027190880849957466, 0.060656581073999405, 0.05856497213244438, 0.03869471326470375, 0.02405347116291523, 0.04810694232583046, 0.009412228129804134, 0.992326557636261, 0.19889263808727264, 0.04138806462287903, 0.059782758355140686, 0.1655522584915161, 0.0402383953332901, 0.11381717771291733, 0.028741711750626564, 0.1046198308467865, 0.036789391189813614, 0.1850966215133667, 0.02529270574450493, 0.9496086835861206, 0.14521510899066925, 0.2904302179813385, 0.5485904216766357, 0.6471404433250427, 0.055129099637269974, 0.07267017662525177, 0.04072035849094391, 0.027564549818634987, 0.029443951323628426, 0.02693808265030384, 0.010649939998984337, 0.008144071325659752, 0.01096317358314991, 0.047298260033130646, 0.005011736415326595, 0.018167544156312943, 0.9819285869598389, 0.9927335381507874, 0.052059900015592575, 0.06594254076480865, 0.8329584002494812, 0.04164791852235794, 0.9928079843521118, 0.3513409197330475, 0.06646990031003952, 0.034817568957805634, 0.08546130359172821, 0.3576713800430298, 0.10287008434534073, 0.4522540867328644, 0.014588841237127781, 0.02107277140021324, 0.04376652464270592, 0.050250452011823654, 0.40362462401390076, 0.012967859394848347, 0.33163243532180786, 0.059002090245485306, 0.018310992047190666, 0.016276437789201736, 0.028483767062425613, 0.08341674506664276, 0.4496366083621979, 0.016276437789201736, 0.9960930347442627, 0.07126720249652863, 0.9264736771583557, 0.978840172290802, 0.9901298880577087, 0.9693472981452942, 0.07084914296865463, 0.2942964434623718, 0.626742422580719, 0.9280110597610474, 0.03506859391927719, 0.3306467533111572, 0.07013718783855438, 0.11522538214921951, 0.05510779097676277, 0.39577415585517883, 0.01461807731539011, 0.5116327404975891, 0.46046945452690125, 0.9762114882469177, 0.9417087435722351, 0.005777354352176189, 0.046218834817409515, 0.358441025018692, 0.11134134978055954, 0.03320707008242607, 0.3467208743095398, 0.043950531631708145, 0.010743463411927223, 0.04297385364770889, 0.05274064093828201, 0.09146729856729507, 0.11204744130373001, 0.7706120014190674, 0.0251535065472126, 0.9974430799484253, 0.9986066222190857, 0.9979703426361084, 0.9754374623298645, 0.9564176201820374, 0.9701977968215942, 0.08158612251281738, 0.05874200910329819, 0.3883499503135681, 0.23823148012161255, 0.03589789569377899, 0.19580669701099396, 0.2637140154838562, 0.3239915072917938, 0.39180371165275574, 0.02260405942797661, 0.15381981432437897, 0.8400927782058716, 0.11207795143127441, 0.15863341093063354, 0.17932473123073578, 0.0017242762260138988, 0.546595573425293, 0.9506871104240417, 0.0472717359662056, 0.9746037125587463, 0.15837886929512024, 0.8278895020484924, 0.014398078434169292, 0.9768924713134766, 0.9777159690856934, 0.14427118003368378, 0.1554436832666397, 0.18507514894008636, 0.019916223362088203, 0.04566158354282379, 0.20061951875686646, 0.12192614376544952, 0.11706852912902832, 0.00048576152767054737, 0.003886092221364379, 0.006314899772405624, 0.8756181001663208, 0.12372864037752151, 0.08601804077625275, 0.11238853633403778, 0.43888038396835327, 0.033904921263456345, 0.053996726870536804, 0.1814541220664978, 0.08350656926631927, 0.0025114757008850574, 0.00690655829384923, 0.9942688345909119, 0.9932454824447632, 0.9891371130943298, 0.008087375201284885, 0.8249123096466064, 0.003032765816897154, 0.03538226708769798, 0.10412496328353882, 0.006065531633794308, 0.013141985051333904, 0.006065531633794308, 0.9917506575584412, 0.9193819165229797, 0.49488040804862976, 0.10418535023927689, 0.08682112395763397, 0.31255602836608887, 0.9795821905136108, 0.048782020807266235, 0.89292311668396, 0.004241914954036474, 0.02545149065554142, 0.016967659816145897, 0.01060478761792183, 0.9915116429328918, 0.9961628317832947, 0.9898527264595032, 0.9603859186172485, 0.014904101379215717, 0.39868471026420593, 0.12668485939502716, 0.12668485939502716, 0.07452050596475601, 0.04843832924962044, 0.2086574137210846, 0.961850643157959, 0.026733897626399994, 0.935686469078064, 0.9818016886711121, 0.29212406277656555, 0.6937946081161499, 0.9639742374420166, 0.9297862648963928, 0.9618856310844421, 0.6582220196723938, 0.0503876656293869, 0.09759294986724854, 0.0015911894151940942, 0.045083701610565186, 0.11085285991430283, 0.03553656488656998, 0.10210001468658447, 0.7044901251792908, 0.1837800294160843, 0.028851518407464027, 0.4279642105102539, 0.22600357234477997, 0.19474776089191437, 0.12021466344594955, 0.0942726582288742, 0.01508362591266632, 0.03016725182533264, 0.04525087773799896, 0.19608713686466217, 0.10181447118520737, 0.02639634534716606, 0.48644691705703735, 0.9592326879501343, 0.03676501661539078, 0.9889211058616638, 0.9840258359909058, 0.654909074306488, 0.14645329117774963, 0.049193285405635834, 0.008261467330157757, 0.00488177640363574, 0.042433902621269226, 0.0251599233597517, 0.00976355280727148, 0.01164115872234106, 0.0469401590526104, 0.17364704608917236, 0.0016858936287462711, 0.010115361772477627, 0.013487149029970169, 0.008429468609392643, 0.11801255494356155, 0.6743574738502502, 0.9811718463897705, 0.012419896200299263, 0.9556984901428223, 0.9970870018005371, 0.993435800075531, 0.11502134054899216, 0.2355198860168457, 0.6408331990242004, 0.9601379632949829, 0.9347034096717834, 0.01009883638471365, 0.05161627382040024, 0.0022441858891397715, 0.5651172399520874, 0.42516183853149414, 0.009834703989326954, 0.06564377248287201, 0.929953396320343, 0.9939714074134827, 0.9714924693107605, 0.022488251328468323, 0.9085962772369385, 0.9861604571342468, 0.9890623092651367, 0.9928916692733765, 0.36542809009552, 0.28529033064842224, 0.12982313334941864, 0.06571294367313385, 0.05449366196990013, 0.043274376541376114, 0.031253717839717865, 0.001602754695340991, 0.004808264318853617, 0.007212396245449781, 0.009616528637707233, 0.9864327311515808, 0.9812344908714294, 0.1831832081079483, 0.1542595475912094, 0.6459618210792542, 0.009641221724450588, 0.5237130522727966, 0.41167494654655457, 0.06253290176391602, 0.9010671973228455, 0.02171246148645878, 0.07056549936532974, 0.1192365363240242, 0.09910569339990616, 0.13627032935619354, 0.027873476967215538, 0.5048196315765381, 0.030970528721809387, 0.038713160902261734, 0.029422003775835037, 0.013936738483607769, 0.5061858296394348, 0.013604097999632359, 0.15758079290390015, 0.00850256159901619, 0.006802048999816179, 0.08445877581834793, 0.17231857776641846, 0.01983930915594101, 0.016438284888863564, 0.005668374244123697, 0.00906939897686243, 0.28943759202957153, 0.0679549127817154, 0.04782012477517128, 0.05285382270812988, 0.2005089372396469, 0.014262142591178417, 0.27014175057411194, 0.009228444658219814, 0.04698117449879646, 0.9869393110275269, 0.6737391352653503, 0.1325010061264038, 0.002154487883672118, 0.003693407867103815, 0.023237690329551697, 0.0035395158920437098, 0.11511120945215225, 0.0007694599335081875, 0.017389794811606407, 0.009387411177158356, 0.016004767268896103, 0.002462271833792329, 0.9783490300178528, 0.9663615822792053, 0.9496355652809143, 0.220734104514122, 0.07357802987098694, 0.42985060811042786, 0.017426375299692154, 0.0058087920770049095, 0.019362639635801315, 0.001936263986863196, 0.003872527973726392, 0.21492530405521393, 0.011617584154009819, 0.9423179030418396, 0.9800180196762085, 0.9958410859107971, 0.9611030220985413, 0.9935245513916016, 0.9866500496864319, 0.9805956482887268, 0.01508608739823103, 0.2556530833244324, 0.056604452431201935, 0.1635930985212326, 0.03980972617864609, 0.013684593141078949, 0.35579943656921387, 0.11445296555757523, 0.4702407717704773, 0.17733655869960785, 0.11955273896455765, 0.0577838234603405, 0.09829891473054886, 0.028559820726513863, 0.005313455127179623, 0.035865820944309235, 0.007306000683456659, 0.9703797698020935, 0.9912236332893372, 0.9738757610321045, 0.9877077341079712], \"Term\": [\"accelerators\", \"access\", \"access\", \"access\", \"access\", \"access\", \"access\", \"accusing\", \"actually\", \"actually\", \"actually\", \"actually\", \"actually\", \"actually\", \"acute\", \"adam\", \"adam\", \"adam\", \"adaptec\", \"adapters\", \"administration\", \"administration\", \"administration\", \"administration\", \"adults\", \"advance\", \"advance\", \"advance\", \"advance\", \"adventures\", \"advisor\", \"aerospace\", \"agencies\", \"agencies\", \"agencies\", \"agents\", \"agents\", \"agents\", \"agents\", \"aids\", \"aids\", \"aids\", \"alan\", \"algorithm\", \"algorithm\", \"allocated\", \"also\", \"also\", \"also\", \"also\", \"also\", \"also\", \"also\", \"also\", \"also\", \"also\", \"also\", \"also\", \"also\", \"aluminum\", \"amendment\", \"american\", \"american\", \"american\", \"american\", \"american\", \"american\", \"among\", \"among\", \"among\", \"among\", \"among\", \"among\", \"among\", \"among\", \"amongst\", \"ankara\", \"annual\", \"annual\", \"annual\", \"anonymous\", \"anonymous\", \"anonymous\", \"anti\", \"anti\", \"anti\", \"anti\", \"anyone\", \"anyone\", \"anyone\", \"anyone\", \"anyone\", \"anyone\", \"anyway\", \"anyway\", \"anyway\", \"anyway\", \"anyway\", \"anyway\", \"apartment\", \"apartments\", \"apology\", \"apostles\", \"appears\", \"appears\", \"appears\", \"appears\", \"appears\", \"appears\", \"appears\", \"apple\", \"apple\", \"apple\", \"appletalk\", \"application\", \"application\", \"application\", \"appreciated\", \"appreciated\", \"appreciated\", \"april\", \"april\", \"april\", \"april\", \"april\", \"april\", \"arab\", \"arabs\", \"argic\", \"armenia\", \"armenia\", \"armenian\", \"armenian\", \"armenians\", \"armenians\", \"asking\", \"asking\", \"asking\", \"asking\", \"asking\", \"asking\", \"asking\", \"asking\", \"asking\", \"astro\", \"astronomy\", \"astros\", \"atheism\", \"atheist\", \"atheists\", \"atmosphere\", \"aunt\", \"auth\", \"authentication\", \"author\", \"author\", \"author\", \"author\", \"author\", \"author\", \"autos\", \"available\", \"available\", \"available\", \"available\", \"available\", \"available\", \"available\", \"available\", \"available\", \"avenue\", \"avenue\", \"award\", \"award\", \"azerbaijan\", \"azerbaijani\", \"azerbaijanis\", \"azeri\", \"back\", \"back\", \"back\", \"back\", \"back\", \"back\", \"back\", \"back\", \"back\", \"back\", \"back\", \"back\", \"backup\", \"backup\", \"backup\", \"bagged\", \"baku\", \"balcony\", \"ball\", \"balloon\", \"balls\", \"banks\", \"banks\", \"barbara\", \"baseball\", \"based\", \"based\", \"based\", \"based\", \"based\", \"based\", \"based\", \"based\", \"based\", \"based\", \"batf\", \"batman\", \"battery\", \"beaten\", \"belief\", \"beliefs\", \"beliefs\", \"believe\", \"believe\", \"believe\", \"believe\", \"believe\", \"believer\", \"best\", \"best\", \"best\", \"best\", \"best\", \"best\", \"best\", \"best\", \"bethesda\", \"better\", \"better\", \"better\", \"better\", \"better\", \"better\", \"bible\", \"biblical\", \"bike\", \"bikes\", \"bill\", \"bill\", \"bill\", \"bill\", \"bill\", \"bill\", \"billion\", \"billion\", \"binaries\", \"bios\", \"bios\", \"bishop\", \"blaster\", \"blood\", \"blood\", \"blood\", \"blood\", \"blood\", \"blood\", \"bloody\", \"board\", \"board\", \"board\", \"board\", \"board\", \"board\", \"board\", \"board\", \"bone\", \"book\", \"book\", \"book\", \"book\", \"book\", \"book\", \"book\", \"book\", \"book\", \"book\", \"boot\", \"borders\", \"borders\", \"boston\", \"boston\", \"boston\", \"bother\", \"bounced\", \"bout\", \"brain\", \"brain\", \"brain\", \"brake\", \"braves\", \"breaker\", \"briefing\", \"british\", \"british\", \"british\", \"british\", \"bronx\", \"buggy\", \"build\", \"build\", \"build\", \"build\", \"build\", \"build\", \"build\", \"building\", \"building\", \"building\", \"building\", \"building\", \"building\", \"bure\", \"burned\", \"burned\", \"burned\", \"buyer\", \"cabinet\", \"cable\", \"cable\", \"cable\", \"cables\", \"cadre\", \"calgary\", \"came\", \"came\", \"came\", \"came\", \"came\", \"came\", \"came\", \"came\", \"campbell\", \"campus\", \"campus\", \"cancer\", \"candida\", \"cannot\", \"cannot\", \"cannot\", \"cannot\", \"cannot\", \"cannot\", \"cannot\", \"cannot\", \"capitalist\", \"card\", \"card\", \"card\", \"cards\", \"cards\", \"cards\", \"cares\", \"carolina\", \"cars\", \"cars\", \"cars\", \"case\", \"case\", \"case\", \"case\", \"case\", \"case\", \"case\", \"case\", \"cases\", \"cases\", \"cases\", \"cases\", \"cases\", \"cases\", \"cassette\", \"catcher\", \"catholic\", \"cells\", \"cells\", \"cellular\", \"center\", \"center\", \"center\", \"center\", \"center\", \"center\", \"center\", \"center\", \"centris\", \"char\", \"chastity\", \"check\", \"check\", \"check\", \"check\", \"check\", \"check\", \"chest\", \"chest\", \"chest\", \"chicago\", \"chicago\", \"child\", \"child\", \"child\", \"child\", \"child\", \"children\", \"children\", \"children\", \"children\", \"chip\", \"chip\", \"chip\", \"chip\", \"chipset\", \"christ\", \"christian\", \"christian\", \"christian\", \"christian\", \"christianity\", \"christians\", \"chronic\", \"church\", \"church\", \"cincinnati\", \"cipher\", \"ciphertext\", \"circuit\", \"circuits\", \"circuits\", \"civil\", \"civil\", \"civil\", \"civilians\", \"civilians\", \"classified\", \"classified\", \"cleaning\", \"cleaning\", \"clever\", \"client\", \"clients\", \"clinical\", \"clip\", \"clip\", \"clipper\", \"clone\", \"clone\", \"coach\", \"coat\", \"code\", \"code\", \"code\", \"code\", \"code\", \"code\", \"code\", \"code\", \"coding\", \"coil\", \"college\", \"college\", \"college\", \"college\", \"college\", \"college\", \"color\", \"color\", \"color\", \"color\", \"colorado\", \"colorado\", \"colorado\", \"colorado\", \"colorado\", \"colorado\", \"colorado\", \"colorado\", \"column\", \"column\", \"combat\", \"come\", \"come\", \"come\", \"come\", \"come\", \"come\", \"come\", \"come\", \"come\", \"come\", \"comfortable\", \"comic\", \"comics\", \"comm\", \"communications\", \"communications\", \"communications\", \"communications\", \"comp\", \"comp\", \"compact\", \"compact\", \"compass\", \"compensate\", \"composite\", \"compound\", \"computer\", \"computer\", \"computer\", \"computer\", \"computer\", \"computer\", \"condition\", \"condition\", \"condition\", \"condition\", \"conductor\", \"conductors\", \"conference\", \"conference\", \"conference\", \"conference\", \"conference\", \"confess\", \"conflict\", \"conflict\", \"conflict\", \"conflict\", \"connector\", \"connector\", \"conner\", \"connor\", \"consortium\", \"constitution\", \"constitutional\", \"contact\", \"contact\", \"contact\", \"contact\", \"contact\", \"contact\", \"contact\", \"contact\", \"contact\", \"contact\", \"contest\", \"contracts\", \"contrib\", \"control\", \"control\", \"control\", \"control\", \"control\", \"control\", \"control\", \"control\", \"controller\", \"controller\", \"controllers\", \"cooling\", \"cooling\", \"copies\", \"copies\", \"copies\", \"copies\", \"copper\", \"coprocessor\", \"copy\", \"copy\", \"copy\", \"copy\", \"copy\", \"copy\", \"copy\", \"copy\", \"corn\", \"corpses\", \"cost\", \"cost\", \"cost\", \"cost\", \"cost\", \"cost\", \"cost\", \"could\", \"could\", \"could\", \"could\", \"could\", \"could\", \"could\", \"could\", \"could\", \"could\", \"could\", \"country\", \"country\", \"country\", \"country\", \"country\", \"course\", \"course\", \"course\", \"course\", \"course\", \"course\", \"course\", \"course\", \"course\", \"course\", \"course\", \"court\", \"court\", \"courtyard\", \"cover\", \"cover\", \"cover\", \"cover\", \"cover\", \"cover\", \"cover\", \"cover\", \"crashes\", \"creed\", \"creed\", \"crew\", \"crew\", \"crime\", \"crime\", \"crimes\", \"criminal\", \"criminal\", \"crowd\", \"crowd\", \"crowd\", \"crowd\", \"crowley\", \"crypt\", \"cryptanalysis\", \"crypto\", \"cryptographic\", \"cryptographic\", \"cryptography\", \"cryptology\", \"cryptosystem\", \"cryptosystems\", \"ctrl\", \"cubs\", \"cure\", \"curious\", \"curious\", \"curious\", \"current\", \"current\", \"current\", \"current\", \"current\", \"current\", \"current\", \"current\", \"current\", \"current\", \"current\", \"cylinders\", \"cyprus\", \"data\", \"data\", \"data\", \"data\", \"date\", \"date\", \"date\", \"date\", \"date\", \"date\", \"date\", \"date\", \"daughter\", \"daughter\", \"dead\", \"dead\", \"dead\", \"dead\", \"dead\", \"dead\", \"dead\", \"deaf\", \"dean\", \"dean\", \"deaths\", \"deciding\", \"decrypt\", \"decryption\", \"deeds\", \"defensive\", \"define\", \"define\", \"define\", \"define\", \"denning\", \"denver\", \"denver\", \"department\", \"department\", \"department\", \"department\", \"department\", \"department\", \"department\", \"department\", \"department\", \"dept\", \"dept\", \"dept\", \"deskjet\", \"detectors\", \"detroit\", \"development\", \"development\", \"development\", \"development\", \"devices\", \"devices\", \"devices\", \"devices\", \"devices\", \"devices\", \"diagnosis\", \"diamond\", \"diet\", \"diet\", \"directory\", \"directory\", \"disciples\", \"disease\", \"disease\", \"diseases\", \"diseases\", \"disk\", \"disk\", \"disks\", \"disks\", \"disks\", \"disorder\", \"display\", \"display\", \"display\", \"division\", \"division\", \"division\", \"division\", \"doctor\", \"doctor\", \"doctor\", \"doctrine\", \"documentary\", \"documentary\", \"documentary\", \"dodgers\", \"dogs\", \"door\", \"door\", \"door\", \"door\", \"dose\", \"double\", \"double\", \"double\", \"double\", \"double\", \"double\", \"double\", \"double\", \"double\", \"dragon\", \"dragon\", \"dram\", \"dreams\", \"drive\", \"drive\", \"driver\", \"driver\", \"driver\", \"driver\", \"driver\", \"drivers\", \"drivers\", \"drivers\", \"drivers\", \"drives\", \"drug\", \"drug\", \"drugs\", \"drugs\", \"duke\", \"earth\", \"earth\", \"earth\", \"easter\", \"echo\", \"echo\", \"echo\", \"eggs\", \"eisa\", \"electric\", \"electric\", \"electronics\", \"electronics\", \"email\", \"email\", \"email\", \"email\", \"email\", \"email\", \"email\", \"email\", \"empire\", \"encrypt\", \"encrypted\", \"encryption\", \"ending\", \"energy\", \"energy\", \"energy\", \"energy\", \"enforcement\", \"enforcement\", \"enforcement\", \"enforcement\", \"engine\", \"engine\", \"enough\", \"enough\", \"enough\", \"enough\", \"enough\", \"enough\", \"enter\", \"enter\", \"enter\", \"enter\", \"enter\", \"enter\", \"entries\", \"entry\", \"entry\", \"escrow\", \"escrowed\", \"esdi\", \"espn\", \"eternal\", \"ethernet\", \"europe\", \"europe\", \"europe\", \"europe\", \"even\", \"even\", \"even\", \"even\", \"even\", \"even\", \"even\", \"even\", \"even\", \"evidence\", \"evidence\", \"evidence\", \"excellent\", \"excellent\", \"excellent\", \"excellent\", \"excellent\", \"excellent\", \"excellent\", \"execution\", \"exhaust\", \"exist\", \"exist\", \"exist\", \"exist\", \"exist\", \"exist\", \"exist\", \"existence\", \"existence\", \"existence\", \"existence\", \"exit\", \"export\", \"export\", \"export\", \"expos\", \"extraordinary\", \"fact\", \"fact\", \"fact\", \"fact\", \"fact\", \"fact\", \"fact\", \"fact\", \"fact\", \"faith\", \"fallacy\", \"fallacy\", \"fans\", \"fans\", \"fascist\", \"father\", \"father\", \"feature\", \"feature\", \"feature\", \"feature\", \"federalist\", \"file\", \"file\", \"file\", \"filename\", \"files\", \"files\", \"files\", \"files\", \"filters\", \"filters\", \"fire\", \"fire\", \"fire\", \"fire\", \"fire\", \"fire\", \"fire\", \"firearms\", \"firearms\", \"fires\", \"firms\", \"first\", \"first\", \"first\", \"first\", \"first\", \"first\", \"first\", \"first\", \"first\", \"first\", \"first\", \"first\", \"first\", \"first\", \"first\", \"flight\", \"flight\", \"floor\", \"floor\", \"floor\", \"floppy\", \"fluids\", \"flyers\", \"font\", \"fonts\", \"fool\", \"ford\", \"forged\", \"format\", \"format\", \"format\", \"formats\", \"forsale\", \"forty\", \"fossil\", \"franchise\", \"freeware\", \"front\", \"front\", \"front\", \"front\", \"front\", \"front\", \"funny\", \"funny\", \"fuse\", \"fusion\", \"fusion\", \"game\", \"game\", \"game\", \"games\", \"games\", \"garage\", \"garage\", \"gateway\", \"gateway\", \"gaza\", \"gear\", \"gear\", \"genetic\", \"genocide\", \"german\", \"germany\", \"germany\", \"getting\", \"getting\", \"getting\", \"getting\", \"getting\", \"ghost\", \"giants\", \"giants\", \"goal\", \"goal\", \"goal\", \"goal\", \"goal\", \"goal\", \"goal\", \"goaltender\", \"gods\", \"going\", \"going\", \"going\", \"going\", \"going\", \"going\", \"going\", \"good\", \"good\", \"good\", \"good\", \"good\", \"good\", \"good\", \"good\", \"good\", \"gordon\", \"gospel\", \"government\", \"government\", \"government\", \"government\", \"graphics\", \"graphics\", \"grass\", \"grass\", \"grass\", \"greatly\", \"greatly\", \"greatly\", \"greatly\", \"greatly\", \"greece\", \"greek\", \"greek\", \"green\", \"green\", \"green\", \"green\", \"green\", \"griffin\", \"ground\", \"ground\", \"ground\", \"ground\", \"ground\", \"guess\", \"guess\", \"guess\", \"guns\", \"hackers\", \"handgun\", \"handguns\", \"handler\", \"handler\", \"hanging\", \"hanging\", \"happened\", \"happened\", \"happened\", \"happened\", \"happened\", \"hard\", \"hard\", \"hard\", \"hard\", \"hard\", \"hard\", \"hard\", \"hartford\", \"hash\", \"health\", \"health\", \"health\", \"health\", \"health\", \"heaven\", \"heaven\", \"heck\", \"hell\", \"hell\", \"hell\", \"hell\", \"hell\", \"hellman\", \"hello\", \"hello\", \"helmet\", \"help\", \"help\", \"help\", \"help\", \"help\", \"help\", \"help\", \"help\", \"help\", \"hemisphere\", \"henrik\", \"hewlett\", \"hicnet\", \"high\", \"high\", \"high\", \"high\", \"high\", \"high\", \"high\", \"high\", \"high\", \"hint\", \"hint\", \"history\", \"history\", \"history\", \"history\", \"history\", \"hitler\", \"hitler\", \"hits\", \"hitter\", \"hitting\", \"hockey\", \"holocaust\", \"holy\", \"holy\", \"home\", \"home\", \"home\", \"home\", \"home\", \"home\", \"home\", \"home\", \"home\", \"homicide\", \"homosexual\", \"honda\", \"hong\", \"hoping\", \"hoping\", \"horizontal\", \"hotel\", \"house\", \"house\", \"house\", \"house\", \"house\", \"house\", \"house\", \"however\", \"however\", \"however\", \"however\", \"however\", \"however\", \"however\", \"however\", \"however\", \"however\", \"hudson\", \"hulk\", \"human\", \"human\", \"human\", \"human\", \"human\", \"icons\", \"idea\", \"idea\", \"idea\", \"idea\", \"idea\", \"idea\", \"ieee\", \"igor\", \"igor\", \"illness\", \"image\", \"image\", \"images\", \"images\", \"images\", \"implies\", \"impressed\", \"include\", \"include\", \"include\", \"include\", \"include\", \"include\", \"include\", \"include\", \"include\", \"include\", \"incremental\", \"infection\", \"infection\", \"infections\", \"inflammatory\", \"info\", \"info\", \"info\", \"info\", \"information\", \"information\", \"information\", \"information\", \"information\", \"information\", \"information\", \"information\", \"information\", \"ingr\", \"init\", \"inject\", \"inkjet\", \"inning\", \"innings\", \"institute\", \"institute\", \"institute\", \"institute\", \"institute\", \"insurance\", \"insurance\", \"insurance\", \"integration\", \"intellect\", \"interface\", \"interface\", \"interface\", \"interleave\", \"internal\", \"internal\", \"internal\", \"internal\", \"internal\", \"internal\", \"internal\", \"internet\", \"internet\", \"internet\", \"internet\", \"intrinsics\", \"invaded\", \"invalid\", \"investigated\", \"investigating\", \"islam\", \"islam\", \"islamic\", \"islamic\", \"islanders\", \"israel\", \"israeli\", \"israelis\", \"issue\", \"issue\", \"issue\", \"issue\", \"issue\", \"issue\", \"issue\", \"issue\", \"issue\", \"istanbul\", \"jays\", \"jersey\", \"jerusalem\", \"jesus\", \"jesus\", \"jewish\", \"jewish\", \"jewish\", \"jews\", \"jews\", \"jews\", \"jobs\", \"jobs\", \"john\", \"john\", \"john\", \"john\", \"john\", \"john\", \"john\", \"john\", \"john\", \"john\", \"john\", \"jordan\", \"joseph\", \"joseph\", \"journal\", \"journal\", \"journal\", \"journal\", \"journals\", \"jpeg\", \"judaism\", \"judas\", \"judged\", \"judges\", \"judges\", \"judging\", \"jumper\", \"jumpers\", \"june\", \"june\", \"june\", \"june\", \"june\", \"karabagh\", \"karabakh\", \"karina\", \"keenan\", \"keys\", \"keys\", \"keywords\", \"kidney\", \"killed\", \"killed\", \"killed\", \"killed\", \"kings\", \"kings\", \"know\", \"know\", \"know\", \"know\", \"know\", \"know\", \"know\", \"know\", \"know\", \"kong\", \"koresh\", \"kurds\", \"labeled\", \"lamp\", \"lamp\", \"land\", \"land\", \"land\", \"land\", \"laserjet\", \"laserwriter\", \"last\", \"last\", \"last\", \"last\", \"last\", \"last\", \"last\", \"last\", \"last\", \"last\", \"last\", \"last\", \"last\", \"later\", \"later\", \"later\", \"later\", \"later\", \"later\", \"later\", \"later\", \"later\", \"later\", \"later\", \"launch\", \"launched\", \"launched\", \"launches\", \"laws\", \"laws\", \"lawyer\", \"leafs\", \"league\", \"league\", \"league\", \"lebanese\", \"lebanon\", \"left\", \"left\", \"left\", \"left\", \"left\", \"left\", \"left\", \"left\", \"left\", \"left\", \"legally\", \"length\", \"length\", \"length\", \"length\", \"length\", \"length\", \"length\", \"lethal\", \"letting\", \"lewis\", \"lewis\", \"lewis\", \"lewis\", \"liar\", \"libraries\", \"life\", \"life\", \"life\", \"life\", \"life\", \"life\", \"like\", \"like\", \"like\", \"like\", \"like\", \"like\", \"like\", \"like\", \"like\", \"like\", \"line\", \"line\", \"line\", \"line\", \"line\", \"line\", \"line\", \"line\", \"line\", \"line\", \"line\", \"lipman\", \"list\", \"list\", \"list\", \"list\", \"list\", \"list\", \"list\", \"list\", \"list\", \"list\", \"list\", \"list\", \"list\", \"little\", \"little\", \"little\", \"little\", \"little\", \"little\", \"little\", \"little\", \"little\", \"little\", \"look\", \"look\", \"look\", \"look\", \"look\", \"look\", \"look\", \"look\", \"looking\", \"looking\", \"looking\", \"looking\", \"looking\", \"looking\", \"looking\", \"lopez\", \"lord\", \"lord\", \"losses\", \"louis\", \"louis\", \"love\", \"love\", \"love\", \"love\", \"love\", \"luke\", \"lunar\", \"lyuda\", \"madison\", \"madison\", \"mail\", \"mail\", \"mail\", \"mail\", \"mail\", \"mail\", \"mail\", \"mailbox\", \"maine\", \"make\", \"make\", \"make\", \"make\", \"make\", \"make\", \"make\", \"make\", \"make\", \"make\", \"mamma\", \"manhattan\", \"many\", \"many\", \"many\", \"many\", \"many\", \"many\", \"many\", \"many\", \"many\", \"many\", \"many\", \"marc\", \"marc\", \"marc\", \"marc\", \"marijuana\", \"marina\", \"mars\", \"massachusetts\", \"massacres\", \"master\", \"master\", \"master\", \"master\", \"matthew\", \"matthew\", \"maybe\", \"maybe\", \"maybe\", \"maybe\", \"medical\", \"medical\", \"medical\", \"medicine\", \"medicine\", \"medicine\", \"megs\", \"megs\", \"mellon\", \"memory\", \"memory\", \"memory\", \"memory\", \"menu\", \"mercury\", \"message\", \"message\", \"message\", \"message\", \"message\", \"message\", \"message\", \"message\", \"meter\", \"meter\", \"microdistrict\", \"microsoft\", \"might\", \"might\", \"might\", \"might\", \"might\", \"might\", \"might\", \"might\", \"might\", \"might\", \"mighty\", \"miles\", \"miles\", \"militia\", \"million\", \"million\", \"million\", \"million\", \"million\", \"million\", \"minister\", \"minister\", \"minnesota\", \"mint\", \"miracles\", \"missing\", \"missing\", \"missing\", \"missing\", \"missing\", \"missing\", \"missing\", \"missing\", \"missing\", \"mission\", \"mission\", \"missions\", \"mode\", \"mode\", \"mode\", \"mode\", \"mode\", \"modem\", \"modem\", \"module\", \"module\", \"module\", \"module\", \"money\", \"money\", \"money\", \"money\", \"money\", \"monitor\", \"monitors\", \"monitors\", \"montreal\", \"moon\", \"moon\", \"moral\", \"moral\", \"moral\", \"morality\", \"mormons\", \"motherboard\", \"motif\", \"motorcycle\", \"motorcycles\", \"mounted\", \"mouse\", \"mouse\", \"much\", \"much\", \"much\", \"much\", \"much\", \"much\", \"much\", \"murder\", \"murder\", \"murder\", \"muslim\", \"muslim\", \"must\", \"must\", \"must\", \"must\", \"must\", \"must\", \"must\", \"must\", \"must\", \"must\", \"must\", \"must\", \"myers\", \"nagorno\", \"name\", \"name\", \"name\", \"name\", \"name\", \"name\", \"name\", \"name\", \"name\", \"name\", \"name\", \"name\", \"nasa\", \"nasa\", \"nasty\", \"national\", \"national\", \"national\", \"national\", \"national\", \"national\", \"navy\", \"navy\", \"navy\", \"nazi\", \"nazi\", \"nazis\", \"ncsl\", \"neck\", \"neck\", \"need\", \"need\", \"need\", \"need\", \"need\", \"need\", \"need\", \"need\", \"need\", \"need\", \"neighbor\", \"neighbor\", \"news\", \"news\", \"news\", \"news\", \"news\", \"news\", \"news\", \"news\", \"news\", \"newsletter\", \"newsletter\", \"nintendo\", \"nist\", \"none\", \"none\", \"none\", \"none\", \"none\", \"none\", \"none\", \"none\", \"normal\", \"normal\", \"normal\", \"normal\", \"normal\", \"normal\", \"normal\", \"normal\", \"norton\", \"norton\", \"nubus\", \"nuclear\", \"nuclear\", \"nuclear\", \"null\", \"null\", \"number\", \"number\", \"number\", \"number\", \"number\", \"number\", \"number\", \"number\", \"number\", \"number\", \"number\", \"number\", \"number\", \"obfuscation\", \"objective\", \"objective\", \"objective\", \"objective\", \"obscure\", \"observatory\", \"occupied\", \"occupied\", \"offense\", \"offense\", \"offenses\", \"offer\", \"offer\", \"offer\", \"offer\", \"offer\", \"offer\", \"offer\", \"offer\", \"office\", \"office\", \"office\", \"office\", \"office\", \"office\", \"office\", \"official\", \"official\", \"official\", \"official\", \"official\", \"official\", \"official\", \"official\", \"offset\", \"olwm\", \"open\", \"open\", \"open\", \"open\", \"open\", \"open\", \"open\", \"open\", \"open\", \"open\", \"openwindows\", \"option\", \"option\", \"option\", \"option\", \"option\", \"option\", \"options\", \"options\", \"options\", \"options\", \"options\", \"orbit\", \"orbital\", \"orientation\", \"orthodox\", \"orthodox\", \"ottoman\", \"outlet\", \"outlets\", \"output\", \"output\", \"output\", \"outs\", \"ozone\", \"packaging\", \"packard\", \"page\", \"page\", \"page\", \"page\", \"page\", \"pain\", \"pain\", \"pain\", \"palestine\", \"palestinian\", \"palestinians\", \"panasonic\", \"paradox\", \"park\", \"park\", \"park\", \"park\", \"part\", \"part\", \"part\", \"part\", \"part\", \"part\", \"part\", \"part\", \"part\", \"part\", \"part\", \"paste\", \"patch\", \"patent\", \"patient\", \"patient\", \"patients\", \"patients\", \"paul\", \"paul\", \"paul\", \"paul\", \"paul\", \"payload\", \"peace\", \"peace\", \"peace\", \"pens\", \"people\", \"people\", \"people\", \"people\", \"people\", \"people\", \"people\", \"people\", \"period\", \"period\", \"period\", \"period\", \"period\", \"period\", \"period\", \"person\", \"person\", \"person\", \"person\", \"person\", \"person\", \"person\", \"person\", \"person\", \"philadelphia\", \"philadelphia\", \"phillies\", \"phone\", \"phone\", \"phone\", \"phone\", \"phone\", \"phone\", \"phone\", \"phones\", \"physician\", \"physicians\", \"picture\", \"picture\", \"picture\", \"picture\", \"picture\", \"pinch\", \"pipes\", \"pitched\", \"pitcher\", \"pitching\", \"pitt\", \"pittsburgh\", \"pittsburgh\", \"pixel\", \"plaintext\", \"planetary\", \"plants\", \"plants\", \"plastic\", \"platforms\", \"play\", \"play\", \"play\", \"play\", \"played\", \"played\", \"played\", \"played\", \"player\", \"player\", \"player\", \"player\", \"players\", \"playoff\", \"playoffs\", \"please\", \"please\", \"please\", \"please\", \"please\", \"please\", \"please\", \"please\", \"please\", \"please\", \"plugs\", \"point\", \"point\", \"point\", \"point\", \"point\", \"point\", \"point\", \"point\", \"point\", \"point\", \"pointer\", \"police\", \"police\", \"police\", \"police\", \"pope\", \"pope\", \"popup\", \"port\", \"port\", \"port\", \"port\", \"ports\", \"ports\", \"ports\", \"postal\", \"postal\", \"posters\", \"postscript\", \"potvin\", \"power\", \"power\", \"power\", \"power\", \"power\", \"power\", \"power\", \"power\", \"power\", \"powerbook\", \"powerpc\", \"prediction\", \"premises\", \"presentations\", \"presentations\", \"president\", \"president\", \"president\", \"president\", \"press\", \"press\", \"press\", \"press\", \"press\", \"press\", \"press\", \"press\", \"pretty\", \"pretty\", \"pretty\", \"pretty\", \"prevention\", \"prevention\", \"price\", \"price\", \"price\", \"price\", \"price\", \"price\", \"price\", \"print\", \"print\", \"printer\", \"printer\", \"printf\", \"printing\", \"printing\", \"printing\", \"prison\", \"prison\", \"prisoners\", \"privacy\", \"private\", \"private\", \"private\", \"private\", \"private\", \"private\", \"probably\", \"probably\", \"probably\", \"probably\", \"probably\", \"probably\", \"probably\", \"probably\", \"probably\", \"probably\", \"problem\", \"problem\", \"problem\", \"problem\", \"problem\", \"problem\", \"problem\", \"problem\", \"proceedings\", \"proceedings\", \"professor\", \"professor\", \"prog\", \"program\", \"program\", \"program\", \"program\", \"program\", \"program\", \"program\", \"programmers\", \"programs\", \"programs\", \"programs\", \"programs\", \"programs\", \"programs\", \"programs\", \"programs\", \"project\", \"project\", \"project\", \"project\", \"projects\", \"projects\", \"projects\", \"property\", \"property\", \"property\", \"prophecy\", \"prophet\", \"proprietary\", \"propulsion\", \"pseudo\", \"public\", \"public\", \"public\", \"public\", \"public\", \"publisher\", \"puck\", \"punisher\", \"push\", \"push\", \"push\", \"push\", \"push\", \"push\", \"quadra\", \"quantities\", \"quantum\", \"quebec\", \"question\", \"question\", \"question\", \"question\", \"question\", \"question\", \"question\", \"quicktime\", \"quotes\", \"radar\", \"radar\", \"radius\", \"radius\", \"rangers\", \"reactions\", \"reactions\", \"read\", \"read\", \"read\", \"read\", \"read\", \"read\", \"read\", \"read\", \"read\", \"really\", \"really\", \"really\", \"really\", \"really\", \"really\", \"really\", \"rear\", \"redesign\", \"refugees\", \"regulated\", \"reilly\", \"reilly\", \"religion\", \"religion\", \"religion\", \"religions\", \"religious\", \"religious\", \"religious\", \"religious\", \"remained\", \"remark\", \"remarks\", \"remarks\", \"reno\", \"reno\", \"reply\", \"reply\", \"reply\", \"reply\", \"reply\", \"reporters\", \"republic\", \"republicans\", \"research\", \"research\", \"research\", \"research\", \"research\", \"research\", \"research\", \"research\", \"reserve\", \"reserve\", \"reserve\", \"resource\", \"resource\", \"resurrection\", \"retail\", \"return\", \"return\", \"return\", \"return\", \"return\", \"return\", \"return\", \"return\", \"return\", \"return\", \"return\", \"revelation\", \"richmond\", \"ride\", \"ride\", \"ride\", \"rider\", \"rider\", \"ridiculous\", \"riding\", \"right\", \"right\", \"right\", \"right\", \"right\", \"right\", \"right\", \"right\", \"right\", \"right\", \"right\", \"rights\", \"rights\", \"rights\", \"rights\", \"rights\", \"rights\", \"ripem\", \"risc\", \"road\", \"road\", \"road\", \"road\", \"road\", \"road\", \"road\", \"road\", \"rocket\", \"rocket\", \"rockets\", \"rockwell\", \"room\", \"room\", \"room\", \"room\", \"room\", \"routines\", \"rules\", \"rules\", \"rules\", \"rules\", \"rules\", \"runs\", \"runs\", \"runs\", \"runs\", \"runs\", \"russia\", \"russia\", \"russian\", \"russian\", \"russian\", \"russians\", \"russians\", \"sabbath\", \"said\", \"said\", \"said\", \"said\", \"said\", \"said\", \"said\", \"salary\", \"sale\", \"sale\", \"sale\", \"salvation\", \"sank\", \"satan\", \"satellite\", \"satellites\", \"says\", \"says\", \"says\", \"says\", \"says\", \"says\", \"scanned\", \"scheme\", \"scheme\", \"scheme\", \"science\", \"science\", \"science\", \"scientific\", \"scientific\", \"scientific\", \"scientific\", \"scientific\", \"scored\", \"scorer\", \"scoring\", \"scratch\", \"scratch\", \"screwed\", \"scripture\", \"scrolls\", \"scsi\", \"sdpa\", \"seagate\", \"season\", \"second\", \"second\", \"second\", \"second\", \"second\", \"second\", \"second\", \"second\", \"second\", \"second\", \"second\", \"second\", \"second\", \"second\", \"secret\", \"secret\", \"secret\", \"secret\", \"secretary\", \"secretary\", \"secretary\", \"section\", \"section\", \"section\", \"section\", \"section\", \"section\", \"secure\", \"secure\", \"secure\", \"security\", \"security\", \"security\", \"security\", \"security\", \"seeds\", \"sega\", \"segment\", \"self\", \"self\", \"self\", \"self\", \"self\", \"self\", \"self\", \"sell\", \"sell\", \"sell\", \"sell\", \"sell\", \"sell\", \"sell\", \"sell\", \"sell\", \"selling\", \"selling\", \"selling\", \"selling\", \"seminar\", \"senator\", \"sender\", \"senior\", \"senior\", \"senior\", \"serdar\", \"server\", \"sexual\", \"shah\", \"shameful\", \"shareware\", \"shine\", \"shipping\", \"shipping\", \"shipping\", \"shipping\", \"shipping\", \"ships\", \"shouting\", \"shuttle\", \"simm\", \"simms\", \"since\", \"since\", \"since\", \"since\", \"since\", \"since\", \"since\", \"since\", \"since\", \"since\", \"since\", \"since\", \"since\", \"sister\", \"size\", \"size\", \"size\", \"size\", \"size\", \"size\", \"skepticism\", \"skin\", \"skin\", \"skin\", \"skip\", \"slave\", \"slave\", \"sleeve\", \"slots\", \"slots\", \"smith\", \"smith\", \"smith\", \"smith\", \"smith\", \"smokeless\", \"snail\", \"social\", \"social\", \"social\", \"social\", \"social\", \"software\", \"software\", \"software\", \"solar\", \"solaris\", \"soldiers\", \"soldiers\", \"soldiers\", \"something\", \"something\", \"something\", \"something\", \"something\", \"something\", \"something\", \"something\", \"soon\", \"soon\", \"soon\", \"soon\", \"soon\", \"soon\", \"soon\", \"soon\", \"sound\", \"sound\", \"sound\", \"sound\", \"source\", \"source\", \"source\", \"source\", \"source\", \"source\", \"source\", \"source\", \"source\", \"source\", \"source\", \"soviet\", \"soviet\", \"soviet\", \"soviet\", \"space\", \"space\", \"space\", \"space\", \"space\", \"spacecraft\", \"special\", \"special\", \"special\", \"special\", \"special\", \"special\", \"special\", \"special\", \"special\", \"special\", \"special\", \"speed\", \"speed\", \"speed\", \"speed\", \"speed\", \"speed\", \"speedstar\", \"spend\", \"spend\", \"spend\", \"spiderman\", \"spirit\", \"spirit\", \"spiritual\", \"ssto\", \"stacker\", \"stanley\", \"stanley\", \"started\", \"started\", \"started\", \"started\", \"started\", \"started\", \"started\", \"state\", \"state\", \"state\", \"state\", \"state\", \"state\", \"state\", \"state\", \"state\", \"states\", \"states\", \"states\", \"states\", \"states\", \"states\", \"station\", \"station\", \"station\", \"stealth\", \"steering\", \"still\", \"still\", \"still\", \"still\", \"still\", \"still\", \"still\", \"still\", \"still\", \"still\", \"still\", \"still\", \"stimulus\", \"stream\", \"stream\", \"street\", \"street\", \"street\", \"street\", \"street\", \"street\", \"strips\", \"stupid\", \"stupid\", \"subject\", \"subject\", \"subject\", \"subject\", \"subject\", \"subject\", \"subject\", \"subject\", \"subject\", \"subject\", \"subject\", \"subject\", \"submissions\", \"suck\", \"sumgait\", \"summaries\", \"sunos\", \"supply\", \"supply\", \"supply\", \"supply\", \"sure\", \"sure\", \"sure\", \"sure\", \"sure\", \"sure\", \"sure\", \"sure\", \"surrender\", \"survivors\", \"svga\", \"symptoms\", \"syria\", \"system\", \"system\", \"system\", \"system\", \"system\", \"system\", \"system\", \"system\", \"system\", \"system\", \"take\", \"take\", \"take\", \"take\", \"take\", \"take\", \"take\", \"take\", \"take\", \"tape\", \"tape\", \"tape\", \"tape\", \"tape\", \"targa\", \"taste\", \"team\", \"team\", \"teams\", \"tear\", \"tear\", \"tear\", \"technology\", \"technology\", \"technology\", \"technology\", \"technology\", \"technology\", \"teel\", \"teel\", \"telescope\", \"terminals\", \"territory\", \"territory\", \"tesla\", \"testament\", \"thanks\", \"thanks\", \"thanks\", \"thanks\", \"thanks\", \"thanks\", \"thanks\", \"thanx\", \"therapy\", \"theta\", \"thing\", \"thing\", \"thing\", \"thing\", \"thing\", \"thing\", \"thing\", \"things\", \"things\", \"things\", \"things\", \"things\", \"things\", \"things\", \"think\", \"think\", \"think\", \"think\", \"think\", \"think\", \"third\", \"third\", \"third\", \"third\", \"third\", \"third\", \"third\", \"third\", \"third\", \"third\", \"third\", \"third\", \"though\", \"though\", \"though\", \"though\", \"though\", \"though\", \"though\", \"though\", \"threat\", \"three\", \"three\", \"three\", \"three\", \"three\", \"three\", \"three\", \"three\", \"three\", \"three\", \"three\", \"thumbs\", \"ticket\", \"ticket\", \"ticket\", \"time\", \"time\", \"time\", \"time\", \"time\", \"time\", \"time\", \"time\", \"time\", \"time\", \"time\", \"time\", \"time\", \"tire\", \"tires\", \"title\", \"title\", \"title\", \"title\", \"tobacco\", \"today\", \"today\", \"today\", \"today\", \"today\", \"today\", \"told\", \"told\", \"told\", \"told\", \"told\", \"told\", \"told\", \"took\", \"took\", \"took\", \"took\", \"took\", \"took\", \"took\", \"took\", \"toolkit\", \"toronto\", \"toronto\", \"toshiba\", \"tower\", \"towers\", \"town\", \"town\", \"town\", \"trades\", \"transfer\", \"transfer\", \"transfer\", \"transfer\", \"transfer\", \"transfer\", \"treatment\", \"treatment\", \"treatment\", \"treatments\", \"trial\", \"trial\", \"trial\", \"true\", \"true\", \"true\", \"true\", \"true\", \"true\", \"true\", \"true\", \"truth\", \"truth\", \"truth\", \"truth\", \"turkey\", \"turkish\", \"turks\", \"twin\", \"udel\", \"unclear\", \"unit\", \"unit\", \"unit\", \"unit\", \"unit\", \"unit\", \"united\", \"united\", \"united\", \"united\", \"universe\", \"universe\", \"university\", \"university\", \"university\", \"university\", \"university\", \"unix\", \"unix\", \"unto\", \"upgrade\", \"upgrade\", \"upgrade\", \"upgrades\", \"upgrading\", \"used\", \"used\", \"used\", \"used\", \"used\", \"used\", \"used\", \"used\", \"used\", \"used\", \"used\", \"user\", \"user\", \"using\", \"using\", \"using\", \"using\", \"using\", \"using\", \"using\", \"using\", \"using\", \"utilities\", \"uuencode\", \"venus\", \"version\", \"version\", \"version\", \"version\", \"version\", \"version\", \"version\", \"version\", \"vesa\", \"veto\", \"vice\", \"vice\", \"vice\", \"vice\", \"victim\", \"video\", \"video\", \"video\", \"video\", \"video\", \"video\", \"violent\", \"visual\", \"voltage\", \"volts\", \"volume\", \"volume\", \"volume\", \"volume\", \"volume\", \"volume\", \"volume\", \"volvo\", \"vpic\", \"vpic\", \"vram\", \"waco\", \"waco\", \"wagon\", \"walker\", \"wanna\", \"want\", \"want\", \"want\", \"want\", \"want\", \"want\", \"want\", \"warrant\", \"warrant\", \"warrant\", \"washington\", \"washington\", \"washington\", \"washington\", \"washington\", \"water\", \"water\", \"water\", \"water\", \"water\", \"water\", \"water\", \"water\", \"weapons\", \"weapons\", \"weaver\", \"weiss\", \"well\", \"well\", \"well\", \"well\", \"well\", \"well\", \"well\", \"well\", \"well\", \"well\", \"went\", \"went\", \"went\", \"went\", \"went\", \"went\", \"went\", \"wheel\", \"wheel\", \"wider\", \"widget\", \"widgets\", \"wife\", \"wife\", \"wife\", \"willis\", \"window\", \"window\", \"window\", \"window\", \"windows\", \"windows\", \"windows\", \"winners\", \"winners\", \"winnipeg\", \"wire\", \"wire\", \"wireless\", \"wires\", \"wiretap\", \"wiring\", \"without\", \"without\", \"without\", \"without\", \"without\", \"without\", \"without\", \"without\", \"without\", \"without\", \"without\", \"witnesses\", \"wolverine\", \"woman\", \"woman\", \"woman\", \"woman\", \"women\", \"women\", \"women\", \"wonder\", \"wonder\", \"wonder\", \"word\", \"word\", \"word\", \"word\", \"word\", \"word\", \"word\", \"word\", \"word\", \"work\", \"work\", \"work\", \"work\", \"work\", \"work\", \"work\", \"work\", \"work\", \"work\", \"work\", \"world\", \"world\", \"world\", \"world\", \"world\", \"world\", \"world\", \"world\", \"world\", \"worship\", \"would\", \"would\", \"would\", \"would\", \"would\", \"would\", \"would\", \"would\", \"would\", \"would\", \"would\", \"would\", \"wrap\", \"wrench\", \"wright\", \"write\", \"write\", \"write\", \"write\", \"write\", \"write\", \"write\", \"write\", \"write\", \"write\", \"wysiwyg\", \"xhost\", \"xlib\", \"xsun\", \"xterm\", \"yankees\", \"yeah\", \"yeah\", \"year\", \"year\", \"year\", \"year\", \"year\", \"year\", \"year\", \"years\", \"years\", \"years\", \"years\", \"years\", \"years\", \"years\", \"years\", \"years\", \"yogurt\", \"zealand\", \"zionism\", \"zionist\"]}, \"R\": 30, \"lambda.step\": 0.01, \"plot.opts\": {\"xlab\": \"PC1\", \"ylab\": \"PC2\"}, \"topic.order\": [17, 20, 14, 10, 5, 1, 18, 7, 8, 13, 9, 19, 2, 12, 4, 15, 16, 11, 6, 3]};\n",
       "\n",
       "function LDAvis_load_lib(url, callback){\n",
       "  var s = document.createElement('script');\n",
       "  s.src = url;\n",
       "  s.async = true;\n",
       "  s.onreadystatechange = s.onload = callback;\n",
       "  s.onerror = function(){console.warn(\"failed to load library \" + url);};\n",
       "  document.getElementsByTagName(\"head\")[0].appendChild(s);\n",
       "}\n",
       "\n",
       "if(typeof(LDAvis) !== \"undefined\"){\n",
       "   // already loaded: just create the visualization\n",
       "   !function(LDAvis){\n",
       "       new LDAvis(\"#\" + \"ldavis_el833214248115931607754309578\", ldavis_el833214248115931607754309578_data);\n",
       "   }(LDAvis);\n",
       "}else if(typeof define === \"function\" && define.amd){\n",
       "   // require.js is available: use it to load d3/LDAvis\n",
       "   require.config({paths: {d3: \"https://cdnjs.cloudflare.com/ajax/libs/d3/3.5.5/d3.min\"}});\n",
       "   require([\"d3\"], function(d3){\n",
       "      window.d3 = d3;\n",
       "      LDAvis_load_lib(\"https://cdn.rawgit.com/bmabey/pyLDAvis/files/ldavis.v1.0.0.js\", function(){\n",
       "        new LDAvis(\"#\" + \"ldavis_el833214248115931607754309578\", ldavis_el833214248115931607754309578_data);\n",
       "      });\n",
       "    });\n",
       "}else{\n",
       "    // require.js not available: dynamically load d3 & LDAvis\n",
       "    LDAvis_load_lib(\"https://cdnjs.cloudflare.com/ajax/libs/d3/3.5.5/d3.min.js\", function(){\n",
       "         LDAvis_load_lib(\"https://cdn.rawgit.com/bmabey/pyLDAvis/files/ldavis.v1.0.0.js\", function(){\n",
       "                 new LDAvis(\"#\" + \"ldavis_el833214248115931607754309578\", ldavis_el833214248115931607754309578_data);\n",
       "            })\n",
       "         });\n",
       "}\n",
       "</script>"
      ],
      "text/plain": [
       "<IPython.core.display.HTML object>"
      ]
     },
     "execution_count": 32,
     "metadata": {},
     "output_type": "execute_result"
    }
   ],
   "source": [
    "import pyLDAvis.gensim\n",
    "pyLDAvis.enable_notebook()\n",
    "vis = pyLDAvis.gensim.prepare(ldamodel, corpus, dictionary)\n",
    "pyLDAvis.display(vis)\n",
    "# LDA 시각화에서는 토픽의 번호가 1부터 시작하므로 각 토픽 번호는  +1이 된 값인 1~20까지의 값을 가진다"
   ]
  },
  {
   "cell_type": "markdown",
   "metadata": {},
   "source": [
    "####  문서 별 토픽 분포 보기"
   ]
  },
  {
   "cell_type": "code",
   "execution_count": 33,
   "metadata": {},
   "outputs": [
    {
     "name": "stdout",
     "output_type": "stream",
     "text": [
      "0 번째 문서의 topic 비율은 [(6, 0.15271), (12, 0.11696361), (16, 0.2394394), (18, 0.21807727), (19, 0.26049656)]\n",
      "1 번째 문서의 topic 비율은 [(2, 0.019819133), (3, 0.027808793), (4, 0.25136828), (11, 0.11916893), (16, 0.5620839)]\n",
      "2 번째 문서의 topic 비율은 [(16, 0.46442324), (18, 0.44838178), (19, 0.07347198)]\n",
      "3 번째 문서의 topic 비율은 [(0, 0.15891664), (1, 0.0923954), (12, 0.33257696), (15, 0.0152028175), (16, 0.28771725), (19, 0.10220491)]\n",
      "4 번째 문서의 topic 비율은 [(1, 0.07956314), (7, 0.39280397), (9, 0.12485452), (16, 0.37313178)]\n",
      "5 번째 문서의 topic 비율은 [(4, 0.14664094), (16, 0.26522908), (17, 0.26302907), (18, 0.29025912)]\n",
      "6 번째 문서의 topic 비율은 [(0, 0.10439249), (8, 0.031824633), (11, 0.081985645), (12, 0.016896414), (13, 0.2751119), (15, 0.01612595), (16, 0.37770456), (17, 0.08748838)]\n",
      "7 번째 문서의 topic 비율은 [(4, 0.1252097), (6, 0.08466403), (8, 0.11922277), (11, 0.017300684), (16, 0.5002893), (18, 0.1418161)]\n",
      "8 번째 문서의 topic 비율은 [(1, 0.09521456), (10, 0.042184565), (14, 0.20553459), (16, 0.3514997), (19, 0.2834717)]\n",
      "9 번째 문서의 topic 비율은 [(0, 0.3074182), (12, 0.19969176), (15, 0.013996759), (16, 0.3960706), (17, 0.07238818)]\n",
      "10 번째 문서의 topic 비율은 [(0, 0.014924472), (6, 0.010451937), (7, 0.012141881), (9, 0.07544053), (13, 0.825784), (17, 0.020852542)]\n",
      "11 번째 문서의 topic 비율은 [(0, 0.23474911), (7, 0.05545775), (8, 0.115791336), (10, 0.1297422), (16, 0.25102654), (17, 0.17972939)]\n",
      "12 번째 문서의 topic 비율은 [(5, 0.70062196), (8, 0.0568783), (16, 0.12976669), (18, 0.06510243)]\n",
      "13 번째 문서의 topic 비율은 [(0, 0.021838538), (4, 0.3644725), (9, 0.023164708), (12, 0.104719535), (14, 0.14380042), (16, 0.33168584)]\n",
      "14 번째 문서의 topic 비율은 [(1, 0.17824073), (13, 0.18255608), (17, 0.49751207)]\n",
      "15 번째 문서의 topic 비율은 [(9, 0.54157615), (12, 0.17104712), (16, 0.14549822), (18, 0.0882723)]\n",
      "16 번째 문서의 topic 비율은 [(2, 0.02022277), (7, 0.01874602), (9, 0.03305722), (12, 0.257272), (16, 0.24473403), (18, 0.10478506), (19, 0.30863017)]\n",
      "17 번째 문서의 topic 비율은 [(7, 0.7006712), (16, 0.2659652)]\n",
      "18 번째 문서의 topic 비율은 [(12, 0.21213496), (13, 0.09300555), (16, 0.4108051), (19, 0.23397578)]\n",
      "19 번째 문서의 topic 비율은 [(4, 0.5715538), (16, 0.3720102), (18, 0.051115755)]\n"
     ]
    }
   ],
   "source": [
    "for i, topic_list in enumerate(ldamodel[corpus]):\n",
    "    if i==20:\n",
    "        break\n",
    "    print(i,'번째 문서의 topic 비율은',topic_list)\n",
    "# (숫자, 확률)은 각각 토픽 번호와 해당 토픽이 해당 문서에서 차지하는 분포도를 의미"
   ]
  },
  {
   "cell_type": "code",
   "execution_count": 34,
   "metadata": {},
   "outputs": [],
   "source": [
    "def make_topictable_per_doc(ldamodel, corpus):\n",
    "    topic_table = pd.DataFrame()\n",
    "\n",
    "    # 몇 번째 문서인지를 의미하는 문서 번호와 해당 문서의 토픽 비중을 한 줄씩 꺼내온다.\n",
    "    for i, topic_list in enumerate(ldamodel[corpus]):\n",
    "        doc = topic_list[0] if ldamodel.per_word_topics else topic_list            \n",
    "        doc = sorted(doc, key=lambda x: (x[1]), reverse=True)\n",
    "        # 각 문서에 대해서 비중이 높은 토픽순으로 토픽을 정렬한다.\n",
    "        # EX) 정렬 전 0번 문서 : (2번 토픽, 48.5%), (8번 토픽, 25%), (10번 토픽, 5%), (12번 토픽, 21.5%), \n",
    "        # Ex) 정렬 후 0번 문서 : (2번 토픽, 48.5%), (8번 토픽, 25%), (12번 토픽, 21.5%), (10번 토픽, 5%)\n",
    "        # 48 > 25 > 21 > 5 순으로 정렬이 된 것.\n",
    "\n",
    "        # 모든 문서에 대해서 각각 아래를 수행\n",
    "        for j, (topic_num, prop_topic) in enumerate(doc): #  몇 번 토픽인지와 비중을 나눠서 저장한다.\n",
    "            if j == 0:  # 정렬을 한 상태이므로 가장 앞에 있는 것이 가장 비중이 높은 토픽\n",
    "                topic_table = topic_table.append(pd.Series([int(topic_num), round(prop_topic,4), topic_list]), ignore_index=True)\n",
    "                # 가장 비중이 높은 토픽과, 가장 비중이 높은 토픽의 비중과, 전체 토픽의 비중을 저장한다.\n",
    "            else:\n",
    "                break\n",
    "    return(topic_table)"
   ]
  },
  {
   "cell_type": "code",
   "execution_count": 35,
   "metadata": {},
   "outputs": [
    {
     "data": {
      "text/html": [
       "<div>\n",
       "<style scoped>\n",
       "    .dataframe tbody tr th:only-of-type {\n",
       "        vertical-align: middle;\n",
       "    }\n",
       "\n",
       "    .dataframe tbody tr th {\n",
       "        vertical-align: top;\n",
       "    }\n",
       "\n",
       "    .dataframe thead th {\n",
       "        text-align: right;\n",
       "    }\n",
       "</style>\n",
       "<table border=\"1\" class=\"dataframe\">\n",
       "  <thead>\n",
       "    <tr style=\"text-align: right;\">\n",
       "      <th></th>\n",
       "      <th>문서 번호</th>\n",
       "      <th>가장 비중이 높은 토픽</th>\n",
       "      <th>가장 높은 토픽의 비중</th>\n",
       "      <th>각 토픽의 비중</th>\n",
       "    </tr>\n",
       "  </thead>\n",
       "  <tbody>\n",
       "    <tr>\n",
       "      <th>0</th>\n",
       "      <td>0</td>\n",
       "      <td>19.0</td>\n",
       "      <td>0.2604</td>\n",
       "      <td>[(6, 0.15271151), (12, 0.11696577), (16, 0.239...</td>\n",
       "    </tr>\n",
       "    <tr>\n",
       "      <th>1</th>\n",
       "      <td>1</td>\n",
       "      <td>16.0</td>\n",
       "      <td>0.5621</td>\n",
       "      <td>[(2, 0.019847138), (3, 0.027808823), (4, 0.251...</td>\n",
       "    </tr>\n",
       "    <tr>\n",
       "      <th>2</th>\n",
       "      <td>2</td>\n",
       "      <td>16.0</td>\n",
       "      <td>0.4644</td>\n",
       "      <td>[(16, 0.46441534), (18, 0.4483791), (19, 0.073...</td>\n",
       "    </tr>\n",
       "    <tr>\n",
       "      <th>3</th>\n",
       "      <td>3</td>\n",
       "      <td>12.0</td>\n",
       "      <td>0.3326</td>\n",
       "      <td>[(0, 0.15890446), (1, 0.092388466), (12, 0.332...</td>\n",
       "    </tr>\n",
       "    <tr>\n",
       "      <th>4</th>\n",
       "      <td>4</td>\n",
       "      <td>7.0</td>\n",
       "      <td>0.3928</td>\n",
       "      <td>[(1, 0.07956557), (7, 0.39279738), (9, 0.12485...</td>\n",
       "    </tr>\n",
       "    <tr>\n",
       "      <th>5</th>\n",
       "      <td>5</td>\n",
       "      <td>18.0</td>\n",
       "      <td>0.2903</td>\n",
       "      <td>[(4, 0.14664227), (16, 0.26524243), (17, 0.263...</td>\n",
       "    </tr>\n",
       "    <tr>\n",
       "      <th>6</th>\n",
       "      <td>6</td>\n",
       "      <td>16.0</td>\n",
       "      <td>0.3777</td>\n",
       "      <td>[(0, 0.104397096), (8, 0.031826667), (11, 0.08...</td>\n",
       "    </tr>\n",
       "    <tr>\n",
       "      <th>7</th>\n",
       "      <td>7</td>\n",
       "      <td>16.0</td>\n",
       "      <td>0.5002</td>\n",
       "      <td>[(4, 0.12525915), (6, 0.084646806), (8, 0.1192...</td>\n",
       "    </tr>\n",
       "    <tr>\n",
       "      <th>8</th>\n",
       "      <td>8</td>\n",
       "      <td>16.0</td>\n",
       "      <td>0.3514</td>\n",
       "      <td>[(1, 0.09521601), (10, 0.04222488), (14, 0.205...</td>\n",
       "    </tr>\n",
       "    <tr>\n",
       "      <th>9</th>\n",
       "      <td>9</td>\n",
       "      <td>16.0</td>\n",
       "      <td>0.3961</td>\n",
       "      <td>[(0, 0.3074203), (12, 0.19969241), (15, 0.0139...</td>\n",
       "    </tr>\n",
       "  </tbody>\n",
       "</table>\n",
       "</div>"
      ],
      "text/plain": [
       "   문서 번호  가장 비중이 높은 토픽  가장 높은 토픽의 비중  \\\n",
       "0      0          19.0        0.2604   \n",
       "1      1          16.0        0.5621   \n",
       "2      2          16.0        0.4644   \n",
       "3      3          12.0        0.3326   \n",
       "4      4           7.0        0.3928   \n",
       "5      5          18.0        0.2903   \n",
       "6      6          16.0        0.3777   \n",
       "7      7          16.0        0.5002   \n",
       "8      8          16.0        0.3514   \n",
       "9      9          16.0        0.3961   \n",
       "\n",
       "                                            각 토픽의 비중  \n",
       "0  [(6, 0.15271151), (12, 0.11696577), (16, 0.239...  \n",
       "1  [(2, 0.019847138), (3, 0.027808823), (4, 0.251...  \n",
       "2  [(16, 0.46441534), (18, 0.4483791), (19, 0.073...  \n",
       "3  [(0, 0.15890446), (1, 0.092388466), (12, 0.332...  \n",
       "4  [(1, 0.07956557), (7, 0.39279738), (9, 0.12485...  \n",
       "5  [(4, 0.14664227), (16, 0.26524243), (17, 0.263...  \n",
       "6  [(0, 0.104397096), (8, 0.031826667), (11, 0.08...  \n",
       "7  [(4, 0.12525915), (6, 0.084646806), (8, 0.1192...  \n",
       "8  [(1, 0.09521601), (10, 0.04222488), (14, 0.205...  \n",
       "9  [(0, 0.3074203), (12, 0.19969241), (15, 0.0139...  "
      ]
     },
     "execution_count": 35,
     "metadata": {},
     "output_type": "execute_result"
    }
   ],
   "source": [
    "topictable = make_topictable_per_doc(ldamodel, corpus)\n",
    "topictable = topictable.reset_index() # 문서 번호을 의미하는 열(column)로 사용하기 위해서 인덱스 열을 하나 더 만든다.\n",
    "topictable.columns = ['문서 번호', '가장 비중이 높은 토픽', '가장 높은 토픽의 비중', '각 토픽의 비중']\n",
    "topictable[:10]"
   ]
  },
  {
   "cell_type": "markdown",
   "metadata": {},
   "source": [
    "###  잠재 디리클레 할당(LDA) 구현 : 뉴스 기사 헤드라인 "
   ]
  },
  {
   "cell_type": "code",
   "execution_count": 36,
   "metadata": {},
   "outputs": [],
   "source": [
    "import pandas as pd\n",
    "import urllib.request\n",
    "urllib.request.urlretrieve(\"https://raw.githubusercontent.com/franciscadias/data/master/abcnews-date-text.csv\", filename=\"abcnews-date-text.csv\")\n",
    "data = pd.read_csv('abcnews-date-text.csv', error_bad_lines=False)\n",
    "# 약 15년 동안 발행되었던 뉴스 기사 제목을 모아놓은 영어 데이터"
   ]
  },
  {
   "cell_type": "code",
   "execution_count": 37,
   "metadata": {},
   "outputs": [
    {
     "name": "stdout",
     "output_type": "stream",
     "text": [
      "1082168\n"
     ]
    }
   ],
   "source": [
    "print(len(data)) #약 100만개"
   ]
  },
  {
   "cell_type": "code",
   "execution_count": 38,
   "metadata": {},
   "outputs": [
    {
     "name": "stdout",
     "output_type": "stream",
     "text": [
      "   publish_date                                      headline_text\n",
      "0      20030219  aba decides against community broadcasting lic...\n",
      "1      20030219     act fire witnesses must be aware of defamation\n",
      "2      20030219     a g calls for infrastructure protection summit\n",
      "3      20030219           air nz staff in aust strike for pay rise\n",
      "4      20030219      air nz strike to affect australian travellers\n"
     ]
    }
   ],
   "source": [
    "print(data.head(5))"
   ]
  },
  {
   "cell_type": "code",
   "execution_count": 39,
   "metadata": {},
   "outputs": [
    {
     "data": {
      "text/html": [
       "<div>\n",
       "<style scoped>\n",
       "    .dataframe tbody tr th:only-of-type {\n",
       "        vertical-align: middle;\n",
       "    }\n",
       "\n",
       "    .dataframe tbody tr th {\n",
       "        vertical-align: top;\n",
       "    }\n",
       "\n",
       "    .dataframe thead th {\n",
       "        text-align: right;\n",
       "    }\n",
       "</style>\n",
       "<table border=\"1\" class=\"dataframe\">\n",
       "  <thead>\n",
       "    <tr style=\"text-align: right;\">\n",
       "      <th></th>\n",
       "      <th>headline_text</th>\n",
       "    </tr>\n",
       "  </thead>\n",
       "  <tbody>\n",
       "    <tr>\n",
       "      <th>0</th>\n",
       "      <td>aba decides against community broadcasting lic...</td>\n",
       "    </tr>\n",
       "    <tr>\n",
       "      <th>1</th>\n",
       "      <td>act fire witnesses must be aware of defamation</td>\n",
       "    </tr>\n",
       "    <tr>\n",
       "      <th>2</th>\n",
       "      <td>a g calls for infrastructure protection summit</td>\n",
       "    </tr>\n",
       "    <tr>\n",
       "      <th>3</th>\n",
       "      <td>air nz staff in aust strike for pay rise</td>\n",
       "    </tr>\n",
       "    <tr>\n",
       "      <th>4</th>\n",
       "      <td>air nz strike to affect australian travellers</td>\n",
       "    </tr>\n",
       "  </tbody>\n",
       "</table>\n",
       "</div>"
      ],
      "text/plain": [
       "                                       headline_text\n",
       "0  aba decides against community broadcasting lic...\n",
       "1     act fire witnesses must be aware of defamation\n",
       "2     a g calls for infrastructure protection summit\n",
       "3           air nz staff in aust strike for pay rise\n",
       "4      air nz strike to affect australian travellers"
      ]
     },
     "execution_count": 39,
     "metadata": {},
     "output_type": "execute_result"
    }
   ],
   "source": [
    "text = data[['headline_text']]\n",
    "text.head(5)"
   ]
  },
  {
   "cell_type": "markdown",
   "metadata": {},
   "source": [
    "### 텍스트 전처리"
   ]
  },
  {
   "cell_type": "code",
   "execution_count": 40,
   "metadata": {},
   "outputs": [
    {
     "name": "stderr",
     "output_type": "stream",
     "text": [
      "C:\\ProgramData\\Anaconda3\\envs\\tf20\\lib\\site-packages\\ipykernel_launcher.py:4: SettingWithCopyWarning: \n",
      "A value is trying to be set on a copy of a slice from a DataFrame.\n",
      "Try using .loc[row_indexer,col_indexer] = value instead\n",
      "\n",
      "See the caveats in the documentation: https://pandas.pydata.org/pandas-docs/stable/user_guide/indexing.html#returning-a-view-versus-a-copy\n",
      "  after removing the cwd from sys.path.\n"
     ]
    }
   ],
   "source": [
    "import nltk\n",
    "\n",
    "# 단어 토큰화수행 : nltk.word_tokenize\n",
    "text['headline_text'] = text.apply(lambda row: nltk.word_tokenize(row['headline_text']), axis=1) "
   ]
  },
  {
   "cell_type": "code",
   "execution_count": 41,
   "metadata": {},
   "outputs": [
    {
     "name": "stdout",
     "output_type": "stream",
     "text": [
      "                                       headline_text\n",
      "0  [aba, decides, against, community, broadcastin...\n",
      "1  [act, fire, witnesses, must, be, aware, of, de...\n",
      "2  [a, g, calls, for, infrastructure, protection,...\n",
      "3  [air, nz, staff, in, aust, strike, for, pay, r...\n",
      "4  [air, nz, strike, to, affect, australian, trav...\n"
     ]
    }
   ],
   "source": [
    "print(text.head(5))"
   ]
  },
  {
   "cell_type": "code",
   "execution_count": 42,
   "metadata": {},
   "outputs": [
    {
     "name": "stderr",
     "output_type": "stream",
     "text": [
      "C:\\ProgramData\\Anaconda3\\envs\\tf20\\lib\\site-packages\\ipykernel_launcher.py:3: SettingWithCopyWarning: \n",
      "A value is trying to be set on a copy of a slice from a DataFrame.\n",
      "Try using .loc[row_indexer,col_indexer] = value instead\n",
      "\n",
      "See the caveats in the documentation: https://pandas.pydata.org/pandas-docs/stable/user_guide/indexing.html#returning-a-view-versus-a-copy\n",
      "  This is separate from the ipykernel package so we can avoid doing imports until\n"
     ]
    }
   ],
   "source": [
    "from nltk.corpus import stopwords\n",
    "stop = stopwords.words('english')\n",
    "text['headline_text'] = text['headline_text'].apply(lambda x: [word for word in x if word not in (stop)]) # 불용어 제거"
   ]
  },
  {
   "cell_type": "code",
   "execution_count": 43,
   "metadata": {},
   "outputs": [
    {
     "name": "stdout",
     "output_type": "stream",
     "text": [
      "                                       headline_text\n",
      "0   [aba, decides, community, broadcasting, licence]\n",
      "1    [act, fire, witnesses, must, aware, defamation]\n",
      "2     [g, calls, infrastructure, protection, summit]\n",
      "3          [air, nz, staff, aust, strike, pay, rise]\n",
      "4  [air, nz, strike, affect, australian, travellers]\n"
     ]
    }
   ],
   "source": [
    "print(text.head(5))"
   ]
  },
  {
   "cell_type": "code",
   "execution_count": 44,
   "metadata": {},
   "outputs": [
    {
     "name": "stdout",
     "output_type": "stream",
     "text": [
      "                                       headline_text\n",
      "0       [aba, decide, community, broadcast, licence]\n",
      "1      [act, fire, witness, must, aware, defamation]\n",
      "2      [g, call, infrastructure, protection, summit]\n",
      "3          [air, nz, staff, aust, strike, pay, rise]\n",
      "4  [air, nz, strike, affect, australian, travellers]\n"
     ]
    },
    {
     "name": "stderr",
     "output_type": "stream",
     "text": [
      "C:\\ProgramData\\Anaconda3\\envs\\tf20\\lib\\site-packages\\ipykernel_launcher.py:2: SettingWithCopyWarning: \n",
      "A value is trying to be set on a copy of a slice from a DataFrame.\n",
      "Try using .loc[row_indexer,col_indexer] = value instead\n",
      "\n",
      "See the caveats in the documentation: https://pandas.pydata.org/pandas-docs/stable/user_guide/indexing.html#returning-a-view-versus-a-copy\n",
      "  \n"
     ]
    }
   ],
   "source": [
    "from nltk.stem import WordNetLemmatizer\n",
    "text['headline_text'] = text['headline_text'].apply(lambda x: [WordNetLemmatizer().lemmatize(word, pos='v') for word in x]) # 표제어 추출\n",
    "print(text.head(5))"
   ]
  },
  {
   "cell_type": "code",
   "execution_count": 45,
   "metadata": {},
   "outputs": [
    {
     "name": "stdout",
     "output_type": "stream",
     "text": [
      "0       [decide, community, broadcast, licence]\n",
      "1      [fire, witness, must, aware, defamation]\n",
      "2    [call, infrastructure, protection, summit]\n",
      "3                   [staff, aust, strike, rise]\n",
      "4      [strike, affect, australian, travellers]\n",
      "Name: headline_text, dtype: object\n"
     ]
    }
   ],
   "source": [
    "tokenized_doc = text['headline_text'].apply(lambda x: [word for word in x if len(word) > 3])  # 길이가 3이하인 단어에 제거\n",
    "print(tokenized_doc[:5])"
   ]
  },
  {
   "cell_type": "markdown",
   "metadata": {},
   "source": [
    "#### TF-IDF 행렬 만들기"
   ]
  },
  {
   "cell_type": "code",
   "execution_count": 46,
   "metadata": {},
   "outputs": [
    {
     "name": "stderr",
     "output_type": "stream",
     "text": [
      "C:\\ProgramData\\Anaconda3\\envs\\tf20\\lib\\site-packages\\ipykernel_launcher.py:7: SettingWithCopyWarning: \n",
      "A value is trying to be set on a copy of a slice from a DataFrame.\n",
      "Try using .loc[row_indexer,col_indexer] = value instead\n",
      "\n",
      "See the caveats in the documentation: https://pandas.pydata.org/pandas-docs/stable/user_guide/indexing.html#returning-a-view-versus-a-copy\n",
      "  import sys\n"
     ]
    }
   ],
   "source": [
    "# 역토큰화 (토큰화 작업을 되돌림)\n",
    "detokenized_doc = []\n",
    "for i in range(len(text)):\n",
    "    t = ' '.join(tokenized_doc[i])\n",
    "    detokenized_doc.append(t)\n",
    "\n",
    "text['headline_text'] = detokenized_doc # 다시 text['headline_text']에 재저장"
   ]
  },
  {
   "cell_type": "code",
   "execution_count": 47,
   "metadata": {},
   "outputs": [
    {
     "data": {
      "text/plain": [
       "0       decide community broadcast licence\n",
       "1       fire witness must aware defamation\n",
       "2    call infrastructure protection summit\n",
       "3                   staff aust strike rise\n",
       "4      strike affect australian travellers\n",
       "Name: headline_text, dtype: object"
      ]
     },
     "execution_count": 47,
     "metadata": {},
     "output_type": "execute_result"
    }
   ],
   "source": [
    "text['headline_text'][:5]"
   ]
  },
  {
   "cell_type": "code",
   "execution_count": 48,
   "metadata": {},
   "outputs": [
    {
     "data": {
      "text/plain": [
       "(1082168, 1000)"
      ]
     },
     "execution_count": 48,
     "metadata": {},
     "output_type": "execute_result"
    }
   ],
   "source": [
    "from sklearn.feature_extraction.text import TfidfVectorizer\n",
    "vectorizer = TfidfVectorizer(stop_words='english', \n",
    "max_features= 1000) # 상위 1,000개의 단어를 보존 \n",
    "X = vectorizer.fit_transform(text['headline_text'])\n",
    "X.shape # TF-IDF 행렬의 크기 확인"
   ]
  },
  {
   "cell_type": "markdown",
   "metadata": {},
   "source": [
    "####  토픽 모델링"
   ]
  },
  {
   "cell_type": "code",
   "execution_count": 49,
   "metadata": {},
   "outputs": [],
   "source": [
    "from sklearn.decomposition import LatentDirichletAllocation\n",
    "lda_model=LatentDirichletAllocation(n_components=10,learning_method='online',random_state=777,max_iter=1)"
   ]
  },
  {
   "cell_type": "code",
   "execution_count": 50,
   "metadata": {},
   "outputs": [],
   "source": [
    "lda_top = lda_model.fit_transform(X)"
   ]
  },
  {
   "cell_type": "code",
   "execution_count": 51,
   "metadata": {},
   "outputs": [
    {
     "name": "stdout",
     "output_type": "stream",
     "text": [
      "[[1.00001533e-01 1.00001269e-01 1.00004179e-01 ... 1.00006124e-01\n",
      "  1.00003111e-01 1.00003064e-01]\n",
      " [1.00001199e-01 1.13513398e+03 3.50170830e+03 ... 1.00009349e-01\n",
      "  1.00001896e-01 1.00002937e-01]\n",
      " [1.00001811e-01 1.00001151e-01 1.00003566e-01 ... 1.00002693e-01\n",
      "  1.00002061e-01 7.53381835e+02]\n",
      " ...\n",
      " [1.00001065e-01 1.00001689e-01 1.00003278e-01 ... 1.00006721e-01\n",
      "  1.00004902e-01 1.00004759e-01]\n",
      " [1.00002401e-01 1.00000732e-01 1.00002989e-01 ... 1.00003517e-01\n",
      "  1.00001428e-01 1.00005266e-01]\n",
      " [1.00003427e-01 1.00002313e-01 1.00007340e-01 ... 1.00003732e-01\n",
      "  1.00001207e-01 1.00005153e-01]]\n",
      "(10, 1000)\n"
     ]
    }
   ],
   "source": [
    "print(lda_model.components_)\n",
    "print(lda_model.components_.shape) "
   ]
  },
  {
   "cell_type": "code",
   "execution_count": 52,
   "metadata": {},
   "outputs": [
    {
     "name": "stdout",
     "output_type": "stream",
     "text": [
      "Topic 1: [('government', 8725.19), ('sydney', 8393.29), ('queensland', 7720.12), ('change', 5874.27), ('home', 5674.38)]\n",
      "Topic 2: [('australia', 13691.08), ('australian', 11088.95), ('melbourne', 7528.43), ('world', 6707.7), ('south', 6677.03)]\n",
      "Topic 3: [('death', 5935.06), ('interview', 5924.98), ('kill', 5851.6), ('jail', 4632.85), ('life', 4275.27)]\n",
      "Topic 4: [('house', 6113.49), ('2016', 5488.19), ('state', 4923.41), ('brisbane', 4857.21), ('tasmania', 4610.97)]\n",
      "Topic 5: [('court', 7542.74), ('attack', 6959.64), ('open', 5663.0), ('face', 5193.63), ('warn', 5115.01)]\n",
      "Topic 6: [('market', 5545.86), ('rural', 5502.89), ('plan', 4828.71), ('indigenous', 4223.4), ('power', 3968.26)]\n",
      "Topic 7: [('charge', 8428.8), ('election', 7561.63), ('adelaide', 6758.36), ('make', 5658.99), ('test', 5062.69)]\n",
      "Topic 8: [('police', 12092.44), ('crash', 5281.14), ('drug', 4290.87), ('beat', 3257.58), ('rise', 2934.92)]\n",
      "Topic 9: [('fund', 4693.03), ('labor', 4047.69), ('national', 4038.68), ('council', 4006.62), ('claim', 3604.75)]\n",
      "Topic 10: [('trump', 11966.41), ('perth', 6456.53), ('report', 5611.33), ('school', 5465.06), ('woman', 5456.76)]\n"
     ]
    }
   ],
   "source": [
    "terms = vectorizer.get_feature_names() # 단어 집합. 1,000개의 단어가 저장됨.\n",
    "\n",
    "def get_topics(components, feature_names, n=5):\n",
    "    for idx, topic in enumerate(components):\n",
    "        print(\"Topic %d:\" % (idx+1), [(feature_names[i], topic[i].round(2)) for i in topic.argsort()[:-n - 1:-1]])\n",
    "        \n",
    "get_topics(lda_model.components_,terms)"
   ]
  },
  {
   "cell_type": "code",
   "execution_count": null,
   "metadata": {},
   "outputs": [],
   "source": []
  }
 ],
 "metadata": {
  "kernelspec": {
   "display_name": "Python 3",
   "language": "python",
   "name": "python3"
  },
  "language_info": {
   "codemirror_mode": {
    "name": "ipython",
    "version": 3
   },
   "file_extension": ".py",
   "mimetype": "text/x-python",
   "name": "python",
   "nbconvert_exporter": "python",
   "pygments_lexer": "ipython3",
   "version": "3.7.7"
  }
 },
 "nbformat": 4,
 "nbformat_minor": 4
}
